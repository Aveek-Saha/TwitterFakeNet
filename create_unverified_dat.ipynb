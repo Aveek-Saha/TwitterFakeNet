{
 "cells": [
  {
   "cell_type": "code",
   "execution_count": 1,
   "metadata": {},
   "outputs": [],
   "source": [
    "import pandas as pd"
   ]
  },
  {
   "cell_type": "code",
   "execution_count": 2,
   "metadata": {},
   "outputs": [],
   "source": [
    "df = pd.read_csv(\"datasets/unverified_features_4k.csv\")"
   ]
  },
  {
   "cell_type": "code",
   "execution_count": 3,
   "metadata": {},
   "outputs": [],
   "source": [
    "dat = df[[\"uid\", \"name\", \"friends\", \"friends_count\", \n",
    "                        \"followers_count\", \"listed_count\", \"statuses_count\", \n",
    "                        \"created_at\", \"url\", \"avatar\", \"location\"]]"
   ]
  },
  {
   "cell_type": "code",
   "execution_count": 4,
   "metadata": {},
   "outputs": [],
   "source": [
    "# dat = dat.astype({\"friends_count\": int, \"followers_count\": int, \"listed_count\": int, \"statuses_count\": int})"
   ]
  },
  {
   "cell_type": "code",
   "execution_count": 5,
   "metadata": {},
   "outputs": [],
   "source": [
    "# columns_titles = [\"uid\", \"name\", \"followers_count\",\"friends_count\", \"listed_count\", \"statuses_count\"]\n",
    "# dat=dat.reindex(columns=columns_titles)"
   ]
  },
  {
   "cell_type": "code",
   "execution_count": 6,
   "metadata": {},
   "outputs": [
    {
     "data": {
      "text/html": [
       "<div>\n",
       "<style scoped>\n",
       "    .dataframe tbody tr th:only-of-type {\n",
       "        vertical-align: middle;\n",
       "    }\n",
       "\n",
       "    .dataframe tbody tr th {\n",
       "        vertical-align: top;\n",
       "    }\n",
       "\n",
       "    .dataframe thead th {\n",
       "        text-align: right;\n",
       "    }\n",
       "</style>\n",
       "<table border=\"1\" class=\"dataframe\">\n",
       "  <thead>\n",
       "    <tr style=\"text-align: right;\">\n",
       "      <th></th>\n",
       "      <th>uid</th>\n",
       "      <th>name</th>\n",
       "      <th>friends</th>\n",
       "      <th>friends_count</th>\n",
       "      <th>followers_count</th>\n",
       "      <th>listed_count</th>\n",
       "      <th>statuses_count</th>\n",
       "      <th>created_at</th>\n",
       "      <th>url</th>\n",
       "      <th>avatar</th>\n",
       "      <th>location</th>\n",
       "    </tr>\n",
       "  </thead>\n",
       "  <tbody>\n",
       "    <tr>\n",
       "      <td>0</td>\n",
       "      <td>14669951</td>\n",
       "      <td>DRUDGE REPORT</td>\n",
       "      <td>friends</td>\n",
       "      <td>2</td>\n",
       "      <td>1378378</td>\n",
       "      <td>21171</td>\n",
       "      <td>237720</td>\n",
       "      <td>Tue May 06 05:34:47 +0000 2008</td>\n",
       "      <td>http://t.co/dsLXEBfDsQ</td>\n",
       "      <td>https://pbs.twimg.com/profile_images/53808884/...</td>\n",
       "      <td>US</td>\n",
       "    </tr>\n",
       "    <tr>\n",
       "      <td>1</td>\n",
       "      <td>1754641</td>\n",
       "      <td>NYT Business</td>\n",
       "      <td>friends</td>\n",
       "      <td>441</td>\n",
       "      <td>786607</td>\n",
       "      <td>14628</td>\n",
       "      <td>207256</td>\n",
       "      <td>Wed Mar 21 14:49:39 +0000 2007</td>\n",
       "      <td>http://t.co/OKrfdBy4ch</td>\n",
       "      <td>https://pbs.twimg.com/profile_images/963826250...</td>\n",
       "      <td>New York, NY</td>\n",
       "    </tr>\n",
       "    <tr>\n",
       "      <td>2</td>\n",
       "      <td>24733117</td>\n",
       "      <td>Jeffrey Levin</td>\n",
       "      <td>friends</td>\n",
       "      <td>0</td>\n",
       "      <td>610302</td>\n",
       "      <td>5754</td>\n",
       "      <td>611789</td>\n",
       "      <td>Mon Mar 16 17:42:55 +0000 2009</td>\n",
       "      <td>https://t.co/S3UXcXprn9</td>\n",
       "      <td>https://pbs.twimg.com/profile_images/826519476...</td>\n",
       "      <td>San Jose, CA</td>\n",
       "    </tr>\n",
       "    <tr>\n",
       "      <td>3</td>\n",
       "      <td>3863605355</td>\n",
       "      <td>History Lovers Club</td>\n",
       "      <td>friends</td>\n",
       "      <td>0</td>\n",
       "      <td>547308</td>\n",
       "      <td>5048</td>\n",
       "      <td>254351</td>\n",
       "      <td>Sun Oct 04 17:25:59 +0000 2015</td>\n",
       "      <td>https://t.co/gggmdpuCSK</td>\n",
       "      <td>https://pbs.twimg.com/profile_images/111175905...</td>\n",
       "      <td>London, England</td>\n",
       "    </tr>\n",
       "    <tr>\n",
       "      <td>4</td>\n",
       "      <td>53036660</td>\n",
       "      <td>GLAMOUR South Africa</td>\n",
       "      <td>friends</td>\n",
       "      <td>864</td>\n",
       "      <td>500713</td>\n",
       "      <td>357</td>\n",
       "      <td>36650</td>\n",
       "      <td>Thu Jul 02 11:25:20 +0000 2009</td>\n",
       "      <td>https://t.co/3WA7d5ciQJ</td>\n",
       "      <td>https://pbs.twimg.com/profile_images/103042295...</td>\n",
       "      <td>South Africa</td>\n",
       "    </tr>\n",
       "  </tbody>\n",
       "</table>\n",
       "</div>"
      ],
      "text/plain": [
       "          uid                  name  friends friends_count followers_count  \\\n",
       "0    14669951         DRUDGE REPORT  friends             2         1378378   \n",
       "1     1754641          NYT Business  friends           441          786607   \n",
       "2    24733117         Jeffrey Levin  friends             0          610302   \n",
       "3  3863605355   History Lovers Club  friends             0          547308   \n",
       "4    53036660  GLAMOUR South Africa  friends           864          500713   \n",
       "\n",
       "  listed_count statuses_count                      created_at  \\\n",
       "0        21171         237720  Tue May 06 05:34:47 +0000 2008   \n",
       "1        14628         207256  Wed Mar 21 14:49:39 +0000 2007   \n",
       "2         5754         611789  Mon Mar 16 17:42:55 +0000 2009   \n",
       "3         5048         254351  Sun Oct 04 17:25:59 +0000 2015   \n",
       "4          357          36650  Thu Jul 02 11:25:20 +0000 2009   \n",
       "\n",
       "                       url                                             avatar  \\\n",
       "0   http://t.co/dsLXEBfDsQ  https://pbs.twimg.com/profile_images/53808884/...   \n",
       "1   http://t.co/OKrfdBy4ch  https://pbs.twimg.com/profile_images/963826250...   \n",
       "2  https://t.co/S3UXcXprn9  https://pbs.twimg.com/profile_images/826519476...   \n",
       "3  https://t.co/gggmdpuCSK  https://pbs.twimg.com/profile_images/111175905...   \n",
       "4  https://t.co/3WA7d5ciQJ  https://pbs.twimg.com/profile_images/103042295...   \n",
       "\n",
       "          location  \n",
       "0               US  \n",
       "1     New York, NY  \n",
       "2     San Jose, CA  \n",
       "3  London, England  \n",
       "4     South Africa  "
      ]
     },
     "execution_count": 6,
     "metadata": {},
     "output_type": "execute_result"
    }
   ],
   "source": [
    "dat.head()"
   ]
  },
  {
   "cell_type": "code",
   "execution_count": 7,
   "metadata": {},
   "outputs": [
    {
     "name": "stdout",
     "output_type": "stream",
     "text": [
      "<class 'pandas.core.frame.DataFrame'>\n",
      "RangeIndex: 3563 entries, 0 to 3562\n",
      "Data columns (total 11 columns):\n",
      "uid                3563 non-null object\n",
      "name               3562 non-null object\n",
      "friends            3561 non-null object\n",
      "friends_count      3562 non-null object\n",
      "followers_count    3562 non-null object\n",
      "listed_count       3562 non-null object\n",
      "statuses_count     3562 non-null object\n",
      "created_at         3561 non-null object\n",
      "url                2175 non-null object\n",
      "avatar             3560 non-null object\n",
      "location           2927 non-null object\n",
      "dtypes: object(11)\n",
      "memory usage: 306.3+ KB\n"
     ]
    }
   ],
   "source": [
    "dat.info()"
   ]
  },
  {
   "cell_type": "code",
   "execution_count": 8,
   "metadata": {},
   "outputs": [],
   "source": [
    "dat.to_csv('datasets/unverified.dat', header=False, index=False)"
   ]
  },
  {
   "cell_type": "code",
   "execution_count": null,
   "metadata": {},
   "outputs": [],
   "source": []
  }
 ],
 "metadata": {
  "kernelspec": {
   "display_name": "Python 3",
   "language": "python",
   "name": "python3"
  },
  "language_info": {
   "codemirror_mode": {
    "name": "ipython",
    "version": 3
   },
   "file_extension": ".py",
   "mimetype": "text/x-python",
   "name": "python",
   "nbconvert_exporter": "python",
   "pygments_lexer": "ipython3",
   "version": "3.7.4"
  }
 },
 "nbformat": 4,
 "nbformat_minor": 2
}
