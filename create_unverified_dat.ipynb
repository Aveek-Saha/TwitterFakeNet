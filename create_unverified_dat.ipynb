{
 "cells": [
  {
   "cell_type": "code",
   "execution_count": 1,
   "metadata": {},
   "outputs": [],
   "source": [
    "import pandas as pd"
   ]
  },
  {
   "cell_type": "code",
   "execution_count": 2,
   "metadata": {},
   "outputs": [],
   "source": [
    "df = pd.read_csv(\"datasets/unverified_features_all_6k.csv\")"
   ]
  },
  {
   "cell_type": "code",
   "execution_count": 3,
   "metadata": {},
   "outputs": [],
   "source": [
    "dat = df[[\"uid\", \"name\", \"friends_count\", \n",
    "                        \"followers_count\", \"listed_count\", \"statuses_count\"]]"
   ]
  },
  {
   "cell_type": "code",
   "execution_count": 4,
   "metadata": {},
   "outputs": [],
   "source": [
    "dat = dat.astype({\"friends_count\": int, \"followers_count\": int, \"listed_count\": int, \"statuses_count\": int})"
   ]
  },
  {
   "cell_type": "code",
   "execution_count": 5,
   "metadata": {},
   "outputs": [],
   "source": [
    "columns_titles = [\"uid\", \"name\", \"followers_count\",\"friends_count\", \"listed_count\", \"statuses_count\"]b\n",
    "dat=dat.reindex(columns=columns_titles)"
   ]
  },
  {
   "cell_type": "code",
   "execution_count": 6,
   "metadata": {},
   "outputs": [
    {
     "data": {
      "text/html": [
       "<div>\n",
       "<style scoped>\n",
       "    .dataframe tbody tr th:only-of-type {\n",
       "        vertical-align: middle;\n",
       "    }\n",
       "\n",
       "    .dataframe tbody tr th {\n",
       "        vertical-align: top;\n",
       "    }\n",
       "\n",
       "    .dataframe thead th {\n",
       "        text-align: right;\n",
       "    }\n",
       "</style>\n",
       "<table border=\"1\" class=\"dataframe\">\n",
       "  <thead>\n",
       "    <tr style=\"text-align: right;\">\n",
       "      <th></th>\n",
       "      <th>uid</th>\n",
       "      <th>name</th>\n",
       "      <th>followers_count</th>\n",
       "      <th>friends_count</th>\n",
       "      <th>listed_count</th>\n",
       "      <th>statuses_count</th>\n",
       "    </tr>\n",
       "  </thead>\n",
       "  <tbody>\n",
       "    <tr>\n",
       "      <th>0</th>\n",
       "      <td>1754641</td>\n",
       "      <td>NYT Business</td>\n",
       "      <td>786607</td>\n",
       "      <td>441</td>\n",
       "      <td>14628</td>\n",
       "      <td>207256</td>\n",
       "    </tr>\n",
       "    <tr>\n",
       "      <th>1</th>\n",
       "      <td>24733117</td>\n",
       "      <td>Jeffrey Levin</td>\n",
       "      <td>610302</td>\n",
       "      <td>0</td>\n",
       "      <td>5754</td>\n",
       "      <td>611789</td>\n",
       "    </tr>\n",
       "    <tr>\n",
       "      <th>2</th>\n",
       "      <td>3863605355</td>\n",
       "      <td>History Lovers Club</td>\n",
       "      <td>547308</td>\n",
       "      <td>0</td>\n",
       "      <td>5048</td>\n",
       "      <td>254351</td>\n",
       "    </tr>\n",
       "    <tr>\n",
       "      <th>3</th>\n",
       "      <td>53036660</td>\n",
       "      <td>GLAMOUR South Africa</td>\n",
       "      <td>500713</td>\n",
       "      <td>864</td>\n",
       "      <td>357</td>\n",
       "      <td>36650</td>\n",
       "    </tr>\n",
       "    <tr>\n",
       "      <th>4</th>\n",
       "      <td>270106571</td>\n",
       "      <td>Brotips</td>\n",
       "      <td>464301</td>\n",
       "      <td>58</td>\n",
       "      <td>1503</td>\n",
       "      <td>88299</td>\n",
       "    </tr>\n",
       "  </tbody>\n",
       "</table>\n",
       "</div>"
      ],
      "text/plain": [
       "          uid                  name  followers_count  friends_count  \\\n",
       "0     1754641          NYT Business           786607            441   \n",
       "1    24733117         Jeffrey Levin           610302              0   \n",
       "2  3863605355   History Lovers Club           547308              0   \n",
       "3    53036660  GLAMOUR South Africa           500713            864   \n",
       "4   270106571               Brotips           464301             58   \n",
       "\n",
       "   listed_count  statuses_count  \n",
       "0         14628          207256  \n",
       "1          5754          611789  \n",
       "2          5048          254351  \n",
       "3           357           36650  \n",
       "4          1503           88299  "
      ]
     },
     "execution_count": 6,
     "metadata": {},
     "output_type": "execute_result"
    }
   ],
   "source": [
    "dat.head()"
   ]
  },
  {
   "cell_type": "code",
   "execution_count": 8,
   "metadata": {},
   "outputs": [
    {
     "name": "stdout",
     "output_type": "stream",
     "text": [
      "<class 'pandas.core.frame.DataFrame'>\n",
      "RangeIndex: 4209 entries, 0 to 4208\n",
      "Data columns (total 6 columns):\n",
      "uid                4209 non-null int64\n",
      "name               4209 non-null object\n",
      "followers_count    4209 non-null int64\n",
      "friends_count      4209 non-null int64\n",
      "listed_count       4209 non-null int64\n",
      "statuses_count     4209 non-null int64\n",
      "dtypes: int64(5), object(1)\n",
      "memory usage: 197.4+ KB\n"
     ]
    }
   ],
   "source": [
    "dat.info()"
   ]
  },
  {
   "cell_type": "code",
   "execution_count": 7,
   "metadata": {},
   "outputs": [],
   "source": [
    "dat.to_csv('datasets/unverified.dat', header=False, index=False)"
   ]
  },
  {
   "cell_type": "code",
   "execution_count": null,
   "metadata": {},
   "outputs": [],
   "source": []
  }
 ],
 "metadata": {
  "kernelspec": {
   "display_name": "Python 3",
   "language": "python",
   "name": "python3"
  },
  "language_info": {
   "codemirror_mode": {
    "name": "ipython",
    "version": 3
   },
   "file_extension": ".py",
   "mimetype": "text/x-python",
   "name": "python",
   "nbconvert_exporter": "python",
   "pygments_lexer": "ipython3",
   "version": "3.6.9"
  }
 },
 "nbformat": 4,
 "nbformat_minor": 2
}
