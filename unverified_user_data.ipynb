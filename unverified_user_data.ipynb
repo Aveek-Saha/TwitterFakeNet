{
 "cells": [
  {
   "cell_type": "code",
   "execution_count": 1,
   "metadata": {},
   "outputs": [],
   "source": [
    "import json\n",
    "import os\n",
    "import glob\n",
    "import pprint\n",
    "from tqdm import tqdm\n",
    "from collections import Counter\n",
    "\n",
    "import pandas as pd\n",
    "import matplotlib.pyplot as plt"
   ]
  },
  {
   "cell_type": "code",
   "execution_count": 2,
   "metadata": {},
   "outputs": [],
   "source": [
    "df = pd.read_csv(\"datasets/verified.dat\", \n",
    "                 names=[\"uid\", \"name\", \"friends\", \"friends_count\", \n",
    "                        \"followers_count\", \"listed_count\", \"statuses_count\", \n",
    "                        \"created_at\", \"url\", \"avatar\", \"location\"])"
   ]
  },
  {
   "cell_type": "code",
   "execution_count": 3,
   "metadata": {},
   "outputs": [
    {
     "name": "stdout",
     "output_type": "stream",
     "text": [
      "<class 'pandas.core.frame.DataFrame'>\n",
      "RangeIndex: 335018 entries, 0 to 335017\n",
      "Data columns (total 11 columns):\n",
      "uid                335018 non-null int64\n",
      "name               335017 non-null object\n",
      "friends            335018 non-null object\n",
      "friends_count      335018 non-null int64\n",
      "followers_count    335018 non-null int64\n",
      "listed_count       335018 non-null int64\n",
      "statuses_count     335018 non-null int64\n",
      "created_at         335018 non-null object\n",
      "url                269170 non-null object\n",
      "avatar             332540 non-null object\n",
      "location           269760 non-null object\n",
      "dtypes: int64(5), object(6)\n",
      "memory usage: 28.1+ MB\n"
     ]
    }
   ],
   "source": [
    "# df = df[df['friends_count'] <= 1000]\n",
    "df.info()"
   ]
  },
  {
   "cell_type": "code",
   "execution_count": 4,
   "metadata": {},
   "outputs": [
    {
     "data": {
      "text/html": [
       "<div>\n",
       "<style scoped>\n",
       "    .dataframe tbody tr th:only-of-type {\n",
       "        vertical-align: middle;\n",
       "    }\n",
       "\n",
       "    .dataframe tbody tr th {\n",
       "        vertical-align: top;\n",
       "    }\n",
       "\n",
       "    .dataframe thead th {\n",
       "        text-align: right;\n",
       "    }\n",
       "</style>\n",
       "<table border=\"1\" class=\"dataframe\">\n",
       "  <thead>\n",
       "    <tr style=\"text-align: right;\">\n",
       "      <th></th>\n",
       "      <th>uid</th>\n",
       "      <th>name</th>\n",
       "      <th>friends</th>\n",
       "      <th>friends_count</th>\n",
       "      <th>followers_count</th>\n",
       "      <th>listed_count</th>\n",
       "      <th>statuses_count</th>\n",
       "      <th>created_at</th>\n",
       "      <th>url</th>\n",
       "      <th>avatar</th>\n",
       "      <th>location</th>\n",
       "    </tr>\n",
       "  </thead>\n",
       "  <tbody>\n",
       "    <tr>\n",
       "      <th>0</th>\n",
       "      <td>26642006</td>\n",
       "      <td>Alyssa_Milano</td>\n",
       "      <td>friends</td>\n",
       "      <td>4381</td>\n",
       "      <td>3638372</td>\n",
       "      <td>37370</td>\n",
       "      <td>59701</td>\n",
       "      <td>Thu Mar 26 00:34:20 +0000 2009</td>\n",
       "      <td>https://t.co/DOhhBYiEHZ</td>\n",
       "      <td>img/26642006.jpg</td>\n",
       "      <td>Los Angeles</td>\n",
       "    </tr>\n",
       "    <tr>\n",
       "      <th>1</th>\n",
       "      <td>46233559</td>\n",
       "      <td>rosemcgowan</td>\n",
       "      <td>friends</td>\n",
       "      <td>4661</td>\n",
       "      <td>890406</td>\n",
       "      <td>8280</td>\n",
       "      <td>13880</td>\n",
       "      <td>Wed Jun 10 21:39:32 +0000 2009</td>\n",
       "      <td>https://t.co/hinkEjQ5ex</td>\n",
       "      <td>img/46233559.jpg</td>\n",
       "      <td>Planet 9</td>\n",
       "    </tr>\n",
       "    <tr>\n",
       "      <th>2</th>\n",
       "      <td>44783853</td>\n",
       "      <td>HHSGov</td>\n",
       "      <td>friends</td>\n",
       "      <td>396</td>\n",
       "      <td>779017</td>\n",
       "      <td>8545</td>\n",
       "      <td>19885</td>\n",
       "      <td>Fri Jun 05 01:14:31 +0000 2009</td>\n",
       "      <td>https://t.co/T4j355Evo7</td>\n",
       "      <td>img/44783853.jpg</td>\n",
       "      <td>Washington  D.C.</td>\n",
       "    </tr>\n",
       "    <tr>\n",
       "      <th>3</th>\n",
       "      <td>44409004</td>\n",
       "      <td>shakira</td>\n",
       "      <td>friends</td>\n",
       "      <td>210</td>\n",
       "      <td>51523187</td>\n",
       "      <td>99436</td>\n",
       "      <td>6301</td>\n",
       "      <td>Wed Jun 03 17:38:07 +0000 2009</td>\n",
       "      <td>https://t.co/lL3bUtNcA1</td>\n",
       "      <td>NaN</td>\n",
       "      <td>Barranquilla</td>\n",
       "    </tr>\n",
       "    <tr>\n",
       "      <th>4</th>\n",
       "      <td>62290422</td>\n",
       "      <td>RedHourBen</td>\n",
       "      <td>friends</td>\n",
       "      <td>625</td>\n",
       "      <td>5763578</td>\n",
       "      <td>28830</td>\n",
       "      <td>5484</td>\n",
       "      <td>Sun Aug 02 16:21:43 +0000 2009</td>\n",
       "      <td>NaN</td>\n",
       "      <td>img/62290422.jpg</td>\n",
       "      <td>Red Hour Films - Los Angeles</td>\n",
       "    </tr>\n",
       "  </tbody>\n",
       "</table>\n",
       "</div>"
      ],
      "text/plain": [
       "        uid           name  friends  friends_count  followers_count  \\\n",
       "0  26642006  Alyssa_Milano  friends           4381          3638372   \n",
       "1  46233559    rosemcgowan  friends           4661           890406   \n",
       "2  44783853         HHSGov  friends            396           779017   \n",
       "3  44409004        shakira  friends            210         51523187   \n",
       "4  62290422     RedHourBen  friends            625          5763578   \n",
       "\n",
       "   listed_count  statuses_count                      created_at  \\\n",
       "0         37370           59701  Thu Mar 26 00:34:20 +0000 2009   \n",
       "1          8280           13880  Wed Jun 10 21:39:32 +0000 2009   \n",
       "2          8545           19885  Fri Jun 05 01:14:31 +0000 2009   \n",
       "3         99436            6301  Wed Jun 03 17:38:07 +0000 2009   \n",
       "4         28830            5484  Sun Aug 02 16:21:43 +0000 2009   \n",
       "\n",
       "                       url            avatar                      location  \n",
       "0  https://t.co/DOhhBYiEHZ  img/26642006.jpg                   Los Angeles  \n",
       "1  https://t.co/hinkEjQ5ex  img/46233559.jpg                      Planet 9  \n",
       "2  https://t.co/T4j355Evo7  img/44783853.jpg              Washington  D.C.  \n",
       "3  https://t.co/lL3bUtNcA1               NaN                  Barranquilla  \n",
       "4                      NaN  img/62290422.jpg  Red Hour Films - Los Angeles  "
      ]
     },
     "execution_count": 4,
     "metadata": {},
     "output_type": "execute_result"
    }
   ],
   "source": [
    "df.head()"
   ]
  },
  {
   "cell_type": "code",
   "execution_count": 5,
   "metadata": {},
   "outputs": [],
   "source": [
    "# df.info()"
   ]
  },
  {
   "cell_type": "markdown",
   "metadata": {},
   "source": [
    "### Dict structure    \n",
    "uid:{\n",
    "    \n",
    "    uid: 123,\n",
    "    name: '',\n",
    "    friends_count: 0,\n",
    "    followers_count: 0,\n",
    "    listed_count: 0,\n",
    "    statuses_count: 0,\n",
    "    pff: 0,\n",
    "    pfr: 0,\n",
    "    gcf: 0,\n",
    "    gcr: 0,\n",
    "    description: '',\n",
    "    tweets: []\n",
    "\n",
    "}"
   ]
  },
  {
   "cell_type": "code",
   "execution_count": 6,
   "metadata": {},
   "outputs": [],
   "source": [
    "ids = list(df['uid'])\n"
   ]
  },
  {
   "cell_type": "code",
   "execution_count": null,
   "metadata": {},
   "outputs": [],
   "source": []
  },
  {
   "cell_type": "code",
   "execution_count": 7,
   "metadata": {},
   "outputs": [],
   "source": [
    "users = {}\n",
    "\n",
    "# for i in ids:\n",
    "    \n",
    "#     users[i] = {\n",
    "#         'uid': i,\n",
    "#         'pff': 0,\n",
    "#         'pfr': 0,\n",
    "#         'gcf': 0,\n",
    "#         'gcr': 0,\n",
    "#         'description': '',\n",
    "#         'tweets': []\n",
    "#     }"
   ]
  },
  {
   "cell_type": "code",
   "execution_count": 8,
   "metadata": {},
   "outputs": [],
   "source": [
    "# len(users)"
   ]
  },
  {
   "cell_type": "code",
   "execution_count": 9,
   "metadata": {},
   "outputs": [],
   "source": [
    "# users = users"
   ]
  },
  {
   "cell_type": "code",
   "execution_count": null,
   "metadata": {},
   "outputs": [
    {
     "name": "stdout",
     "output_type": "stream",
     "text": [
      "0\n",
      "1000\n",
      "2000\n",
      "3000\n",
      "4000\n",
      "5000\n",
      "6000\n",
      "7000\n",
      "8000\n",
      "9000\n",
      "10000\n",
      "11000\n",
      "12000\n",
      "13000\n",
      "14000\n",
      "15000\n",
      "16000\n",
      "17000\n",
      "18000\n",
      "19000\n",
      "20000\n"
     ]
    }
   ],
   "source": [
    "files_users = glob.iglob(f\"../fakenewsnet_dataset/user_profiles/*.json\")\n",
    "\n",
    "count = 0\n",
    "\n",
    "\n",
    "for file in files_users:\n",
    "    if count%1000 == 0:\n",
    "        print(count)\n",
    "#     if count == 1:\n",
    "#         break\n",
    "    with open(file, encoding='utf-8', mode='r') as currentFile:\n",
    "        data = json.load(currentFile)\n",
    "#         print(data)\n",
    "        \n",
    "        if data['verified'] == False:\n",
    "            users[data['id']] = {\n",
    "                'uid': data['id'],\n",
    "                'name': data['name'],\n",
    "                'friends': 'friends',\n",
    "                'friends_count': data['friends_count'],\n",
    "                'followers_count': data['followers_count'],\n",
    "                'listed_count': data['listed_count'],\n",
    "                'statuses_count': data['statuses_count'],\n",
    "                'created_at': data['created_at'],\n",
    "                'url': data['url'],\n",
    "                'avatar': data['profile_image_url_https'],\n",
    "                'location': data['location'],\n",
    "                'pff': 0,\n",
    "                'pfr': 0,\n",
    "                'gcf': 0,\n",
    "                'gcr': 0,\n",
    "                'description': data['description'],\n",
    "                'tweets': []\n",
    "            }\n",
    "    \n",
    "    count+=1\n",
    "            "
   ]
  },
  {
   "cell_type": "code",
   "execution_count": null,
   "metadata": {},
   "outputs": [],
   "source": [
    "len(users)"
   ]
  },
  {
   "cell_type": "code",
   "execution_count": null,
   "metadata": {},
   "outputs": [],
   "source": [
    "list_of_lists = []\n",
    "\n",
    "for user_id in users:\n",
    "    name = users[user_id]['name']\n",
    "    friends_count = users[user_id]['friends_count']\n",
    "    followers_count = users[user_id]['followers_count']\n",
    "    listed_count = users[user_id]['listed_count']\n",
    "    statuses_count = users[user_id]['statuses_count']\n",
    "    friends = users[user_id]['friends']\n",
    "    created_at = users[user_id]['created_at']\n",
    "    location = users[user_id]['location']\n",
    "    avatar = users[user_id]['avatar']\n",
    "    url = users[user_id]['url']\n",
    "    \n",
    "    \n",
    "    list_of_lists.append([user_id, name, friends, friends_count, \n",
    "                        followers_count, listed_count, statuses_count, \n",
    "                        created_at, url, avatar, location])\n"
   ]
  },
  {
   "cell_type": "code",
   "execution_count": null,
   "metadata": {},
   "outputs": [],
   "source": [
    "df_users = pd.DataFrame(list_of_lists, columns=[\"uid\", \"name\", \"friends\", \"friends_count\", \n",
    "                                                \"followers_count\", \"listed_count\", \"statuses_count\", \n",
    "                                                \"created_at\", \"url\", \"avatar\", \"location\"])"
   ]
  },
  {
   "cell_type": "code",
   "execution_count": null,
   "metadata": {
    "scrolled": true
   },
   "outputs": [],
   "source": [
    "df_users.info()"
   ]
  },
  {
   "cell_type": "code",
   "execution_count": null,
   "metadata": {},
   "outputs": [],
   "source": [
    "df_users.sort_values(['followers_count', 'friends_count'], ascending=False).head(10)"
   ]
  },
  {
   "cell_type": "code",
   "execution_count": null,
   "metadata": {},
   "outputs": [],
   "source": [
    "df_users.to_csv('datasets/unverified_users_list.csv', index=False)"
   ]
  },
  {
   "cell_type": "code",
   "execution_count": null,
   "metadata": {},
   "outputs": [],
   "source": []
  },
  {
   "cell_type": "markdown",
   "metadata": {},
   "source": [
    "## PolitiFact"
   ]
  },
  {
   "cell_type": "markdown",
   "metadata": {},
   "source": [
    "### Fake Tweets & Retweets"
   ]
  },
  {
   "cell_type": "code",
   "execution_count": null,
   "metadata": {},
   "outputs": [],
   "source": [
    "files = glob.iglob(f\"../fakenewsnet_dataset/politifact/fake/*/tweets/*.json\")\n",
    "\n",
    "count = 0\n",
    "\n",
    "#143000\n",
    "\n",
    "for file in files:\n",
    "    if count%1000 == 0:\n",
    "        print(count)\n",
    "#     if count == 240000:\n",
    "#         break\n",
    "    with open(file, encoding='utf-8', mode='r') as currentFile:\n",
    "        data = json.load(currentFile)\n",
    "        tweet = data['text']\n",
    "        des = data['user']['description']\n",
    "        user_id = data['user']['id']\n",
    "        \n",
    "    \n",
    "        if user_id in users:\n",
    "            users[user_id]['pff']+=1\n",
    "            users[user_id]['description'] = des\n",
    "            users[user_id]['tweets'].append(tweet)\n",
    "            \n",
    "            \n",
    "        \n",
    "#         userList.append(data['user'])\n",
    "    count +=1"
   ]
  },
  {
   "cell_type": "code",
   "execution_count": null,
   "metadata": {},
   "outputs": [],
   "source": [
    "files_rt = glob.iglob(f\"../fakenewsnet_dataset/politifact/fake/*/retweets/*.json\")\n",
    "\n",
    "count = 0\n",
    "# 27000\n",
    "\n",
    "for file in files_rt:\n",
    "    if count%1000 == 0:\n",
    "        print(count)\n",
    "#     if count == 240000:\n",
    "#         break\n",
    "    with open(file, encoding='utf-8', mode='r') as currentFile:\n",
    "        data = json.load(currentFile)\n",
    "        for d in data['retweets']:\n",
    "            tweet = d['text']\n",
    "            des = d['user']['description']\n",
    "            user_id = d['user']['id']\n",
    "\n",
    "\n",
    "            if user_id in users:\n",
    "                users[user_id]['pff']+=1\n",
    "                users[user_id]['description'] = des\n",
    "                users[user_id]['tweets'].append(tweet)\n",
    "                \n",
    "    count +=1"
   ]
  },
  {
   "cell_type": "code",
   "execution_count": null,
   "metadata": {},
   "outputs": [],
   "source": [
    "# users"
   ]
  },
  {
   "cell_type": "markdown",
   "metadata": {},
   "source": [
    "### Real Tweets & Retweets"
   ]
  },
  {
   "cell_type": "code",
   "execution_count": null,
   "metadata": {},
   "outputs": [],
   "source": [
    "files = glob.iglob(f\"../fakenewsnet_dataset/politifact/real/*/tweets/*.json\")\n",
    "\n",
    "#362000\n",
    "\n",
    "count = 0\n",
    "for file in files:\n",
    "    if count%1000 == 0:\n",
    "        print(count)\n",
    "    count +=1\n",
    "#     if count < 240001:\n",
    "#         continue\n",
    "#     if count == 500000:\n",
    "#         break\n",
    "    with open(file, encoding='utf-8', mode='r') as currentFile:\n",
    "        data = json.load(currentFile)\n",
    "        tweet = data['text']\n",
    "        des = data['user']['description']\n",
    "        user_id = data['user']['id']\n",
    "        \n",
    "    \n",
    "        if user_id in users:\n",
    "            users[user_id]['pfr']+=1\n",
    "            users[user_id]['description'] = des\n",
    "            users[user_id]['tweets'].append(tweet)\n",
    "            \n",
    "            \n",
    "        \n",
    "#         userList.append(data['user'])\n"
   ]
  },
  {
   "cell_type": "code",
   "execution_count": null,
   "metadata": {},
   "outputs": [],
   "source": [
    "files_rt = glob.iglob(f\"../fakenewsnet_dataset/politifact/real/*/retweets/*.json\")\n",
    "\n",
    "count = 0\n",
    "\n",
    "\n",
    "for file in files_rt:\n",
    "    if count%1000 == 0:\n",
    "        print(count)\n",
    "#     if count == 240000:\n",
    "#         break\n",
    "    with open(file, encoding='utf-8', mode='r') as currentFile:\n",
    "        data = json.load(currentFile)\n",
    "        for d in data['retweets']:\n",
    "            tweet = d['text']\n",
    "            des = d['user']['description']\n",
    "            user_id = d['user']['id']\n",
    "\n",
    "\n",
    "            if user_id in users:\n",
    "                users[user_id]['pfr']+=1\n",
    "                users[user_id]['description'] = des\n",
    "                users[user_id]['tweets'].append(tweet)\n",
    "                \n",
    "    count +=1"
   ]
  },
  {
   "cell_type": "code",
   "execution_count": null,
   "metadata": {},
   "outputs": [],
   "source": []
  },
  {
   "cell_type": "markdown",
   "metadata": {},
   "source": [
    "## GossipCop"
   ]
  },
  {
   "cell_type": "markdown",
   "metadata": {},
   "source": [
    "### Fake Tweets & Retweets"
   ]
  },
  {
   "cell_type": "code",
   "execution_count": null,
   "metadata": {},
   "outputs": [],
   "source": [
    "files = glob.iglob(f\"../fakenewsnet_dataset/gossipcop/fake/*/tweets/*.json\")\n",
    "\n",
    "count = 0\n",
    "#524000\n",
    "\n",
    "for file in files:\n",
    "    if count%1000 == 0:\n",
    "        print(count)\n",
    "    count +=1\n",
    "#     if count < 240001:\n",
    "#         continue\n",
    "#     if count == 500000:\n",
    "#         break\n",
    "    with open(file, encoding='utf-8', mode='r') as currentFile:\n",
    "        data = json.load(currentFile)\n",
    "        tweet = data['text']\n",
    "        des = data['user']['description']\n",
    "        user_id = data['user']['id']\n",
    "        \n",
    "    \n",
    "        if user_id in users:\n",
    "            users[user_id]['gcf']+=1\n",
    "            users[user_id]['description'] = des\n",
    "            users[user_id]['tweets'].append(tweet)\n",
    "            \n",
    "            \n",
    "        \n",
    "#         userList.append(data['user'])\n"
   ]
  },
  {
   "cell_type": "code",
   "execution_count": null,
   "metadata": {},
   "outputs": [],
   "source": [
    "files_rt = glob.iglob(f\"../fakenewsnet_dataset/gossipcop/fake/*/retweets/*.json\")\n",
    "\n",
    "count = 0\n",
    "\n",
    "\n",
    "for file in files_rt:\n",
    "    if count%1000 == 0:\n",
    "        print(count)\n",
    "#     if count == 240000:\n",
    "#         break\n",
    "    with open(file, encoding='utf-8', mode='r') as currentFile:\n",
    "        data = json.load(currentFile)\n",
    "        for d in data['retweets']:\n",
    "            tweet = d['text']\n",
    "            des = d['user']['description']\n",
    "            user_id = d['user']['id']\n",
    "\n",
    "\n",
    "            if user_id in users:\n",
    "                users[user_id]['gcf']+=1\n",
    "                users[user_id]['description'] = des\n",
    "                users[user_id]['tweets'].append(tweet)\n",
    "                \n",
    "    count +=1"
   ]
  },
  {
   "cell_type": "code",
   "execution_count": null,
   "metadata": {},
   "outputs": [],
   "source": [
    "# users"
   ]
  },
  {
   "cell_type": "code",
   "execution_count": null,
   "metadata": {},
   "outputs": [],
   "source": []
  },
  {
   "cell_type": "markdown",
   "metadata": {},
   "source": [
    "### Real Tweets & Retweets"
   ]
  },
  {
   "cell_type": "code",
   "execution_count": null,
   "metadata": {},
   "outputs": [],
   "source": [
    "files = glob.iglob(f\"../fakenewsnet_dataset/gossipcop/real/*/tweets/*.json\")\n",
    "\n",
    "# 815000\n",
    "count = 0\n",
    "for file in files:\n",
    "    if count%1000 == 0:\n",
    "        print(count)\n",
    "    count +=1\n",
    "#     if count < 240001:\n",
    "#         continue\n",
    "    if count == 1000000:\n",
    "        break\n",
    "    with open(file, encoding='utf-8', mode='r') as currentFile:\n",
    "        data = json.load(currentFile)\n",
    "        tweet = data['text']\n",
    "        des = data['user']['description']\n",
    "        user_id = data['user']['id']\n",
    "        \n",
    "    \n",
    "        if user_id in users:\n",
    "            users[user_id]['gcr']+=1\n",
    "            users[user_id]['description'] = des\n",
    "            users[user_id]['tweets'].append(tweet)\n",
    "            \n",
    "            \n",
    "        \n",
    "#         userList.append(data['user'])\n"
   ]
  },
  {
   "cell_type": "code",
   "execution_count": null,
   "metadata": {},
   "outputs": [],
   "source": []
  },
  {
   "cell_type": "markdown",
   "metadata": {},
   "source": [
    "## Create Dataset"
   ]
  },
  {
   "cell_type": "code",
   "execution_count": null,
   "metadata": {},
   "outputs": [],
   "source": [
    "# users"
   ]
  },
  {
   "cell_type": "code",
   "execution_count": null,
   "metadata": {},
   "outputs": [],
   "source": [
    "# df_tw = pd.DataFrame(columns=[\"uid\", 'pff','pfr','gcf','gcr', 'description', 'tweets'])"
   ]
  },
  {
   "cell_type": "code",
   "execution_count": null,
   "metadata": {},
   "outputs": [],
   "source": [
    "list_of_lists = []\n",
    "\n",
    "for user_id in users:\n",
    "    name = users[user_id]['name']\n",
    "    friends_count = users[user_id]['friends_count']\n",
    "    followers_count = users[user_id]['followers_count']\n",
    "    listed_count = users[user_id]['listed_count']\n",
    "    statuses_count = users[user_id]['statuses_count']\n",
    "    gcf = users[user_id]['gcf']\n",
    "    gcr = users[user_id]['gcr']\n",
    "    pff = users[user_id]['pff']\n",
    "    pfr = users[user_id]['pfr']\n",
    "    des = users[user_id]['description']\n",
    "    tweets = \"^\".join(users[user_id]['tweets'])\n",
    "    \n",
    "    list_of_lists.append([user_id, name, friends_count, followers_count, listed_count, statuses_count\n",
    "                          , pff, pfr, gcf, gcr, des, tweets])\n"
   ]
  },
  {
   "cell_type": "code",
   "execution_count": null,
   "metadata": {},
   "outputs": [],
   "source": [
    "df_tw = pd.DataFrame(list_of_lists, columns=[\"uid\", 'name','friends_count','followers_count'\n",
    "                                                ,'listed_count', 'statuses_count'\n",
    "                                             , 'pff','pfr','gcf','gcr', 'description', 'tweets'])"
   ]
  },
  {
   "cell_type": "code",
   "execution_count": null,
   "metadata": {},
   "outputs": [],
   "source": [
    "df_tw.head()"
   ]
  },
  {
   "cell_type": "markdown",
   "metadata": {},
   "source": [
    "Drop useless columns"
   ]
  },
  {
   "cell_type": "code",
   "execution_count": null,
   "metadata": {},
   "outputs": [],
   "source": [
    "# df.drop(['friends', 'created_at', 'url', 'avatar', 'location'], axis=1, inplace=True)"
   ]
  },
  {
   "cell_type": "code",
   "execution_count": null,
   "metadata": {},
   "outputs": [],
   "source": [
    "# df.info()"
   ]
  },
  {
   "cell_type": "code",
   "execution_count": null,
   "metadata": {},
   "outputs": [],
   "source": [
    "df_tw.info()"
   ]
  },
  {
   "cell_type": "code",
   "execution_count": null,
   "metadata": {},
   "outputs": [],
   "source": [
    "# df_feat = df.merge(df_tw, how='inner', on='uid')\n",
    "df_feat = df_tw"
   ]
  },
  {
   "cell_type": "code",
   "execution_count": null,
   "metadata": {},
   "outputs": [],
   "source": [
    "df_feat.info()"
   ]
  },
  {
   "cell_type": "code",
   "execution_count": null,
   "metadata": {},
   "outputs": [],
   "source": [
    "df_feat.head()"
   ]
  },
  {
   "cell_type": "code",
   "execution_count": null,
   "metadata": {},
   "outputs": [],
   "source": [
    "df_feat['total_fake'] = df_feat['pff'] + df_feat['gcf']\n",
    "df_feat['total_real'] = df_feat['pfr'] + df_feat['gcr']\n",
    "\n",
    "df_feat['net_trust'] = df_feat['total_real'] - df_feat['total_fake']\n",
    "\n",
    "df_feat['total_news'] = df_feat['total_real'] + df_feat['total_fake']\n",
    "df_feat['fake_prob'] = df_feat['total_fake'] / df_feat['total_news']\n",
    "\n",
    "df_feat['net_trust_norm'] = df_feat['net_trust']/df_feat['total_news']"
   ]
  },
  {
   "cell_type": "code",
   "execution_count": null,
   "metadata": {},
   "outputs": [],
   "source": [
    "df_feat['fake'] = [1 if x >= 0.5 else 0 if x < 0.5 else 2 for x in df_feat['fake_prob']]"
   ]
  },
  {
   "cell_type": "code",
   "execution_count": null,
   "metadata": {},
   "outputs": [],
   "source": [
    "df_feat.info()"
   ]
  },
  {
   "cell_type": "code",
   "execution_count": null,
   "metadata": {},
   "outputs": [],
   "source": [
    "df_feat.to_csv('datasets/unverified_features_300k.csv', index=False)"
   ]
  },
  {
   "cell_type": "code",
   "execution_count": null,
   "metadata": {},
   "outputs": [],
   "source": [
    "# df_feat = pd.read_csv(\"datasets/verified_features_300k.csv\")"
   ]
  },
  {
   "cell_type": "code",
   "execution_count": null,
   "metadata": {},
   "outputs": [],
   "source": [
    "df_final = df_feat[\n",
    "     (df_feat['name'] != 'GossipCop') & (df_feat['name'] != 'PolitiFact')\n",
    "#      & (df_feat['net_trust_norm'] != 0)\n",
    "     & (df_feat['friends_count'] <= 10000)\n",
    "     & (df_feat['total_fake'] > 2)\n",
    "     & (df_feat['total_real'] > 2)\n",
    "\n",
    "\n",
    "    ].sort_values(['followers_count', 'total_news', 'net_trust_norm', \n",
    "                   'net_trust', 'followers_count'], ascending=False)"
   ]
  },
  {
   "cell_type": "code",
   "execution_count": null,
   "metadata": {},
   "outputs": [],
   "source": [
    "df_final"
   ]
  },
  {
   "cell_type": "code",
   "execution_count": null,
   "metadata": {},
   "outputs": [],
   "source": [
    "df_final['fake'] = [1 if x >= 0.5 else 0 if x < 0.5 else 2 for x in df_final['fake_prob']]"
   ]
  },
  {
   "cell_type": "code",
   "execution_count": null,
   "metadata": {},
   "outputs": [],
   "source": [
    "df_final.to_csv('datasets/unverified_features_6k.csv', index=False)"
   ]
  },
  {
   "cell_type": "code",
   "execution_count": null,
   "metadata": {},
   "outputs": [],
   "source": []
  },
  {
   "cell_type": "code",
   "execution_count": null,
   "metadata": {},
   "outputs": [],
   "source": [
    "# df_feat.hist(column='fake_prob', bins=20)\n",
    "\n",
    "\n",
    "df_final.hist(column='fake_prob', bins=20)\n",
    "\n",
    "df_final.hist(column='friends_count', bins=20)\n",
    "\n",
    "df_final.hist(column='followers_count', bins=20)\n",
    "\n",
    "plt.show()"
   ]
  },
  {
   "cell_type": "code",
   "execution_count": null,
   "metadata": {},
   "outputs": [],
   "source": [
    "df_final[\"fake\"].value_counts().plot.bar()\n",
    "plt.show()"
   ]
  },
  {
   "cell_type": "code",
   "execution_count": null,
   "metadata": {},
   "outputs": [],
   "source": [
    "df_final[\"fake\"].value_counts()"
   ]
  },
  {
   "cell_type": "code",
   "execution_count": 2,
   "metadata": {},
   "outputs": [],
   "source": [
    "# dat = pd.read_csv(\"datasets/verified.dat\", \n",
    "#                  names=[\"uid\", \"name\", \"friends\", \"friends_count\", \n",
    "#                         \"followers_count\", \"listed_count\", \"statuses_count\", \n",
    "#                         \"created_at\", \"url\", \"avatar\", \"location\"])\n",
    "\n",
    "dat = pd.read_csv(\"datasets/verified.dat\", \n",
    "                 names=[\"uid\", \"name\", \"followers_count\", \"friends_count\", \"listed_count\", \"statuses_count\"])"
   ]
  },
  {
   "cell_type": "code",
   "execution_count": 4,
   "metadata": {},
   "outputs": [],
   "source": [
    "# ids = list(dat['uid'])"
   ]
  },
  {
   "cell_type": "code",
   "execution_count": 11,
   "metadata": {},
   "outputs": [],
   "source": [
    "# users = {}\n",
    "\n",
    "# for i in ids:\n",
    "    \n",
    "#     users[i] = {\n",
    "#         'uid': i\n",
    "#     }"
   ]
  },
  {
   "cell_type": "code",
   "execution_count": 12,
   "metadata": {},
   "outputs": [],
   "source": [
    "# files_users = glob.iglob(f\"../fakenewsnet_dataset/user_profiles/*.json\")\n",
    "\n",
    "# count = 0\n",
    "\n",
    "\n",
    "# for i in ids:\n",
    "#     if count%100 == 0:\n",
    "#         print(count)\n",
    "# #     if count == 1:\n",
    "# #         break\n",
    "#     with open(\"../fakenewsnet_dataset/user_profiles/\"+str(i)+\".json\", encoding='utf-8', mode='r') as currentFile:\n",
    "#         data = json.load(currentFile)\n",
    "# #         print(data)\n",
    "        \n",
    "#         if data['verified'] == False:\n",
    "#             users[data['id']] = {\n",
    "#                 'uid': data['id'],\n",
    "#                 'name': data['name'],\n",
    "#                 'friends': 'friends',\n",
    "#                 'friends_count': data['friends_count'],\n",
    "#                 'followers_count': data['followers_count'],\n",
    "#                 'listed_count': data['listed_count'],\n",
    "#                 'statuses_count': data['statuses_count'],\n",
    "#                 'created_at': data['created_at'],\n",
    "#                 'url': data['url'],\n",
    "#                 'avatar': data['profile_image_url_https'],\n",
    "#                 'location': data['location']\n",
    "#             }\n",
    "    \n",
    "#     count+=1\n",
    "            "
   ]
  },
  {
   "cell_type": "code",
   "execution_count": null,
   "metadata": {},
   "outputs": [],
   "source": []
  },
  {
   "cell_type": "code",
   "execution_count": null,
   "metadata": {},
   "outputs": [],
   "source": []
  }
 ],
 "metadata": {
  "kernelspec": {
   "display_name": "Python 3",
   "language": "python",
   "name": "python3"
  },
  "language_info": {
   "codemirror_mode": {
    "name": "ipython",
    "version": 3
   },
   "file_extension": ".py",
   "mimetype": "text/x-python",
   "name": "python",
   "nbconvert_exporter": "python",
   "pygments_lexer": "ipython3",
   "version": "3.6.9"
  }
 },
 "nbformat": 4,
 "nbformat_minor": 2
}
