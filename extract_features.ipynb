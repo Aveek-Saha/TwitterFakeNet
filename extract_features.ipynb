{
 "cells": [
  {
   "cell_type": "code",
   "execution_count": 1,
   "metadata": {},
   "outputs": [],
   "source": [
    "from tqdm import tqdm\n",
    "from collections import Counter\n",
    "\n",
    "import pandas as pd\n",
    "import numpy as np\n",
    "import matplotlib.pyplot as plt\n",
    "\n",
    "import re\n",
    "import string\n",
    "from textblob import TextBlob\n",
    "import preprocessor as p\n",
    "from nltk.corpus import stopwords\n",
    "from nltk.tokenize import word_tokenize\n",
    "\n",
    "from empath import Empath\n"
   ]
  },
  {
   "cell_type": "code",
   "execution_count": 2,
   "metadata": {},
   "outputs": [],
   "source": [
    "# df = pd.read_csv('datasets/verified_features_3k.csv')\n",
    "df = pd.read_csv('datasets/unverified_features_4k.csv')"
   ]
  },
  {
   "cell_type": "code",
   "execution_count": 3,
   "metadata": {},
   "outputs": [],
   "source": [
    "# dfs = pd.read_csv('users/verified_features.csv')"
   ]
  },
  {
   "cell_type": "code",
   "execution_count": 4,
   "metadata": {},
   "outputs": [],
   "source": [
    "# dfs"
   ]
  },
  {
   "cell_type": "code",
   "execution_count": 5,
   "metadata": {},
   "outputs": [],
   "source": [
    "p.set_options(p.OPT.URL, p.OPT.EMOJI, p.OPT.MENTION, p.OPT.SMILEY, p.OPT.NUMBER)"
   ]
  },
  {
   "cell_type": "code",
   "execution_count": 6,
   "metadata": {},
   "outputs": [
    {
     "data": {
      "text/html": [
       "<div>\n",
       "<style scoped>\n",
       "    .dataframe tbody tr th:only-of-type {\n",
       "        vertical-align: middle;\n",
       "    }\n",
       "\n",
       "    .dataframe tbody tr th {\n",
       "        vertical-align: top;\n",
       "    }\n",
       "\n",
       "    .dataframe thead th {\n",
       "        text-align: right;\n",
       "    }\n",
       "</style>\n",
       "<table border=\"1\" class=\"dataframe\">\n",
       "  <thead>\n",
       "    <tr style=\"text-align: right;\">\n",
       "      <th></th>\n",
       "      <th>uid</th>\n",
       "      <th>name</th>\n",
       "      <th>friends_count</th>\n",
       "      <th>followers_count</th>\n",
       "      <th>listed_count</th>\n",
       "      <th>statuses_count</th>\n",
       "      <th>pff</th>\n",
       "      <th>pfr</th>\n",
       "      <th>gcf</th>\n",
       "      <th>gcr</th>\n",
       "      <th>...</th>\n",
       "      <th>url</th>\n",
       "      <th>avatar</th>\n",
       "      <th>location</th>\n",
       "      <th>total_fake</th>\n",
       "      <th>total_real</th>\n",
       "      <th>net_trust</th>\n",
       "      <th>total_news</th>\n",
       "      <th>fake_prob</th>\n",
       "      <th>net_trust_norm</th>\n",
       "      <th>fake</th>\n",
       "    </tr>\n",
       "  </thead>\n",
       "  <tbody>\n",
       "    <tr>\n",
       "      <th>0</th>\n",
       "      <td>14669951</td>\n",
       "      <td>DRUDGE_REPORT</td>\n",
       "      <td>2</td>\n",
       "      <td>1378378</td>\n",
       "      <td>21171</td>\n",
       "      <td>237720</td>\n",
       "      <td>1.0</td>\n",
       "      <td>3.0</td>\n",
       "      <td>2.0</td>\n",
       "      <td>2.0</td>\n",
       "      <td>...</td>\n",
       "      <td>http://t.co/dsLXEBfDsQ</td>\n",
       "      <td>https://pbs.twimg.com/profile_images/53808884/...</td>\n",
       "      <td>US</td>\n",
       "      <td>3.0</td>\n",
       "      <td>5.0</td>\n",
       "      <td>2.0</td>\n",
       "      <td>8.0</td>\n",
       "      <td>0.375000</td>\n",
       "      <td>0.250000</td>\n",
       "      <td>0.0</td>\n",
       "    </tr>\n",
       "    <tr>\n",
       "      <th>1</th>\n",
       "      <td>1754641</td>\n",
       "      <td>nytimesbusiness</td>\n",
       "      <td>441</td>\n",
       "      <td>786324</td>\n",
       "      <td>14641</td>\n",
       "      <td>206786</td>\n",
       "      <td>0.0</td>\n",
       "      <td>3.0</td>\n",
       "      <td>4.0</td>\n",
       "      <td>4.0</td>\n",
       "      <td>...</td>\n",
       "      <td>http://t.co/OKrfdBy4ch</td>\n",
       "      <td>https://pbs.twimg.com/profile_images/963826250...</td>\n",
       "      <td>New York, NY</td>\n",
       "      <td>4.0</td>\n",
       "      <td>7.0</td>\n",
       "      <td>3.0</td>\n",
       "      <td>11.0</td>\n",
       "      <td>0.363636</td>\n",
       "      <td>0.272727</td>\n",
       "      <td>0.0</td>\n",
       "    </tr>\n",
       "    <tr>\n",
       "      <th>2</th>\n",
       "      <td>3863605355</td>\n",
       "      <td>historylvrsclub</td>\n",
       "      <td>0</td>\n",
       "      <td>544773</td>\n",
       "      <td>5041</td>\n",
       "      <td>252317</td>\n",
       "      <td>0.0</td>\n",
       "      <td>6.0</td>\n",
       "      <td>96.0</td>\n",
       "      <td>0.0</td>\n",
       "      <td>...</td>\n",
       "      <td>https://t.co/gggmdpuCSK</td>\n",
       "      <td>https://pbs.twimg.com/profile_images/111175905...</td>\n",
       "      <td>London, England</td>\n",
       "      <td>96.0</td>\n",
       "      <td>6.0</td>\n",
       "      <td>-90.0</td>\n",
       "      <td>102.0</td>\n",
       "      <td>0.941176</td>\n",
       "      <td>-0.882353</td>\n",
       "      <td>1.0</td>\n",
       "    </tr>\n",
       "    <tr>\n",
       "      <th>3</th>\n",
       "      <td>53036660</td>\n",
       "      <td>GLAMOUR_sa</td>\n",
       "      <td>862</td>\n",
       "      <td>500682</td>\n",
       "      <td>355</td>\n",
       "      <td>36609</td>\n",
       "      <td>0.0</td>\n",
       "      <td>0.0</td>\n",
       "      <td>7.0</td>\n",
       "      <td>5.0</td>\n",
       "      <td>...</td>\n",
       "      <td>https://t.co/3WA7d5ciQJ</td>\n",
       "      <td>https://pbs.twimg.com/profile_images/103042295...</td>\n",
       "      <td>South Africa</td>\n",
       "      <td>7.0</td>\n",
       "      <td>5.0</td>\n",
       "      <td>-2.0</td>\n",
       "      <td>12.0</td>\n",
       "      <td>0.583333</td>\n",
       "      <td>-0.166667</td>\n",
       "      <td>1.0</td>\n",
       "    </tr>\n",
       "    <tr>\n",
       "      <th>4</th>\n",
       "      <td>270106571</td>\n",
       "      <td>brotips</td>\n",
       "      <td>58</td>\n",
       "      <td>464707</td>\n",
       "      <td>1504</td>\n",
       "      <td>87848</td>\n",
       "      <td>0.0</td>\n",
       "      <td>0.0</td>\n",
       "      <td>9.0</td>\n",
       "      <td>4.0</td>\n",
       "      <td>...</td>\n",
       "      <td>http://t.co/OzQz9pP0OI</td>\n",
       "      <td>https://pbs.twimg.com/profile_images/197154534...</td>\n",
       "      <td>Los Angeles, CA</td>\n",
       "      <td>9.0</td>\n",
       "      <td>4.0</td>\n",
       "      <td>-5.0</td>\n",
       "      <td>13.0</td>\n",
       "      <td>0.692308</td>\n",
       "      <td>-0.384615</td>\n",
       "      <td>1.0</td>\n",
       "    </tr>\n",
       "  </tbody>\n",
       "</table>\n",
       "<p>5 rows × 24 columns</p>\n",
       "</div>"
      ],
      "text/plain": [
       "          uid             name friends_count followers_count listed_count  \\\n",
       "0    14669951    DRUDGE_REPORT             2         1378378        21171   \n",
       "1     1754641  nytimesbusiness           441          786324        14641   \n",
       "2  3863605355  historylvrsclub             0          544773         5041   \n",
       "3    53036660       GLAMOUR_sa           862          500682          355   \n",
       "4   270106571          brotips            58          464707         1504   \n",
       "\n",
       "  statuses_count  pff  pfr   gcf  gcr  ...                      url  \\\n",
       "0         237720  1.0  3.0   2.0  2.0  ...   http://t.co/dsLXEBfDsQ   \n",
       "1         206786  0.0  3.0   4.0  4.0  ...   http://t.co/OKrfdBy4ch   \n",
       "2         252317  0.0  6.0  96.0  0.0  ...  https://t.co/gggmdpuCSK   \n",
       "3          36609  0.0  0.0   7.0  5.0  ...  https://t.co/3WA7d5ciQJ   \n",
       "4          87848  0.0  0.0   9.0  4.0  ...   http://t.co/OzQz9pP0OI   \n",
       "\n",
       "                                              avatar         location  \\\n",
       "0  https://pbs.twimg.com/profile_images/53808884/...               US   \n",
       "1  https://pbs.twimg.com/profile_images/963826250...     New York, NY   \n",
       "2  https://pbs.twimg.com/profile_images/111175905...  London, England   \n",
       "3  https://pbs.twimg.com/profile_images/103042295...     South Africa   \n",
       "4  https://pbs.twimg.com/profile_images/197154534...  Los Angeles, CA   \n",
       "\n",
       "  total_fake total_real net_trust total_news  fake_prob  net_trust_norm  fake  \n",
       "0        3.0        5.0       2.0        8.0   0.375000        0.250000   0.0  \n",
       "1        4.0        7.0       3.0       11.0   0.363636        0.272727   0.0  \n",
       "2       96.0        6.0     -90.0      102.0   0.941176       -0.882353   1.0  \n",
       "3        7.0        5.0      -2.0       12.0   0.583333       -0.166667   1.0  \n",
       "4        9.0        4.0      -5.0       13.0   0.692308       -0.384615   1.0  \n",
       "\n",
       "[5 rows x 24 columns]"
      ]
     },
     "execution_count": 6,
     "metadata": {},
     "output_type": "execute_result"
    }
   ],
   "source": [
    "df.head()"
   ]
  },
  {
   "cell_type": "code",
   "execution_count": 7,
   "metadata": {},
   "outputs": [],
   "source": [
    "df = df.drop(['friends', 'created_at', 'url', 'avatar', 'location'], axis = 1)"
   ]
  },
  {
   "cell_type": "code",
   "execution_count": 8,
   "metadata": {},
   "outputs": [
    {
     "name": "stdout",
     "output_type": "stream",
     "text": [
      "<class 'pandas.core.frame.DataFrame'>\n",
      "Int64Index: 3366 entries, 0 to 3559\n",
      "Data columns (total 19 columns):\n",
      "uid                3366 non-null object\n",
      "name               3366 non-null object\n",
      "friends_count      3366 non-null object\n",
      "followers_count    3366 non-null object\n",
      "listed_count       3366 non-null object\n",
      "statuses_count     3366 non-null object\n",
      "pff                3366 non-null float64\n",
      "pfr                3366 non-null float64\n",
      "gcf                3366 non-null float64\n",
      "gcr                3366 non-null float64\n",
      "description        3366 non-null object\n",
      "tweets             3366 non-null object\n",
      "total_fake         3366 non-null float64\n",
      "total_real         3366 non-null float64\n",
      "net_trust          3366 non-null float64\n",
      "total_news         3366 non-null float64\n",
      "fake_prob          3366 non-null float64\n",
      "net_trust_norm     3366 non-null float64\n",
      "fake               3366 non-null float64\n",
      "dtypes: float64(11), object(8)\n",
      "memory usage: 525.9+ KB\n"
     ]
    }
   ],
   "source": [
    "df = df.dropna()\n",
    "df.info()"
   ]
  },
  {
   "cell_type": "code",
   "execution_count": 9,
   "metadata": {},
   "outputs": [],
   "source": [
    "des = list(df['description'])"
   ]
  },
  {
   "cell_type": "code",
   "execution_count": null,
   "metadata": {},
   "outputs": [],
   "source": []
  },
  {
   "cell_type": "code",
   "execution_count": 10,
   "metadata": {},
   "outputs": [],
   "source": [
    "# Happy Emoticons\n",
    "emoticons_happy = set([\n",
    "    ':-)', ':)', ';)', ':o)', ':]', ':3', ':c)', ':>', '=]', '8)', '=)', ':}',\n",
    "    ':^)', ':-D', ':D', '8-D', '8D', 'x-D', 'xD', 'X-D', 'XD', '=-D', '=D',\n",
    "    '=-3', '=3', ':-))', \":'-)\", \":')\", ':*', ':^*', '>:P', ':-P', ':P', 'X-P',\n",
    "    'x-p', 'xp', 'XP', ':-p', ':p', '=p', ':-b', ':b', '>:)', '>;)', '>:-)',\n",
    "    '<3'\n",
    "    ])\n",
    " \n",
    "# Sad Emoticons\n",
    "emoticons_sad = set([\n",
    "    ':L', ':-/', '>:/', ':S', '>:[', ':@', ':-(', ':[', ':-||', '=L', ':<',\n",
    "    ':-[', ':-<', '=\\\\', '=/', '>:(', ':(', '>.<', \":'-(\", \":'(\", ':\\\\', ':-c',\n",
    "    ':c', ':{', '>:\\\\', ';('\n",
    "    ])\n",
    "\n",
    "emoticons = emoticons_happy.union(emoticons_sad)"
   ]
  },
  {
   "cell_type": "code",
   "execution_count": 11,
   "metadata": {},
   "outputs": [],
   "source": [
    "emoji_pattern = re.compile(\"[\"\n",
    "         u\"\\U0001F600-\\U0001F64F\"  # emoticons\n",
    "         u\"\\U0001F300-\\U0001F5FF\"  # symbols & pictographs\n",
    "         u\"\\U0001F680-\\U0001F6FF\"  # transport & map symbols\n",
    "         u\"\\U0001F1E0-\\U0001F1FF\"  # flags (iOS)\n",
    "         u\"\\U00002702-\\U000027B0\"\n",
    "         u\"\\U000024C2-\\U0001F251\"\n",
    "         \"]+\", flags=re.UNICODE)\n",
    "\n",
    "stop_words = set(stopwords.words('english'))\n",
    "\n",
    "def clean_tweets(tweet):\n",
    "    word_tokens = word_tokenize(tweet)\n",
    "    \n",
    "    tweet = re.sub(r':', '', tweet)\n",
    "    tweet = re.sub(r'‚Ä¶', '', tweet)\n",
    "    tweet = re.sub(r'[^\\x00-\\x7F]+',' ', tweet)\n",
    "    tweet = emoji_pattern.sub(r'', tweet)\n",
    "    \n",
    "    filtered_tweet = []\n",
    "    \n",
    "    for w in word_tokens:\n",
    "        #check tokens against stop words , emoticons and punctuations\n",
    "        if w not in stop_words and w not in emoticons and w not in string.punctuation:\n",
    "            filtered_tweet.append(w)\n",
    "    \n",
    "    tweet = ' '.join(filtered_tweet).lower()\n",
    "    text = ''.join([i if ord(i) < 128 else ' ' for i in tweet])\n",
    "    \n",
    "    return \" \".join(text.split())"
   ]
  },
  {
   "cell_type": "code",
   "execution_count": 12,
   "metadata": {},
   "outputs": [],
   "source": [
    "clean_desc = []\n",
    "\n",
    "for d in des:\n",
    "    d = str(d)\n",
    "    d = d.replace(\"\\'s\", \" \")\n",
    "    d = d.replace(\"`\", \" \")\n",
    "    d = d.replace(\"\\'\", \" \")\n",
    "    d = d.replace(\"#\", \"\").replace(\"_\", \" \")\n",
    "    d = p.clean(d)\n",
    "    d = clean_tweets(d)\n",
    "    clean_desc.append(d)"
   ]
  },
  {
   "cell_type": "code",
   "execution_count": 13,
   "metadata": {},
   "outputs": [
    {
     "name": "stdout",
     "output_type": "stream",
     "text": [
      "Before:  The DRUDGE REPORT is a U.S. based news aggregation website run by Matt Drudge(@DRUDGE).\n",
      "\n",
      "After:  the drudge report u.s. based news aggregation website run matt drudge\n"
     ]
    }
   ],
   "source": [
    "print('Before: ',des[0])\n",
    "print()\n",
    "print('After: ', clean_desc[0])"
   ]
  },
  {
   "cell_type": "code",
   "execution_count": 14,
   "metadata": {},
   "outputs": [],
   "source": [
    "df['description'] = clean_desc"
   ]
  },
  {
   "cell_type": "code",
   "execution_count": 15,
   "metadata": {},
   "outputs": [
    {
     "data": {
      "text/html": [
       "<div>\n",
       "<style scoped>\n",
       "    .dataframe tbody tr th:only-of-type {\n",
       "        vertical-align: middle;\n",
       "    }\n",
       "\n",
       "    .dataframe tbody tr th {\n",
       "        vertical-align: top;\n",
       "    }\n",
       "\n",
       "    .dataframe thead th {\n",
       "        text-align: right;\n",
       "    }\n",
       "</style>\n",
       "<table border=\"1\" class=\"dataframe\">\n",
       "  <thead>\n",
       "    <tr style=\"text-align: right;\">\n",
       "      <th></th>\n",
       "      <th>uid</th>\n",
       "      <th>name</th>\n",
       "      <th>friends_count</th>\n",
       "      <th>followers_count</th>\n",
       "      <th>listed_count</th>\n",
       "      <th>statuses_count</th>\n",
       "      <th>pff</th>\n",
       "      <th>pfr</th>\n",
       "      <th>gcf</th>\n",
       "      <th>gcr</th>\n",
       "      <th>description</th>\n",
       "      <th>tweets</th>\n",
       "      <th>total_fake</th>\n",
       "      <th>total_real</th>\n",
       "      <th>net_trust</th>\n",
       "      <th>total_news</th>\n",
       "      <th>fake_prob</th>\n",
       "      <th>net_trust_norm</th>\n",
       "      <th>fake</th>\n",
       "    </tr>\n",
       "  </thead>\n",
       "  <tbody>\n",
       "    <tr>\n",
       "      <th>0</th>\n",
       "      <td>14669951</td>\n",
       "      <td>DRUDGE_REPORT</td>\n",
       "      <td>2</td>\n",
       "      <td>1378378</td>\n",
       "      <td>21171</td>\n",
       "      <td>237720</td>\n",
       "      <td>1.0</td>\n",
       "      <td>3.0</td>\n",
       "      <td>2.0</td>\n",
       "      <td>2.0</td>\n",
       "      <td>the drudge report u.s. based news aggregation ...</td>\n",
       "      <td>ICE Detainer Issued for Suspected Wine Country...</td>\n",
       "      <td>3.0</td>\n",
       "      <td>5.0</td>\n",
       "      <td>2.0</td>\n",
       "      <td>8.0</td>\n",
       "      <td>0.375000</td>\n",
       "      <td>0.250000</td>\n",
       "      <td>0.0</td>\n",
       "    </tr>\n",
       "    <tr>\n",
       "      <th>1</th>\n",
       "      <td>1754641</td>\n",
       "      <td>nytimesbusiness</td>\n",
       "      <td>441</td>\n",
       "      <td>786324</td>\n",
       "      <td>14641</td>\n",
       "      <td>206786</td>\n",
       "      <td>0.0</td>\n",
       "      <td>3.0</td>\n",
       "      <td>4.0</td>\n",
       "      <td>4.0</td>\n",
       "      <td>financial tech media business news the new yor...</td>\n",
       "      <td>The morning after the President’s rally in Mis...</td>\n",
       "      <td>4.0</td>\n",
       "      <td>7.0</td>\n",
       "      <td>3.0</td>\n",
       "      <td>11.0</td>\n",
       "      <td>0.363636</td>\n",
       "      <td>0.272727</td>\n",
       "      <td>0.0</td>\n",
       "    </tr>\n",
       "    <tr>\n",
       "      <th>2</th>\n",
       "      <td>3863605355</td>\n",
       "      <td>historylvrsclub</td>\n",
       "      <td>0</td>\n",
       "      <td>544773</td>\n",
       "      <td>5041</td>\n",
       "      <td>252317</td>\n",
       "      <td>0.0</td>\n",
       "      <td>6.0</td>\n",
       "      <td>96.0</td>\n",
       "      <td>0.0</td>\n",
       "      <td>rare historical photos all copyrights belong r...</td>\n",
       "      <td>President Barack Obama and Pope Francis meet f...</td>\n",
       "      <td>96.0</td>\n",
       "      <td>6.0</td>\n",
       "      <td>-90.0</td>\n",
       "      <td>102.0</td>\n",
       "      <td>0.941176</td>\n",
       "      <td>-0.882353</td>\n",
       "      <td>1.0</td>\n",
       "    </tr>\n",
       "    <tr>\n",
       "      <th>3</th>\n",
       "      <td>53036660</td>\n",
       "      <td>GLAMOUR_sa</td>\n",
       "      <td>862</td>\n",
       "      <td>500682</td>\n",
       "      <td>355</td>\n",
       "      <td>36609</td>\n",
       "      <td>0.0</td>\n",
       "      <td>0.0</td>\n",
       "      <td>7.0</td>\n",
       "      <td>5.0</td>\n",
       "      <td>diverse authentic bold</td>\n",
       "      <td>Lady Gaga shows off huge engagement ring at th...</td>\n",
       "      <td>7.0</td>\n",
       "      <td>5.0</td>\n",
       "      <td>-2.0</td>\n",
       "      <td>12.0</td>\n",
       "      <td>0.583333</td>\n",
       "      <td>-0.166667</td>\n",
       "      <td>1.0</td>\n",
       "    </tr>\n",
       "    <tr>\n",
       "      <th>4</th>\n",
       "      <td>270106571</td>\n",
       "      <td>brotips</td>\n",
       "      <td>58</td>\n",
       "      <td>464707</td>\n",
       "      <td>1504</td>\n",
       "      <td>87848</td>\n",
       "      <td>0.0</td>\n",
       "      <td>0.0</td>\n",
       "      <td>9.0</td>\n",
       "      <td>4.0</td>\n",
       "      <td>deals for bros ... curated products make life ...</td>\n",
       "      <td>Nascar Owners Threaten To Fire Drivers Who Pro...</td>\n",
       "      <td>9.0</td>\n",
       "      <td>4.0</td>\n",
       "      <td>-5.0</td>\n",
       "      <td>13.0</td>\n",
       "      <td>0.692308</td>\n",
       "      <td>-0.384615</td>\n",
       "      <td>1.0</td>\n",
       "    </tr>\n",
       "  </tbody>\n",
       "</table>\n",
       "</div>"
      ],
      "text/plain": [
       "          uid             name friends_count followers_count listed_count  \\\n",
       "0    14669951    DRUDGE_REPORT             2         1378378        21171   \n",
       "1     1754641  nytimesbusiness           441          786324        14641   \n",
       "2  3863605355  historylvrsclub             0          544773         5041   \n",
       "3    53036660       GLAMOUR_sa           862          500682          355   \n",
       "4   270106571          brotips            58          464707         1504   \n",
       "\n",
       "  statuses_count  pff  pfr   gcf  gcr  \\\n",
       "0         237720  1.0  3.0   2.0  2.0   \n",
       "1         206786  0.0  3.0   4.0  4.0   \n",
       "2         252317  0.0  6.0  96.0  0.0   \n",
       "3          36609  0.0  0.0   7.0  5.0   \n",
       "4          87848  0.0  0.0   9.0  4.0   \n",
       "\n",
       "                                         description  \\\n",
       "0  the drudge report u.s. based news aggregation ...   \n",
       "1  financial tech media business news the new yor...   \n",
       "2  rare historical photos all copyrights belong r...   \n",
       "3                             diverse authentic bold   \n",
       "4  deals for bros ... curated products make life ...   \n",
       "\n",
       "                                              tweets  total_fake  total_real  \\\n",
       "0  ICE Detainer Issued for Suspected Wine Country...         3.0         5.0   \n",
       "1  The morning after the President’s rally in Mis...         4.0         7.0   \n",
       "2  President Barack Obama and Pope Francis meet f...        96.0         6.0   \n",
       "3  Lady Gaga shows off huge engagement ring at th...         7.0         5.0   \n",
       "4  Nascar Owners Threaten To Fire Drivers Who Pro...         9.0         4.0   \n",
       "\n",
       "   net_trust  total_news  fake_prob  net_trust_norm  fake  \n",
       "0        2.0         8.0   0.375000        0.250000   0.0  \n",
       "1        3.0        11.0   0.363636        0.272727   0.0  \n",
       "2      -90.0       102.0   0.941176       -0.882353   1.0  \n",
       "3       -2.0        12.0   0.583333       -0.166667   1.0  \n",
       "4       -5.0        13.0   0.692308       -0.384615   1.0  "
      ]
     },
     "execution_count": 15,
     "metadata": {},
     "output_type": "execute_result"
    }
   ],
   "source": [
    "df.head()"
   ]
  },
  {
   "cell_type": "code",
   "execution_count": null,
   "metadata": {},
   "outputs": [],
   "source": []
  },
  {
   "cell_type": "code",
   "execution_count": 16,
   "metadata": {},
   "outputs": [],
   "source": [
    "tweets = list(df['tweets'])"
   ]
  },
  {
   "cell_type": "code",
   "execution_count": 17,
   "metadata": {},
   "outputs": [],
   "source": [
    "clean_tweet = []\n",
    "\n",
    "for tweet in tweets:\n",
    "    tw = tweet.split('^')\n",
    "    clean_tw = []\n",
    "\n",
    "    for d in tw:\n",
    "        d = str(d)\n",
    "        d = d.replace(\"\\'s\", \" \")\n",
    "        d = d.replace(\"`\", \"\");\n",
    "        d = d.replace(\"\\\"\", \"\")\n",
    "        d = d.replace(\"-\", \" \")\n",
    "        d = d.replace(\"#\", \"\").replace(\"_\", \" \")\n",
    "        d = p.clean(d)\n",
    "        d = clean_tweets(d)\n",
    "        clean_tw.append(d)\n",
    "#         print(clean_tw)\n",
    "    clean_tweet.append(\"^\".join(clean_tw))"
   ]
  },
  {
   "cell_type": "code",
   "execution_count": 18,
   "metadata": {},
   "outputs": [
    {
     "name": "stdout",
     "output_type": "stream",
     "text": [
      "Before:  SHOCK VIDEO:  School kids taught to praise Obama... http://tinyurl.com/l3yxmg\n",
      "\n",
      "After:  shock video school kids taught praise obama ...\n"
     ]
    }
   ],
   "source": [
    "print('Before: ',tweets[0].split(\"^\")[2])\n",
    "print()\n",
    "print('After: ', clean_tweet[0].split(\"^\")[2])"
   ]
  },
  {
   "cell_type": "code",
   "execution_count": 19,
   "metadata": {},
   "outputs": [],
   "source": [
    "df['tweets'] = clean_tweet"
   ]
  },
  {
   "cell_type": "code",
   "execution_count": 20,
   "metadata": {},
   "outputs": [],
   "source": [
    "# df.head()"
   ]
  },
  {
   "cell_type": "code",
   "execution_count": 21,
   "metadata": {},
   "outputs": [],
   "source": [
    "df.to_csv(\"datasets/unverified_features_clean_4k.csv\", index = False)"
   ]
  },
  {
   "cell_type": "code",
   "execution_count": null,
   "metadata": {},
   "outputs": [],
   "source": []
  },
  {
   "cell_type": "code",
   "execution_count": null,
   "metadata": {},
   "outputs": [],
   "source": []
  },
  {
   "cell_type": "code",
   "execution_count": 22,
   "metadata": {},
   "outputs": [],
   "source": [
    "# df = pd.read_csv('users/verified_features_clean.csv')"
   ]
  },
  {
   "cell_type": "code",
   "execution_count": 23,
   "metadata": {},
   "outputs": [
    {
     "data": {
      "text/html": [
       "<div>\n",
       "<style scoped>\n",
       "    .dataframe tbody tr th:only-of-type {\n",
       "        vertical-align: middle;\n",
       "    }\n",
       "\n",
       "    .dataframe tbody tr th {\n",
       "        vertical-align: top;\n",
       "    }\n",
       "\n",
       "    .dataframe thead th {\n",
       "        text-align: right;\n",
       "    }\n",
       "</style>\n",
       "<table border=\"1\" class=\"dataframe\">\n",
       "  <thead>\n",
       "    <tr style=\"text-align: right;\">\n",
       "      <th></th>\n",
       "      <th>uid</th>\n",
       "      <th>name</th>\n",
       "      <th>friends_count</th>\n",
       "      <th>followers_count</th>\n",
       "      <th>listed_count</th>\n",
       "      <th>statuses_count</th>\n",
       "      <th>pff</th>\n",
       "      <th>pfr</th>\n",
       "      <th>gcf</th>\n",
       "      <th>gcr</th>\n",
       "      <th>description</th>\n",
       "      <th>tweets</th>\n",
       "      <th>total_fake</th>\n",
       "      <th>total_real</th>\n",
       "      <th>net_trust</th>\n",
       "      <th>total_news</th>\n",
       "      <th>fake_prob</th>\n",
       "      <th>net_trust_norm</th>\n",
       "      <th>fake</th>\n",
       "    </tr>\n",
       "  </thead>\n",
       "  <tbody>\n",
       "    <tr>\n",
       "      <th>0</th>\n",
       "      <td>14669951</td>\n",
       "      <td>DRUDGE_REPORT</td>\n",
       "      <td>2</td>\n",
       "      <td>1378378</td>\n",
       "      <td>21171</td>\n",
       "      <td>237720</td>\n",
       "      <td>1.0</td>\n",
       "      <td>3.0</td>\n",
       "      <td>2.0</td>\n",
       "      <td>2.0</td>\n",
       "      <td>the drudge report u.s. based news aggregation ...</td>\n",
       "      <td>ice detainer issued suspected wine country ars...</td>\n",
       "      <td>3.0</td>\n",
       "      <td>5.0</td>\n",
       "      <td>2.0</td>\n",
       "      <td>8.0</td>\n",
       "      <td>0.375000</td>\n",
       "      <td>0.250000</td>\n",
       "      <td>0.0</td>\n",
       "    </tr>\n",
       "    <tr>\n",
       "      <th>1</th>\n",
       "      <td>1754641</td>\n",
       "      <td>nytimesbusiness</td>\n",
       "      <td>441</td>\n",
       "      <td>786324</td>\n",
       "      <td>14641</td>\n",
       "      <td>206786</td>\n",
       "      <td>0.0</td>\n",
       "      <td>3.0</td>\n",
       "      <td>4.0</td>\n",
       "      <td>4.0</td>\n",
       "      <td>financial tech media business news the new yor...</td>\n",
       "      <td>the morning president rally missouri house com...</td>\n",
       "      <td>4.0</td>\n",
       "      <td>7.0</td>\n",
       "      <td>3.0</td>\n",
       "      <td>11.0</td>\n",
       "      <td>0.363636</td>\n",
       "      <td>0.272727</td>\n",
       "      <td>0.0</td>\n",
       "    </tr>\n",
       "    <tr>\n",
       "      <th>2</th>\n",
       "      <td>3863605355</td>\n",
       "      <td>historylvrsclub</td>\n",
       "      <td>0</td>\n",
       "      <td>544773</td>\n",
       "      <td>5041</td>\n",
       "      <td>252317</td>\n",
       "      <td>0.0</td>\n",
       "      <td>6.0</td>\n",
       "      <td>96.0</td>\n",
       "      <td>0.0</td>\n",
       "      <td>rare historical photos all copyrights belong r...</td>\n",
       "      <td>president barack obama pope francis meet first...</td>\n",
       "      <td>96.0</td>\n",
       "      <td>6.0</td>\n",
       "      <td>-90.0</td>\n",
       "      <td>102.0</td>\n",
       "      <td>0.941176</td>\n",
       "      <td>-0.882353</td>\n",
       "      <td>1.0</td>\n",
       "    </tr>\n",
       "    <tr>\n",
       "      <th>3</th>\n",
       "      <td>53036660</td>\n",
       "      <td>GLAMOUR_sa</td>\n",
       "      <td>862</td>\n",
       "      <td>500682</td>\n",
       "      <td>355</td>\n",
       "      <td>36609</td>\n",
       "      <td>0.0</td>\n",
       "      <td>0.0</td>\n",
       "      <td>7.0</td>\n",
       "      <td>5.0</td>\n",
       "      <td>diverse authentic bold</td>\n",
       "      <td>lady gaga shows huge engagement ring grammys g...</td>\n",
       "      <td>7.0</td>\n",
       "      <td>5.0</td>\n",
       "      <td>-2.0</td>\n",
       "      <td>12.0</td>\n",
       "      <td>0.583333</td>\n",
       "      <td>-0.166667</td>\n",
       "      <td>1.0</td>\n",
       "    </tr>\n",
       "    <tr>\n",
       "      <th>4</th>\n",
       "      <td>270106571</td>\n",
       "      <td>brotips</td>\n",
       "      <td>58</td>\n",
       "      <td>464707</td>\n",
       "      <td>1504</td>\n",
       "      <td>87848</td>\n",
       "      <td>0.0</td>\n",
       "      <td>0.0</td>\n",
       "      <td>9.0</td>\n",
       "      <td>4.0</td>\n",
       "      <td>deals for bros ... curated products make life ...</td>\n",
       "      <td>nascar owners threaten to fire drivers who pro...</td>\n",
       "      <td>9.0</td>\n",
       "      <td>4.0</td>\n",
       "      <td>-5.0</td>\n",
       "      <td>13.0</td>\n",
       "      <td>0.692308</td>\n",
       "      <td>-0.384615</td>\n",
       "      <td>1.0</td>\n",
       "    </tr>\n",
       "  </tbody>\n",
       "</table>\n",
       "</div>"
      ],
      "text/plain": [
       "          uid             name friends_count followers_count listed_count  \\\n",
       "0    14669951    DRUDGE_REPORT             2         1378378        21171   \n",
       "1     1754641  nytimesbusiness           441          786324        14641   \n",
       "2  3863605355  historylvrsclub             0          544773         5041   \n",
       "3    53036660       GLAMOUR_sa           862          500682          355   \n",
       "4   270106571          brotips            58          464707         1504   \n",
       "\n",
       "  statuses_count  pff  pfr   gcf  gcr  \\\n",
       "0         237720  1.0  3.0   2.0  2.0   \n",
       "1         206786  0.0  3.0   4.0  4.0   \n",
       "2         252317  0.0  6.0  96.0  0.0   \n",
       "3          36609  0.0  0.0   7.0  5.0   \n",
       "4          87848  0.0  0.0   9.0  4.0   \n",
       "\n",
       "                                         description  \\\n",
       "0  the drudge report u.s. based news aggregation ...   \n",
       "1  financial tech media business news the new yor...   \n",
       "2  rare historical photos all copyrights belong r...   \n",
       "3                             diverse authentic bold   \n",
       "4  deals for bros ... curated products make life ...   \n",
       "\n",
       "                                              tweets  total_fake  total_real  \\\n",
       "0  ice detainer issued suspected wine country ars...         3.0         5.0   \n",
       "1  the morning president rally missouri house com...         4.0         7.0   \n",
       "2  president barack obama pope francis meet first...        96.0         6.0   \n",
       "3  lady gaga shows huge engagement ring grammys g...         7.0         5.0   \n",
       "4  nascar owners threaten to fire drivers who pro...         9.0         4.0   \n",
       "\n",
       "   net_trust  total_news  fake_prob  net_trust_norm  fake  \n",
       "0        2.0         8.0   0.375000        0.250000   0.0  \n",
       "1        3.0        11.0   0.363636        0.272727   0.0  \n",
       "2      -90.0       102.0   0.941176       -0.882353   1.0  \n",
       "3       -2.0        12.0   0.583333       -0.166667   1.0  \n",
       "4       -5.0        13.0   0.692308       -0.384615   1.0  "
      ]
     },
     "execution_count": 23,
     "metadata": {},
     "output_type": "execute_result"
    }
   ],
   "source": [
    "df.head()"
   ]
  },
  {
   "cell_type": "code",
   "execution_count": null,
   "metadata": {},
   "outputs": [],
   "source": []
  },
  {
   "cell_type": "code",
   "execution_count": 24,
   "metadata": {},
   "outputs": [],
   "source": [
    "desc = list(df['description'])"
   ]
  },
  {
   "cell_type": "code",
   "execution_count": 25,
   "metadata": {},
   "outputs": [
    {
     "name": "stderr",
     "output_type": "stream",
     "text": [
      "100%|██████████| 3366/3366 [00:02<00:00, 1545.99it/s]\n"
     ]
    }
   ],
   "source": [
    "desc_sub = []\n",
    "desc_polar = []\n",
    "\n",
    "for d in tqdm(desc):\n",
    "    d = str(d)\n",
    "    text = TextBlob(d)\n",
    "    \n",
    "    desc_sub.append(text.sentiment.subjectivity)\n",
    "    desc_polar.append(text.sentiment.polarity)    "
   ]
  },
  {
   "cell_type": "code",
   "execution_count": 26,
   "metadata": {},
   "outputs": [],
   "source": [
    "df['desc_subjectivity'] = desc_sub \n",
    "df['desc_polarity'] = desc_polar"
   ]
  },
  {
   "cell_type": "code",
   "execution_count": 27,
   "metadata": {},
   "outputs": [
    {
     "data": {
      "text/html": [
       "<div>\n",
       "<style scoped>\n",
       "    .dataframe tbody tr th:only-of-type {\n",
       "        vertical-align: middle;\n",
       "    }\n",
       "\n",
       "    .dataframe tbody tr th {\n",
       "        vertical-align: top;\n",
       "    }\n",
       "\n",
       "    .dataframe thead th {\n",
       "        text-align: right;\n",
       "    }\n",
       "</style>\n",
       "<table border=\"1\" class=\"dataframe\">\n",
       "  <thead>\n",
       "    <tr style=\"text-align: right;\">\n",
       "      <th></th>\n",
       "      <th>uid</th>\n",
       "      <th>name</th>\n",
       "      <th>friends_count</th>\n",
       "      <th>followers_count</th>\n",
       "      <th>listed_count</th>\n",
       "      <th>statuses_count</th>\n",
       "      <th>pff</th>\n",
       "      <th>pfr</th>\n",
       "      <th>gcf</th>\n",
       "      <th>gcr</th>\n",
       "      <th>...</th>\n",
       "      <th>tweets</th>\n",
       "      <th>total_fake</th>\n",
       "      <th>total_real</th>\n",
       "      <th>net_trust</th>\n",
       "      <th>total_news</th>\n",
       "      <th>fake_prob</th>\n",
       "      <th>net_trust_norm</th>\n",
       "      <th>fake</th>\n",
       "      <th>desc_subjectivity</th>\n",
       "      <th>desc_polarity</th>\n",
       "    </tr>\n",
       "  </thead>\n",
       "  <tbody>\n",
       "    <tr>\n",
       "      <th>0</th>\n",
       "      <td>14669951</td>\n",
       "      <td>DRUDGE_REPORT</td>\n",
       "      <td>2</td>\n",
       "      <td>1378378</td>\n",
       "      <td>21171</td>\n",
       "      <td>237720</td>\n",
       "      <td>1.0</td>\n",
       "      <td>3.0</td>\n",
       "      <td>2.0</td>\n",
       "      <td>2.0</td>\n",
       "      <td>...</td>\n",
       "      <td>ice detainer issued suspected wine country ars...</td>\n",
       "      <td>3.0</td>\n",
       "      <td>5.0</td>\n",
       "      <td>2.0</td>\n",
       "      <td>8.0</td>\n",
       "      <td>0.375000</td>\n",
       "      <td>0.250000</td>\n",
       "      <td>0.0</td>\n",
       "      <td>0.000000</td>\n",
       "      <td>0.000000</td>\n",
       "    </tr>\n",
       "    <tr>\n",
       "      <th>1</th>\n",
       "      <td>1754641</td>\n",
       "      <td>nytimesbusiness</td>\n",
       "      <td>441</td>\n",
       "      <td>786324</td>\n",
       "      <td>14641</td>\n",
       "      <td>206786</td>\n",
       "      <td>0.0</td>\n",
       "      <td>3.0</td>\n",
       "      <td>4.0</td>\n",
       "      <td>4.0</td>\n",
       "      <td>...</td>\n",
       "      <td>the morning president rally missouri house com...</td>\n",
       "      <td>4.0</td>\n",
       "      <td>7.0</td>\n",
       "      <td>3.0</td>\n",
       "      <td>11.0</td>\n",
       "      <td>0.363636</td>\n",
       "      <td>0.272727</td>\n",
       "      <td>0.0</td>\n",
       "      <td>0.227273</td>\n",
       "      <td>0.068182</td>\n",
       "    </tr>\n",
       "  </tbody>\n",
       "</table>\n",
       "<p>2 rows × 21 columns</p>\n",
       "</div>"
      ],
      "text/plain": [
       "        uid             name friends_count followers_count listed_count  \\\n",
       "0  14669951    DRUDGE_REPORT             2         1378378        21171   \n",
       "1   1754641  nytimesbusiness           441          786324        14641   \n",
       "\n",
       "  statuses_count  pff  pfr  gcf  gcr  ...  \\\n",
       "0         237720  1.0  3.0  2.0  2.0  ...   \n",
       "1         206786  0.0  3.0  4.0  4.0  ...   \n",
       "\n",
       "                                              tweets total_fake  total_real  \\\n",
       "0  ice detainer issued suspected wine country ars...        3.0         5.0   \n",
       "1  the morning president rally missouri house com...        4.0         7.0   \n",
       "\n",
       "   net_trust  total_news  fake_prob  net_trust_norm  fake  desc_subjectivity  \\\n",
       "0        2.0         8.0   0.375000        0.250000   0.0           0.000000   \n",
       "1        3.0        11.0   0.363636        0.272727   0.0           0.227273   \n",
       "\n",
       "   desc_polarity  \n",
       "0       0.000000  \n",
       "1       0.068182  \n",
       "\n",
       "[2 rows x 21 columns]"
      ]
     },
     "execution_count": 27,
     "metadata": {},
     "output_type": "execute_result"
    }
   ],
   "source": [
    "df.head(2)"
   ]
  },
  {
   "cell_type": "code",
   "execution_count": 28,
   "metadata": {},
   "outputs": [
    {
     "data": {
      "image/png": "[encoded data removed]",
      "text/plain": [
       "<Figure size 432x288 with 1 Axes>"
      ]
     },
     "metadata": {},
     "output_type": "display_data"
    },
    {
     "data": {
      "image/png": "[encoded data removed]",
      "text/plain": [
       "<Figure size 432x288 with 1 Axes>"
      ]
     },
     "metadata": {},
     "output_type": "display_data"
    }
   ],
   "source": [
    "df.hist(column='desc_subjectivity', bins=20)\n",
    "df.hist(column='desc_polarity', bins=20)\n",
    "\n",
    "plt.show()"
   ]
  },
  {
   "cell_type": "code",
   "execution_count": null,
   "metadata": {},
   "outputs": [],
   "source": []
  },
  {
   "cell_type": "code",
   "execution_count": null,
   "metadata": {},
   "outputs": [],
   "source": []
  },
  {
   "cell_type": "code",
   "execution_count": 29,
   "metadata": {},
   "outputs": [
    {
     "name": "stderr",
     "output_type": "stream",
     "text": [
      "100%|██████████| 3366/3366 [02:23<00:00, 23.51it/s] \n"
     ]
    }
   ],
   "source": [
    "tweets = list(df['tweets'])\n",
    "\n",
    "tweets_sub = []\n",
    "tweets_polar = []\n",
    "\n",
    "for tweet in tqdm(tweets):\n",
    "    tw = tweet.split(\"^\")\n",
    "    num = len(tw)\n",
    "    \n",
    "    sub_arr = []\n",
    "    polar_arr = []\n",
    "    \n",
    "    for d in tw:\n",
    "\n",
    "        d = str(d)\n",
    "        text = TextBlob(d)\n",
    "\n",
    "        sub_arr.append(text.sentiment.subjectivity)\n",
    "        polar_arr.append(text.sentiment.polarity)    \n",
    "\n",
    "    sub = sum(sub_arr)/num\n",
    "    polar = sum(polar_arr)/num    \n",
    "    \n",
    "    tweets_sub.append(sub)\n",
    "    tweets_polar.append(polar)"
   ]
  },
  {
   "cell_type": "code",
   "execution_count": 30,
   "metadata": {},
   "outputs": [],
   "source": [
    "df['tweets_subjectivity'] = tweets_sub \n",
    "df['tweets_polarity'] = tweets_polar"
   ]
  },
  {
   "cell_type": "code",
   "execution_count": 31,
   "metadata": {},
   "outputs": [
    {
     "data": {
      "text/html": [
       "<div>\n",
       "<style scoped>\n",
       "    .dataframe tbody tr th:only-of-type {\n",
       "        vertical-align: middle;\n",
       "    }\n",
       "\n",
       "    .dataframe tbody tr th {\n",
       "        vertical-align: top;\n",
       "    }\n",
       "\n",
       "    .dataframe thead th {\n",
       "        text-align: right;\n",
       "    }\n",
       "</style>\n",
       "<table border=\"1\" class=\"dataframe\">\n",
       "  <thead>\n",
       "    <tr style=\"text-align: right;\">\n",
       "      <th></th>\n",
       "      <th>uid</th>\n",
       "      <th>name</th>\n",
       "      <th>friends_count</th>\n",
       "      <th>followers_count</th>\n",
       "      <th>listed_count</th>\n",
       "      <th>statuses_count</th>\n",
       "      <th>pff</th>\n",
       "      <th>pfr</th>\n",
       "      <th>gcf</th>\n",
       "      <th>gcr</th>\n",
       "      <th>...</th>\n",
       "      <th>total_real</th>\n",
       "      <th>net_trust</th>\n",
       "      <th>total_news</th>\n",
       "      <th>fake_prob</th>\n",
       "      <th>net_trust_norm</th>\n",
       "      <th>fake</th>\n",
       "      <th>desc_subjectivity</th>\n",
       "      <th>desc_polarity</th>\n",
       "      <th>tweets_subjectivity</th>\n",
       "      <th>tweets_polarity</th>\n",
       "    </tr>\n",
       "  </thead>\n",
       "  <tbody>\n",
       "    <tr>\n",
       "      <th>0</th>\n",
       "      <td>14669951</td>\n",
       "      <td>DRUDGE_REPORT</td>\n",
       "      <td>2</td>\n",
       "      <td>1378378</td>\n",
       "      <td>21171</td>\n",
       "      <td>237720</td>\n",
       "      <td>1.0</td>\n",
       "      <td>3.0</td>\n",
       "      <td>2.0</td>\n",
       "      <td>2.0</td>\n",
       "      <td>...</td>\n",
       "      <td>5.0</td>\n",
       "      <td>2.0</td>\n",
       "      <td>8.0</td>\n",
       "      <td>0.375000</td>\n",
       "      <td>0.250000</td>\n",
       "      <td>0.0</td>\n",
       "      <td>0.000000</td>\n",
       "      <td>0.000000</td>\n",
       "      <td>0.125000</td>\n",
       "      <td>-0.012500</td>\n",
       "    </tr>\n",
       "    <tr>\n",
       "      <th>1</th>\n",
       "      <td>1754641</td>\n",
       "      <td>nytimesbusiness</td>\n",
       "      <td>441</td>\n",
       "      <td>786324</td>\n",
       "      <td>14641</td>\n",
       "      <td>206786</td>\n",
       "      <td>0.0</td>\n",
       "      <td>3.0</td>\n",
       "      <td>4.0</td>\n",
       "      <td>4.0</td>\n",
       "      <td>...</td>\n",
       "      <td>7.0</td>\n",
       "      <td>3.0</td>\n",
       "      <td>11.0</td>\n",
       "      <td>0.363636</td>\n",
       "      <td>0.272727</td>\n",
       "      <td>0.0</td>\n",
       "      <td>0.227273</td>\n",
       "      <td>0.068182</td>\n",
       "      <td>0.145455</td>\n",
       "      <td>-0.049495</td>\n",
       "    </tr>\n",
       "    <tr>\n",
       "      <th>2</th>\n",
       "      <td>3863605355</td>\n",
       "      <td>historylvrsclub</td>\n",
       "      <td>0</td>\n",
       "      <td>544773</td>\n",
       "      <td>5041</td>\n",
       "      <td>252317</td>\n",
       "      <td>0.0</td>\n",
       "      <td>6.0</td>\n",
       "      <td>96.0</td>\n",
       "      <td>0.0</td>\n",
       "      <td>...</td>\n",
       "      <td>6.0</td>\n",
       "      <td>-90.0</td>\n",
       "      <td>102.0</td>\n",
       "      <td>0.941176</td>\n",
       "      <td>-0.882353</td>\n",
       "      <td>1.0</td>\n",
       "      <td>0.333333</td>\n",
       "      <td>0.100000</td>\n",
       "      <td>0.097059</td>\n",
       "      <td>0.047876</td>\n",
       "    </tr>\n",
       "    <tr>\n",
       "      <th>3</th>\n",
       "      <td>53036660</td>\n",
       "      <td>GLAMOUR_sa</td>\n",
       "      <td>862</td>\n",
       "      <td>500682</td>\n",
       "      <td>355</td>\n",
       "      <td>36609</td>\n",
       "      <td>0.0</td>\n",
       "      <td>0.0</td>\n",
       "      <td>7.0</td>\n",
       "      <td>5.0</td>\n",
       "      <td>...</td>\n",
       "      <td>5.0</td>\n",
       "      <td>-2.0</td>\n",
       "      <td>12.0</td>\n",
       "      <td>0.583333</td>\n",
       "      <td>-0.166667</td>\n",
       "      <td>1.0</td>\n",
       "      <td>0.708333</td>\n",
       "      <td>0.416667</td>\n",
       "      <td>0.336111</td>\n",
       "      <td>0.045833</td>\n",
       "    </tr>\n",
       "    <tr>\n",
       "      <th>4</th>\n",
       "      <td>270106571</td>\n",
       "      <td>brotips</td>\n",
       "      <td>58</td>\n",
       "      <td>464707</td>\n",
       "      <td>1504</td>\n",
       "      <td>87848</td>\n",
       "      <td>0.0</td>\n",
       "      <td>0.0</td>\n",
       "      <td>9.0</td>\n",
       "      <td>4.0</td>\n",
       "      <td>...</td>\n",
       "      <td>4.0</td>\n",
       "      <td>-5.0</td>\n",
       "      <td>13.0</td>\n",
       "      <td>0.692308</td>\n",
       "      <td>-0.384615</td>\n",
       "      <td>1.0</td>\n",
       "      <td>0.950000</td>\n",
       "      <td>0.750000</td>\n",
       "      <td>0.174709</td>\n",
       "      <td>0.118182</td>\n",
       "    </tr>\n",
       "  </tbody>\n",
       "</table>\n",
       "<p>5 rows × 23 columns</p>\n",
       "</div>"
      ],
      "text/plain": [
       "          uid             name friends_count followers_count listed_count  \\\n",
       "0    14669951    DRUDGE_REPORT             2         1378378        21171   \n",
       "1     1754641  nytimesbusiness           441          786324        14641   \n",
       "2  3863605355  historylvrsclub             0          544773         5041   \n",
       "3    53036660       GLAMOUR_sa           862          500682          355   \n",
       "4   270106571          brotips            58          464707         1504   \n",
       "\n",
       "  statuses_count  pff  pfr   gcf  gcr  ... total_real net_trust  total_news  \\\n",
       "0         237720  1.0  3.0   2.0  2.0  ...        5.0       2.0         8.0   \n",
       "1         206786  0.0  3.0   4.0  4.0  ...        7.0       3.0        11.0   \n",
       "2         252317  0.0  6.0  96.0  0.0  ...        6.0     -90.0       102.0   \n",
       "3          36609  0.0  0.0   7.0  5.0  ...        5.0      -2.0        12.0   \n",
       "4          87848  0.0  0.0   9.0  4.0  ...        4.0      -5.0        13.0   \n",
       "\n",
       "   fake_prob  net_trust_norm  fake  desc_subjectivity  desc_polarity  \\\n",
       "0   0.375000        0.250000   0.0           0.000000       0.000000   \n",
       "1   0.363636        0.272727   0.0           0.227273       0.068182   \n",
       "2   0.941176       -0.882353   1.0           0.333333       0.100000   \n",
       "3   0.583333       -0.166667   1.0           0.708333       0.416667   \n",
       "4   0.692308       -0.384615   1.0           0.950000       0.750000   \n",
       "\n",
       "   tweets_subjectivity  tweets_polarity  \n",
       "0             0.125000        -0.012500  \n",
       "1             0.145455        -0.049495  \n",
       "2             0.097059         0.047876  \n",
       "3             0.336111         0.045833  \n",
       "4             0.174709         0.118182  \n",
       "\n",
       "[5 rows x 23 columns]"
      ]
     },
     "execution_count": 31,
     "metadata": {},
     "output_type": "execute_result"
    }
   ],
   "source": [
    "df.head()"
   ]
  },
  {
   "cell_type": "code",
   "execution_count": 32,
   "metadata": {},
   "outputs": [
    {
     "data": {
      "image/png": "[encoded data removed]",
      "text/plain": [
       "<Figure size 432x288 with 1 Axes>"
      ]
     },
     "metadata": {},
     "output_type": "display_data"
    },
    {
     "data": {
      "image/png": "[encoded data removed]",
      "text/plain": [
       "<Figure size 432x288 with 1 Axes>"
      ]
     },
     "metadata": {},
     "output_type": "display_data"
    }
   ],
   "source": [
    "df.hist(column='tweets_subjectivity', bins=20)\n",
    "df.hist(column='tweets_polarity', bins=20)\n",
    "\n",
    "plt.show()"
   ]
  },
  {
   "cell_type": "code",
   "execution_count": null,
   "metadata": {},
   "outputs": [],
   "source": []
  },
  {
   "cell_type": "code",
   "execution_count": null,
   "metadata": {},
   "outputs": [],
   "source": []
  },
  {
   "cell_type": "code",
   "execution_count": null,
   "metadata": {},
   "outputs": [],
   "source": []
  },
  {
   "cell_type": "code",
   "execution_count": 33,
   "metadata": {},
   "outputs": [],
   "source": [
    "lexicon = Empath()"
   ]
  },
  {
   "cell_type": "code",
   "execution_count": 34,
   "metadata": {},
   "outputs": [],
   "source": [
    "ex = lexicon.analyze(desc[0], normalize=True)"
   ]
  },
  {
   "cell_type": "code",
   "execution_count": 35,
   "metadata": {},
   "outputs": [],
   "source": [
    "it = list(ex.items())\n",
    "\n",
    "header = [x for (x,y) in it]"
   ]
  },
  {
   "cell_type": "code",
   "execution_count": 36,
   "metadata": {},
   "outputs": [],
   "source": [
    "def column_sum(lst):   \n",
    "    return [sum(i) for i in zip(*lst)] "
   ]
  },
  {
   "cell_type": "code",
   "execution_count": null,
   "metadata": {},
   "outputs": [
    {
     "name": "stderr",
     "output_type": "stream",
     "text": [
      " 54%|█████▎    | 1807/3366 [25:08<05:06,  5.09it/s]   "
     ]
    }
   ],
   "source": [
    "ans = []\n",
    "\n",
    "for tweet in tqdm(tweets):\n",
    "    tw = tweet.split(\"^\")\n",
    "    num = len(tw)\n",
    "    \n",
    "    arr = []\n",
    "    \n",
    "    for d in tw:\n",
    "\n",
    "        d = str(d)\n",
    "        if d == \"\":\n",
    "            continue\n",
    "        it = list(lexicon.analyze(d, normalize=True).items())\n",
    "        emp = [y for (x,y) in it]\n",
    "        arr.append(emp)\n",
    "    \n",
    "    col_sum = column_sum(arr)\n",
    "    ans.append([x/num for x in col_sum])"
   ]
  },
  {
   "cell_type": "code",
   "execution_count": null,
   "metadata": {},
   "outputs": [],
   "source": [
    "# tweets[585].split(\"^\")"
   ]
  },
  {
   "cell_type": "code",
   "execution_count": null,
   "metadata": {},
   "outputs": [],
   "source": [
    "len(ans)"
   ]
  },
  {
   "cell_type": "code",
   "execution_count": null,
   "metadata": {},
   "outputs": [],
   "source": [
    "len(ans[0])"
   ]
  },
  {
   "cell_type": "code",
   "execution_count": null,
   "metadata": {},
   "outputs": [],
   "source": [
    "new_head = []\n",
    "\n",
    "for head in header:\n",
    "    new_head.append(head + \"_empath\")"
   ]
  },
  {
   "cell_type": "code",
   "execution_count": null,
   "metadata": {},
   "outputs": [],
   "source": [
    "df_empath = pd.DataFrame(ans, columns = new_head) "
   ]
  },
  {
   "cell_type": "code",
   "execution_count": null,
   "metadata": {},
   "outputs": [],
   "source": [
    "df_empath"
   ]
  },
  {
   "cell_type": "code",
   "execution_count": null,
   "metadata": {},
   "outputs": [],
   "source": []
  },
  {
   "cell_type": "code",
   "execution_count": null,
   "metadata": {},
   "outputs": [],
   "source": []
  },
  {
   "cell_type": "code",
   "execution_count": null,
   "metadata": {},
   "outputs": [],
   "source": []
  },
  {
   "cell_type": "code",
   "execution_count": null,
   "metadata": {},
   "outputs": [],
   "source": [
    "cols = ['pff', 'pfr', 'gcf', 'gcr', 'description', 'tweets', 'total_fake',\n",
    "        'total_real', 'net_trust', 'total_news', 'fake_prob', 'net_trust_norm']\n",
    "\n",
    "df.drop(cols, axis=1, inplace=True)"
   ]
  },
  {
   "cell_type": "code",
   "execution_count": null,
   "metadata": {},
   "outputs": [],
   "source": [
    "df.info()"
   ]
  },
  {
   "cell_type": "code",
   "execution_count": null,
   "metadata": {},
   "outputs": [],
   "source": []
  },
  {
   "cell_type": "code",
   "execution_count": null,
   "metadata": {},
   "outputs": [],
   "source": []
  },
  {
   "cell_type": "code",
   "execution_count": null,
   "metadata": {},
   "outputs": [],
   "source": [
    "df_features = pd.concat(\n",
    "    [\n",
    "        df, df_empath\n",
    "    ], axis=1\n",
    ")"
   ]
  },
  {
   "cell_type": "code",
   "execution_count": null,
   "metadata": {},
   "outputs": [],
   "source": [
    "df_features.head(10)"
   ]
  },
  {
   "cell_type": "code",
   "execution_count": null,
   "metadata": {},
   "outputs": [],
   "source": [
    "# df_features = pd.read_csv('datasets/verified_features_all_300k.csv')"
   ]
  },
  {
   "cell_type": "code",
   "execution_count": null,
   "metadata": {},
   "outputs": [],
   "source": [
    "df_features = df_features.dropna()\n",
    "# df_features[df_features['uid'] == 936040869878042624]"
   ]
  },
  {
   "cell_type": "code",
   "execution_count": null,
   "metadata": {},
   "outputs": [],
   "source": []
  },
  {
   "cell_type": "code",
   "execution_count": null,
   "metadata": {},
   "outputs": [],
   "source": [
    "df_features.to_csv('datasets/unverified_features_all_4k.csv', index=False)"
   ]
  },
  {
   "cell_type": "code",
   "execution_count": null,
   "metadata": {},
   "outputs": [],
   "source": [
    "df_features.hist(column='positive_emotion_empath', bins=20)\n",
    "\n",
    "\n",
    "plt.show()"
   ]
  },
  {
   "cell_type": "code",
   "execution_count": null,
   "metadata": {},
   "outputs": [],
   "source": [
    "\n",
    "# df_features.hist(column='friends_count', bins=20)\n",
    "# df_features.hist(column='followers_count', bins=20)\n",
    "# df_features.hist(column='listed_count', bins=30)\n",
    "# df_features.hist(column='statuses_count', bins=30)\n",
    "\n",
    "# plt.show()"
   ]
  },
  {
   "cell_type": "code",
   "execution_count": null,
   "metadata": {},
   "outputs": [],
   "source": [
    "df_features.info()"
   ]
  },
  {
   "cell_type": "code",
   "execution_count": null,
   "metadata": {},
   "outputs": [],
   "source": []
  }
 ],
 "metadata": {
  "kernelspec": {
   "display_name": "Python 3",
   "language": "python",
   "name": "python3"
  },
  "language_info": {
   "codemirror_mode": {
    "name": "ipython",
    "version": 3
   },
   "file_extension": ".py",
   "mimetype": "text/x-python",
   "name": "python",
   "nbconvert_exporter": "python",
   "pygments_lexer": "ipython3",
   "version": "3.6.9"
  }
 },
 "nbformat": 4,
 "nbformat_minor": 2
}
