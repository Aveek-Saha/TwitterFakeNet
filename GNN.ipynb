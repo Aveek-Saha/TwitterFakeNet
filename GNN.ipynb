{
 "cells": [
  {
   "cell_type": "code",
   "execution_count": 1,
   "metadata": {
    "colab": {
     "base_uri": "https://localhost:8080/",
     "height": 439
    },
    "colab_type": "code",
    "id": "bYMZduxTuxo0",
    "outputId": "81b85e12-eeb4-4c20-ab8e-8fd6739f030e"
   },
   "outputs": [
    {
     "name": "stderr",
     "output_type": "stream",
     "text": [
      "/home/aveek/anaconda3/lib/python3.6/site-packages/h5py/__init__.py:36: FutureWarning: Conversion of the second argument of issubdtype from `float` to `np.floating` is deprecated. In future, it will be treated as `np.float64 == np.dtype(float).type`.\n",
      "  from ._conv import register_converters as _register_converters\n",
      "Using TensorFlow backend.\n",
      "/home/aveek/anaconda3/lib/python3.6/site-packages/tensorflow/python/framework/dtypes.py:526: FutureWarning: Passing (type, 1) or '1type' as a synonym of type is deprecated; in a future version of numpy, it will be understood as (type, (1,)) / '(1,)type'.\n",
      "  _np_qint8 = np.dtype([(\"qint8\", np.int8, 1)])\n",
      "/home/aveek/anaconda3/lib/python3.6/site-packages/tensorflow/python/framework/dtypes.py:527: FutureWarning: Passing (type, 1) or '1type' as a synonym of type is deprecated; in a future version of numpy, it will be understood as (type, (1,)) / '(1,)type'.\n",
      "  _np_quint8 = np.dtype([(\"quint8\", np.uint8, 1)])\n",
      "/home/aveek/anaconda3/lib/python3.6/site-packages/tensorflow/python/framework/dtypes.py:528: FutureWarning: Passing (type, 1) or '1type' as a synonym of type is deprecated; in a future version of numpy, it will be understood as (type, (1,)) / '(1,)type'.\n",
      "  _np_qint16 = np.dtype([(\"qint16\", np.int16, 1)])\n",
      "/home/aveek/anaconda3/lib/python3.6/site-packages/tensorflow/python/framework/dtypes.py:529: FutureWarning: Passing (type, 1) or '1type' as a synonym of type is deprecated; in a future version of numpy, it will be understood as (type, (1,)) / '(1,)type'.\n",
      "  _np_quint16 = np.dtype([(\"quint16\", np.uint16, 1)])\n",
      "/home/aveek/anaconda3/lib/python3.6/site-packages/tensorflow/python/framework/dtypes.py:530: FutureWarning: Passing (type, 1) or '1type' as a synonym of type is deprecated; in a future version of numpy, it will be understood as (type, (1,)) / '(1,)type'.\n",
      "  _np_qint32 = np.dtype([(\"qint32\", np.int32, 1)])\n",
      "/home/aveek/anaconda3/lib/python3.6/site-packages/tensorflow/python/framework/dtypes.py:535: FutureWarning: Passing (type, 1) or '1type' as a synonym of type is deprecated; in a future version of numpy, it will be understood as (type, (1,)) / '(1,)type'.\n",
      "  np_resource = np.dtype([(\"resource\", np.ubyte, 1)])\n"
     ]
    }
   ],
   "source": [
    "import networkx as nx\n",
    "import pandas as pd\n",
    "import numpy as np\n",
    "import matplotlib.pyplot as plt\n",
    "from numpy import isnan\n",
    "\n",
    "import stellargraph as sg\n",
    "from stellargraph.mapper import GraphSAGENodeGenerator, FullBatchNodeGenerator\n",
    "from stellargraph.layer import GraphSAGE, GCN, GAT\n",
    "from stellargraph import globalvar\n",
    "\n",
    "from keras import layers, optimizers, losses, metrics, Model, models\n",
    "from sklearn.preprocessing import StandardScaler\n",
    "from sklearn import preprocessing, feature_extraction\n",
    "from sklearn.model_selection import train_test_split, StratifiedKFold\n",
    "from sklearn import metrics\n",
    "from sklearn.metrics import accuracy_score, precision_score, recall_score, f1_score, confusion_matrix"
   ]
  },
  {
   "cell_type": "markdown",
   "metadata": {},
   "source": [
    "## Generate Networkx graph"
   ]
  },
  {
   "cell_type": "code",
   "execution_count": 2,
   "metadata": {
    "colab": {},
    "colab_type": "code",
    "id": "VcT3rUXRvnwk"
   },
   "outputs": [],
   "source": [
    "\n",
    "G = nx.read_gml('datasets/verified.gml')"
   ]
  },
  {
   "cell_type": "code",
   "execution_count": 3,
   "metadata": {
    "colab": {
     "base_uri": "https://localhost:8080/",
     "height": 33
    },
    "colab_type": "code",
    "id": "TzjI6Q64wCx4",
    "outputId": "1349b612-27f5-4562-c498-be3f00f57dc5"
   },
   "outputs": [
    {
     "data": {
      "text/plain": [
       "(2901, 148998)"
      ]
     },
     "execution_count": 3,
     "metadata": {},
     "output_type": "execute_result"
    }
   ],
   "source": [
    "G.number_of_nodes(), G.number_of_edges()"
   ]
  },
  {
   "cell_type": "markdown",
   "metadata": {},
   "source": [
    "## Features dataset"
   ]
  },
  {
   "cell_type": "code",
   "execution_count": 4,
   "metadata": {
    "colab": {},
    "colab_type": "code",
    "id": "MV6IYrLr2VVv"
   },
   "outputs": [],
   "source": [
    "\n",
    "df = pd.read_csv(\"datasets/verified_features_all_300k.csv\")\n"
   ]
  },
  {
   "cell_type": "code",
   "execution_count": 5,
   "metadata": {
    "colab": {
     "base_uri": "https://localhost:8080/",
     "height": 251
    },
    "colab_type": "code",
    "id": "hQCB1SbvjdkN",
    "outputId": "be549b72-b048-41b1-b09a-f95a4bd33866"
   },
   "outputs": [
    {
     "data": {
      "text/html": [
       "<div>\n",
       "<style scoped>\n",
       "    .dataframe tbody tr th:only-of-type {\n",
       "        vertical-align: middle;\n",
       "    }\n",
       "\n",
       "    .dataframe tbody tr th {\n",
       "        vertical-align: top;\n",
       "    }\n",
       "\n",
       "    .dataframe thead th {\n",
       "        text-align: right;\n",
       "    }\n",
       "</style>\n",
       "<table border=\"1\" class=\"dataframe\">\n",
       "  <thead>\n",
       "    <tr style=\"text-align: right;\">\n",
       "      <th></th>\n",
       "      <th>uid</th>\n",
       "      <th>name</th>\n",
       "      <th>friends_count</th>\n",
       "      <th>followers_count</th>\n",
       "      <th>listed_count</th>\n",
       "      <th>statuses_count</th>\n",
       "      <th>fake</th>\n",
       "      <th>desc_subjectivity</th>\n",
       "      <th>desc_polarity</th>\n",
       "      <th>tweets_subjectivity</th>\n",
       "      <th>...</th>\n",
       "      <th>weapon_empath</th>\n",
       "      <th>children_empath</th>\n",
       "      <th>monster_empath</th>\n",
       "      <th>ocean_empath</th>\n",
       "      <th>giving_empath</th>\n",
       "      <th>contentment_empath</th>\n",
       "      <th>writing_empath</th>\n",
       "      <th>rural_empath</th>\n",
       "      <th>positive_emotion_empath</th>\n",
       "      <th>musical_empath</th>\n",
       "    </tr>\n",
       "  </thead>\n",
       "  <tbody>\n",
       "    <tr>\n",
       "      <th>0</th>\n",
       "      <td>1172796973</td>\n",
       "      <td>PTorresTV</td>\n",
       "      <td>548</td>\n",
       "      <td>1117</td>\n",
       "      <td>25</td>\n",
       "      <td>12136</td>\n",
       "      <td>0</td>\n",
       "      <td>0.0</td>\n",
       "      <td>0.0</td>\n",
       "      <td>0.312530</td>\n",
       "      <td>...</td>\n",
       "      <td>0.002391</td>\n",
       "      <td>0.021099</td>\n",
       "      <td>0.001657</td>\n",
       "      <td>0.001920</td>\n",
       "      <td>0.003702</td>\n",
       "      <td>0.000585</td>\n",
       "      <td>0.002335</td>\n",
       "      <td>0.002460</td>\n",
       "      <td>0.007839</td>\n",
       "      <td>0.011049</td>\n",
       "    </tr>\n",
       "    <tr>\n",
       "      <th>1</th>\n",
       "      <td>1070586199</td>\n",
       "      <td>EOnlineUK</td>\n",
       "      <td>353</td>\n",
       "      <td>102733</td>\n",
       "      <td>316</td>\n",
       "      <td>60989</td>\n",
       "      <td>0</td>\n",
       "      <td>0.0</td>\n",
       "      <td>0.0</td>\n",
       "      <td>0.301738</td>\n",
       "      <td>...</td>\n",
       "      <td>0.002308</td>\n",
       "      <td>0.021205</td>\n",
       "      <td>0.002619</td>\n",
       "      <td>0.002023</td>\n",
       "      <td>0.005247</td>\n",
       "      <td>0.000557</td>\n",
       "      <td>0.002802</td>\n",
       "      <td>0.002584</td>\n",
       "      <td>0.009525</td>\n",
       "      <td>0.013514</td>\n",
       "    </tr>\n",
       "    <tr>\n",
       "      <th>2</th>\n",
       "      <td>25589776</td>\n",
       "      <td>people</td>\n",
       "      <td>1751</td>\n",
       "      <td>7565880</td>\n",
       "      <td>33588</td>\n",
       "      <td>267090</td>\n",
       "      <td>1</td>\n",
       "      <td>0.0</td>\n",
       "      <td>0.0</td>\n",
       "      <td>0.324708</td>\n",
       "      <td>...</td>\n",
       "      <td>0.002769</td>\n",
       "      <td>0.032744</td>\n",
       "      <td>0.000474</td>\n",
       "      <td>0.001301</td>\n",
       "      <td>0.002765</td>\n",
       "      <td>0.000771</td>\n",
       "      <td>0.004536</td>\n",
       "      <td>0.005398</td>\n",
       "      <td>0.009638</td>\n",
       "      <td>0.008561</td>\n",
       "    </tr>\n",
       "    <tr>\n",
       "      <th>3</th>\n",
       "      <td>1367531</td>\n",
       "      <td>FoxNews</td>\n",
       "      <td>398</td>\n",
       "      <td>18416786</td>\n",
       "      <td>65345</td>\n",
       "      <td>418052</td>\n",
       "      <td>0</td>\n",
       "      <td>0.0</td>\n",
       "      <td>0.0</td>\n",
       "      <td>0.214538</td>\n",
       "      <td>...</td>\n",
       "      <td>0.002891</td>\n",
       "      <td>0.004289</td>\n",
       "      <td>0.001988</td>\n",
       "      <td>0.001589</td>\n",
       "      <td>0.001920</td>\n",
       "      <td>0.000191</td>\n",
       "      <td>0.003285</td>\n",
       "      <td>0.004726</td>\n",
       "      <td>0.002932</td>\n",
       "      <td>0.018821</td>\n",
       "    </tr>\n",
       "    <tr>\n",
       "      <th>4</th>\n",
       "      <td>20012204</td>\n",
       "      <td>usweekly</td>\n",
       "      <td>1177</td>\n",
       "      <td>2181224</td>\n",
       "      <td>11975</td>\n",
       "      <td>188328</td>\n",
       "      <td>1</td>\n",
       "      <td>0.9</td>\n",
       "      <td>0.5</td>\n",
       "      <td>0.264836</td>\n",
       "      <td>...</td>\n",
       "      <td>0.000750</td>\n",
       "      <td>0.035524</td>\n",
       "      <td>0.000372</td>\n",
       "      <td>0.002707</td>\n",
       "      <td>0.002477</td>\n",
       "      <td>0.000550</td>\n",
       "      <td>0.005693</td>\n",
       "      <td>0.001944</td>\n",
       "      <td>0.007702</td>\n",
       "      <td>0.008623</td>\n",
       "    </tr>\n",
       "  </tbody>\n",
       "</table>\n",
       "<p>5 rows × 205 columns</p>\n",
       "</div>"
      ],
      "text/plain": [
       "          uid       name  friends_count  followers_count  listed_count  \\\n",
       "0  1172796973  PTorresTV            548             1117            25   \n",
       "1  1070586199  EOnlineUK            353           102733           316   \n",
       "2    25589776     people           1751          7565880         33588   \n",
       "3     1367531    FoxNews            398         18416786         65345   \n",
       "4    20012204   usweekly           1177          2181224         11975   \n",
       "\n",
       "   statuses_count  fake  desc_subjectivity  desc_polarity  \\\n",
       "0           12136     0                0.0            0.0   \n",
       "1           60989     0                0.0            0.0   \n",
       "2          267090     1                0.0            0.0   \n",
       "3          418052     0                0.0            0.0   \n",
       "4          188328     1                0.9            0.5   \n",
       "\n",
       "   tweets_subjectivity  ...  weapon_empath  children_empath  monster_empath  \\\n",
       "0             0.312530  ...       0.002391         0.021099        0.001657   \n",
       "1             0.301738  ...       0.002308         0.021205        0.002619   \n",
       "2             0.324708  ...       0.002769         0.032744        0.000474   \n",
       "3             0.214538  ...       0.002891         0.004289        0.001988   \n",
       "4             0.264836  ...       0.000750         0.035524        0.000372   \n",
       "\n",
       "   ocean_empath  giving_empath  contentment_empath  writing_empath  \\\n",
       "0      0.001920       0.003702            0.000585        0.002335   \n",
       "1      0.002023       0.005247            0.000557        0.002802   \n",
       "2      0.001301       0.002765            0.000771        0.004536   \n",
       "3      0.001589       0.001920            0.000191        0.003285   \n",
       "4      0.002707       0.002477            0.000550        0.005693   \n",
       "\n",
       "   rural_empath  positive_emotion_empath  musical_empath  \n",
       "0      0.002460                 0.007839        0.011049  \n",
       "1      0.002584                 0.009525        0.013514  \n",
       "2      0.005398                 0.009638        0.008561  \n",
       "3      0.004726                 0.002932        0.018821  \n",
       "4      0.001944                 0.007702        0.008623  \n",
       "\n",
       "[5 rows x 205 columns]"
      ]
     },
     "execution_count": 5,
     "metadata": {},
     "output_type": "execute_result"
    }
   ],
   "source": [
    "df.head()"
   ]
  },
  {
   "cell_type": "code",
   "execution_count": 6,
   "metadata": {
    "colab": {
     "base_uri": "https://localhost:8080/",
     "height": 101
    },
    "colab_type": "code",
    "id": "eClJ8Ga8FfR4",
    "outputId": "24f6cfaa-8f0d-4bbc-d033-c34925a49444"
   },
   "outputs": [
    {
     "name": "stdout",
     "output_type": "stream",
     "text": [
      "<class 'pandas.core.frame.DataFrame'>\n",
      "RangeIndex: 2902 entries, 0 to 2901\n",
      "Columns: 205 entries, uid to musical_empath\n",
      "dtypes: float64(198), int64(6), object(1)\n",
      "memory usage: 4.5+ MB\n"
     ]
    }
   ],
   "source": [
    "df.info()"
   ]
  },
  {
   "cell_type": "markdown",
   "metadata": {},
   "source": [
    "### If some nodes are there in the graph but missing from the features dataset or vice versa, remove those nodes"
   ]
  },
  {
   "cell_type": "code",
   "execution_count": 7,
   "metadata": {
    "colab": {},
    "colab_type": "code",
    "id": "hiihEyhzGSvQ"
   },
   "outputs": [],
   "source": [
    "names = list(df['name'].values)"
   ]
  },
  {
   "cell_type": "code",
   "execution_count": 8,
   "metadata": {
    "colab": {},
    "colab_type": "code",
    "id": "M3-kcn2DFgbm"
   },
   "outputs": [],
   "source": [
    "sub_g = G.subgraph(names)"
   ]
  },
  {
   "cell_type": "code",
   "execution_count": 9,
   "metadata": {
    "colab": {
     "base_uri": "https://localhost:8080/",
     "height": 33
    },
    "colab_type": "code",
    "id": "GvYiFovNGfaC",
    "outputId": "87a3055a-12b2-4a72-dac9-6c76361385e3"
   },
   "outputs": [
    {
     "data": {
      "text/plain": [
       "(2900, 148998)"
      ]
     },
     "execution_count": 9,
     "metadata": {},
     "output_type": "execute_result"
    }
   ],
   "source": [
    "sub_g.number_of_nodes(), sub_g.number_of_edges()"
   ]
  },
  {
   "cell_type": "code",
   "execution_count": 10,
   "metadata": {
    "colab": {
     "base_uri": "https://localhost:8080/",
     "height": 101
    },
    "colab_type": "code",
    "id": "ZT_v245-NbQd",
    "outputId": "050db98e-56cd-4d65-916f-9ed2763afff5"
   },
   "outputs": [
    {
     "name": "stdout",
     "output_type": "stream",
     "text": [
      "<class 'pandas.core.frame.DataFrame'>\n",
      "Int64Index: 2900 entries, 0 to 2901\n",
      "Columns: 205 entries, uid to musical_empath\n",
      "dtypes: float64(198), int64(6), object(1)\n",
      "memory usage: 4.6+ MB\n"
     ]
    }
   ],
   "source": [
    "# df[]\n",
    "nodes = list(sub_g.nodes())\n",
    "\n",
    "df = df[df['name'].isin(nodes)]\n",
    "df.info()"
   ]
  },
  {
   "cell_type": "code",
   "execution_count": null,
   "metadata": {},
   "outputs": [],
   "source": []
  },
  {
   "cell_type": "code",
   "execution_count": 11,
   "metadata": {
    "colab": {},
    "colab_type": "code",
    "id": "XE_6ts9niKRY"
   },
   "outputs": [],
   "source": [
    "df = df[df['name'].isin(nodes)]\n",
    "names = list(df['name'].values)\n"
   ]
  },
  {
   "cell_type": "code",
   "execution_count": 12,
   "metadata": {
    "colab": {
     "base_uri": "https://localhost:8080/",
     "height": 33
    },
    "colab_type": "code",
    "id": "fv1Wq9_KiJ_z",
    "outputId": "3e617826-185d-438f-9838-7f9ebc3f7a42"
   },
   "outputs": [
    {
     "data": {
      "text/plain": [
       "'PTorresTV'"
      ]
     },
     "execution_count": 12,
     "metadata": {},
     "output_type": "execute_result"
    }
   ],
   "source": [
    "names[0]"
   ]
  },
  {
   "cell_type": "code",
   "execution_count": 13,
   "metadata": {
    "colab": {
     "base_uri": "https://localhost:8080/",
     "height": 33
    },
    "colab_type": "code",
    "id": "L55oatUZiJuK",
    "outputId": "1f04e152-8a67-4346-e9ab-9e4fe092a1e5"
   },
   "outputs": [
    {
     "data": {
      "text/plain": [
       "2900"
      ]
     },
     "execution_count": 13,
     "metadata": {},
     "output_type": "execute_result"
    }
   ],
   "source": [
    "# int(df['fake'][df['name'] == names[0]])\n",
    "len(names)"
   ]
  },
  {
   "cell_type": "code",
   "execution_count": 14,
   "metadata": {
    "colab": {
     "base_uri": "https://localhost:8080/",
     "height": 218
    },
    "colab_type": "code",
    "id": "A_FsvAmkiW81",
    "outputId": "854d34fb-f805-49b9-8e47-f55885deab5f"
   },
   "outputs": [],
   "source": [
    "# G.node['PTorresTV']"
   ]
  },
  {
   "cell_type": "markdown",
   "metadata": {
    "colab": {},
    "colab_type": "code",
    "id": "X2RiC2k4k1Ou"
   },
   "source": [
    "### Add the labels to the nodes as attributes\n",
    "These labels will come in handy while doing analysis in Gephi"
   ]
  },
  {
   "cell_type": "code",
   "execution_count": 15,
   "metadata": {
    "colab": {},
    "colab_type": "code",
    "id": "oCHFY515iWt1"
   },
   "outputs": [],
   "source": [
    "for n in names:\n",
    "    G.node[n]['fake'] = int(df['fake'][df['name'] == n])"
   ]
  },
  {
   "cell_type": "code",
   "execution_count": 16,
   "metadata": {
    "colab": {},
    "colab_type": "code",
    "id": "7rTN-_vHiWo8"
   },
   "outputs": [],
   "source": [
    "# G.node['PTorresTV']\n",
    "# nx.write_gml(G, \"datasets/verified_fake_labels.gml\")"
   ]
  },
  {
   "cell_type": "markdown",
   "metadata": {
    "colab": {},
    "colab_type": "code",
    "id": "FMsIDVuLWLKu"
   },
   "source": [
    "### Use power transform\n",
    "Since most of the features have a log-normal distribution, a power scalar is used to transform it into a gausian distribution"
   ]
  },
  {
   "cell_type": "code",
   "execution_count": 17,
   "metadata": {
    "colab": {},
    "colab_type": "code",
    "id": "PmNdV0ZXGiKn"
   },
   "outputs": [],
   "source": [
    "pt = preprocessing.PowerTransformer(method='yeo-johnson', \n",
    "                                    standardize=True)\n",
    "\n",
    "# pt = StandardScaler()"
   ]
  },
  {
   "cell_type": "code",
   "execution_count": null,
   "metadata": {
    "colab": {},
    "colab_type": "code",
    "id": "9PvYjGbhS6-g"
   },
   "outputs": [],
   "source": []
  },
  {
   "cell_type": "code",
   "execution_count": 18,
   "metadata": {
    "colab": {},
    "colab_type": "code",
    "id": "wQjzK1hWI69l"
   },
   "outputs": [
    {
     "name": "stderr",
     "output_type": "stream",
     "text": [
      "/home/aveek/anaconda3/lib/python3.6/site-packages/sklearn/preprocessing/data.py:2863: RuntimeWarning: divide by zero encountered in log\n",
      "  loglike = -n_samples / 2 * np.log(x_trans.var())\n"
     ]
    }
   ],
   "source": [
    "# values = df.drop(columns=['name', 'fake']).values\n",
    "values = df.drop(columns=['name', 'fake', 'uid']).values\n",
    "\n",
    "values_log = pt.fit_transform(values)"
   ]
  },
  {
   "cell_type": "code",
   "execution_count": 19,
   "metadata": {
    "colab": {},
    "colab_type": "code",
    "id": "CyjWhZCbfiOo"
   },
   "outputs": [],
   "source": [
    "df = df.reindex(columns=['fake'] + [ x for x in df.columns if x!='fake'])"
   ]
  },
  {
   "cell_type": "code",
   "execution_count": 20,
   "metadata": {
    "colab": {},
    "colab_type": "code",
    "id": "NC2MUY2sjEVn"
   },
   "outputs": [],
   "source": [
    "# df[df.columns[3:]]\n",
    "# df[df.columns[2:]]"
   ]
  },
  {
   "cell_type": "code",
   "execution_count": 21,
   "metadata": {
    "colab": {
     "base_uri": "https://localhost:8080/",
     "height": 251
    },
    "colab_type": "code",
    "id": "-NQuSFDHJO5X",
    "outputId": "d88f4ba6-b625-4df1-c252-5a7b328c6b65"
   },
   "outputs": [
    {
     "data": {
      "text/html": [
       "<div>\n",
       "<style scoped>\n",
       "    .dataframe tbody tr th:only-of-type {\n",
       "        vertical-align: middle;\n",
       "    }\n",
       "\n",
       "    .dataframe tbody tr th {\n",
       "        vertical-align: top;\n",
       "    }\n",
       "\n",
       "    .dataframe thead th {\n",
       "        text-align: right;\n",
       "    }\n",
       "</style>\n",
       "<table border=\"1\" class=\"dataframe\">\n",
       "  <thead>\n",
       "    <tr style=\"text-align: right;\">\n",
       "      <th></th>\n",
       "      <th>fake</th>\n",
       "      <th>uid</th>\n",
       "      <th>name</th>\n",
       "      <th>friends_count</th>\n",
       "      <th>followers_count</th>\n",
       "      <th>listed_count</th>\n",
       "      <th>statuses_count</th>\n",
       "      <th>desc_subjectivity</th>\n",
       "      <th>desc_polarity</th>\n",
       "      <th>tweets_subjectivity</th>\n",
       "      <th>...</th>\n",
       "      <th>weapon_empath</th>\n",
       "      <th>children_empath</th>\n",
       "      <th>monster_empath</th>\n",
       "      <th>ocean_empath</th>\n",
       "      <th>giving_empath</th>\n",
       "      <th>contentment_empath</th>\n",
       "      <th>writing_empath</th>\n",
       "      <th>rural_empath</th>\n",
       "      <th>positive_emotion_empath</th>\n",
       "      <th>musical_empath</th>\n",
       "    </tr>\n",
       "  </thead>\n",
       "  <tbody>\n",
       "    <tr>\n",
       "      <th>0</th>\n",
       "      <td>0</td>\n",
       "      <td>1172796973</td>\n",
       "      <td>PTorresTV</td>\n",
       "      <td>-0.581919</td>\n",
       "      <td>0.0</td>\n",
       "      <td>-2.234139</td>\n",
       "      <td>-1.296596</td>\n",
       "      <td>-0.914136</td>\n",
       "      <td>-0.427085</td>\n",
       "      <td>0.254067</td>\n",
       "      <td>...</td>\n",
       "      <td>0.406367</td>\n",
       "      <td>0.763588</td>\n",
       "      <td>3.025715</td>\n",
       "      <td>1.836441</td>\n",
       "      <td>0.862621</td>\n",
       "      <td>3.076810</td>\n",
       "      <td>-0.095552</td>\n",
       "      <td>0.513257</td>\n",
       "      <td>1.223009</td>\n",
       "      <td>0.979839</td>\n",
       "    </tr>\n",
       "    <tr>\n",
       "      <th>1</th>\n",
       "      <td>0</td>\n",
       "      <td>1070586199</td>\n",
       "      <td>EOnlineUK</td>\n",
       "      <td>-0.874906</td>\n",
       "      <td>0.0</td>\n",
       "      <td>-0.443690</td>\n",
       "      <td>0.013101</td>\n",
       "      <td>-0.914136</td>\n",
       "      <td>-0.427085</td>\n",
       "      <td>0.190879</td>\n",
       "      <td>...</td>\n",
       "      <td>0.379360</td>\n",
       "      <td>0.768702</td>\n",
       "      <td>3.556915</td>\n",
       "      <td>1.903542</td>\n",
       "      <td>1.214578</td>\n",
       "      <td>2.984755</td>\n",
       "      <td>-0.002623</td>\n",
       "      <td>0.554156</td>\n",
       "      <td>1.410441</td>\n",
       "      <td>1.174976</td>\n",
       "    </tr>\n",
       "    <tr>\n",
       "      <th>2</th>\n",
       "      <td>1</td>\n",
       "      <td>25589776</td>\n",
       "      <td>people</td>\n",
       "      <td>0.368048</td>\n",
       "      <td>0.0</td>\n",
       "      <td>2.312629</td>\n",
       "      <td>1.419716</td>\n",
       "      <td>-0.914136</td>\n",
       "      <td>-0.427085</td>\n",
       "      <td>0.324428</td>\n",
       "      <td>...</td>\n",
       "      <td>0.524213</td>\n",
       "      <td>1.211943</td>\n",
       "      <td>1.225343</td>\n",
       "      <td>1.350129</td>\n",
       "      <td>0.594292</td>\n",
       "      <td>3.590871</td>\n",
       "      <td>0.308841</td>\n",
       "      <td>1.260611</td>\n",
       "      <td>1.421453</td>\n",
       "      <td>0.733738</td>\n",
       "    </tr>\n",
       "    <tr>\n",
       "      <th>3</th>\n",
       "      <td>0</td>\n",
       "      <td>1367531</td>\n",
       "      <td>FoxNews</td>\n",
       "      <td>-0.798181</td>\n",
       "      <td>0.0</td>\n",
       "      <td>2.652388</td>\n",
       "      <td>1.890891</td>\n",
       "      <td>-0.914136</td>\n",
       "      <td>-0.427085</td>\n",
       "      <td>-0.350354</td>\n",
       "      <td>...</td>\n",
       "      <td>0.560568</td>\n",
       "      <td>-0.408646</td>\n",
       "      <td>3.264151</td>\n",
       "      <td>1.596237</td>\n",
       "      <td>0.308552</td>\n",
       "      <td>1.245072</td>\n",
       "      <td>0.089344</td>\n",
       "      <td>1.125324</td>\n",
       "      <td>0.329907</td>\n",
       "      <td>1.473822</td>\n",
       "    </tr>\n",
       "    <tr>\n",
       "      <th>4</th>\n",
       "      <td>1</td>\n",
       "      <td>20012204</td>\n",
       "      <td>usweekly</td>\n",
       "      <td>0.011520</td>\n",
       "      <td>0.0</td>\n",
       "      <td>1.761383</td>\n",
       "      <td>1.067187</td>\n",
       "      <td>1.608799</td>\n",
       "      <td>1.562750</td>\n",
       "      <td>-0.031281</td>\n",
       "      <td>...</td>\n",
       "      <td>-0.209424</td>\n",
       "      <td>1.291108</td>\n",
       "      <td>0.956071</td>\n",
       "      <td>2.268944</td>\n",
       "      <td>0.501842</td>\n",
       "      <td>2.960290</td>\n",
       "      <td>0.490076</td>\n",
       "      <td>0.331768</td>\n",
       "      <td>1.205752</td>\n",
       "      <td>0.740579</td>\n",
       "    </tr>\n",
       "  </tbody>\n",
       "</table>\n",
       "<p>5 rows × 205 columns</p>\n",
       "</div>"
      ],
      "text/plain": [
       "   fake         uid       name  friends_count  followers_count  listed_count  \\\n",
       "0     0  1172796973  PTorresTV      -0.581919              0.0     -2.234139   \n",
       "1     0  1070586199  EOnlineUK      -0.874906              0.0     -0.443690   \n",
       "2     1    25589776     people       0.368048              0.0      2.312629   \n",
       "3     0     1367531    FoxNews      -0.798181              0.0      2.652388   \n",
       "4     1    20012204   usweekly       0.011520              0.0      1.761383   \n",
       "\n",
       "   statuses_count  desc_subjectivity  desc_polarity  tweets_subjectivity  ...  \\\n",
       "0       -1.296596          -0.914136      -0.427085             0.254067  ...   \n",
       "1        0.013101          -0.914136      -0.427085             0.190879  ...   \n",
       "2        1.419716          -0.914136      -0.427085             0.324428  ...   \n",
       "3        1.890891          -0.914136      -0.427085            -0.350354  ...   \n",
       "4        1.067187           1.608799       1.562750            -0.031281  ...   \n",
       "\n",
       "   weapon_empath  children_empath  monster_empath  ocean_empath  \\\n",
       "0       0.406367         0.763588        3.025715      1.836441   \n",
       "1       0.379360         0.768702        3.556915      1.903542   \n",
       "2       0.524213         1.211943        1.225343      1.350129   \n",
       "3       0.560568        -0.408646        3.264151      1.596237   \n",
       "4      -0.209424         1.291108        0.956071      2.268944   \n",
       "\n",
       "   giving_empath  contentment_empath  writing_empath  rural_empath  \\\n",
       "0       0.862621            3.076810       -0.095552      0.513257   \n",
       "1       1.214578            2.984755       -0.002623      0.554156   \n",
       "2       0.594292            3.590871        0.308841      1.260611   \n",
       "3       0.308552            1.245072        0.089344      1.125324   \n",
       "4       0.501842            2.960290        0.490076      0.331768   \n",
       "\n",
       "   positive_emotion_empath  musical_empath  \n",
       "0                 1.223009        0.979839  \n",
       "1                 1.410441        1.174976  \n",
       "2                 1.421453        0.733738  \n",
       "3                 0.329907        1.473822  \n",
       "4                 1.205752        0.740579  \n",
       "\n",
       "[5 rows x 205 columns]"
      ]
     },
     "execution_count": 21,
     "metadata": {},
     "output_type": "execute_result"
    }
   ],
   "source": [
    "# df[df.columns[2:]] = values_log\n",
    "df[df.columns[3:]] = values_log\n",
    "df.head()"
   ]
  },
  {
   "cell_type": "markdown",
   "metadata": {},
   "source": [
    "After the power transform"
   ]
  },
  {
   "cell_type": "code",
   "execution_count": 22,
   "metadata": {
    "colab": {
     "base_uri": "https://localhost:8080/",
     "height": 265
    },
    "colab_type": "code",
    "id": "cqiryGjQJn3S",
    "outputId": "865988ba-3ca9-4491-839a-1858bb98943f"
   },
   "outputs": [
    {
     "data": {
      "image/png": "[encoded data removed]",
      "text/plain": [
       "<Figure size 432x288 with 1 Axes>"
      ]
     },
     "metadata": {},
     "output_type": "display_data"
    }
   ],
   "source": [
    "ax = plt.gca()\n",
    "\n",
    "df['money_empath'].plot.kde()\n",
    "\n",
    "plt.show()\n"
   ]
  },
  {
   "cell_type": "code",
   "execution_count": 23,
   "metadata": {
    "colab": {},
    "colab_type": "code",
    "id": "pMf9_cp6KfKo"
   },
   "outputs": [],
   "source": [
    "df.index = df.index.map(str)\n",
    "df = df.set_index('name')"
   ]
  },
  {
   "cell_type": "code",
   "execution_count": 24,
   "metadata": {
    "colab": {},
    "colab_type": "code",
    "id": "dwdv3MpaS3oI"
   },
   "outputs": [],
   "source": [
    "df.index.names = [None]"
   ]
  },
  {
   "cell_type": "code",
   "execution_count": 25,
   "metadata": {
    "colab": {
     "base_uri": "https://localhost:8080/",
     "height": 117
    },
    "colab_type": "code",
    "id": "IjA1k0cOS4Zy",
    "outputId": "5da29666-2434-4bbc-ee99-69c853b6c525"
   },
   "outputs": [
    {
     "name": "stdout",
     "output_type": "stream",
     "text": [
      "<class 'pandas.core.frame.DataFrame'>\n",
      "Index: 2900 entries, PTorresTV to LA_Beth\n",
      "Columns: 204 entries, fake to musical_empath\n",
      "dtypes: float64(202), int64(2)\n",
      "memory usage: 4.5+ MB\n",
      "None\n"
     ]
    }
   ],
   "source": [
    "print(df.info())"
   ]
  },
  {
   "cell_type": "code",
   "execution_count": 26,
   "metadata": {
    "colab": {},
    "colab_type": "code",
    "id": "FSW92yLijyPO"
   },
   "outputs": [],
   "source": [
    "# user_features\n",
    "# train_data"
   ]
  },
  {
   "cell_type": "code",
   "execution_count": 27,
   "metadata": {
    "colab": {},
    "colab_type": "code",
    "id": "DWgxToPfUUTx"
   },
   "outputs": [],
   "source": [
    "df = df.astype({'fake': int})"
   ]
  },
  {
   "cell_type": "code",
   "execution_count": 28,
   "metadata": {
    "colab": {},
    "colab_type": "code",
    "id": "NlB1knbWTs5X"
   },
   "outputs": [],
   "source": [
    "user_features = df.drop(columns=['fake', 'uid'])\n",
    "# user_features = df.drop(columns=['fake'])\n",
    "\n",
    "user_target = df['fake']"
   ]
  },
  {
   "cell_type": "markdown",
   "metadata": {},
   "source": [
    "## Graph Neural Networks"
   ]
  },
  {
   "cell_type": "markdown",
   "metadata": {},
   "source": [
    "### Split into training and testing sets"
   ]
  },
  {
   "cell_type": "code",
   "execution_count": 29,
   "metadata": {
    "colab": {
     "base_uri": "https://localhost:8080/",
     "height": 33
    },
    "colab_type": "code",
    "id": "eWUTS1E1Udnp",
    "outputId": "8cbf84d2-f47a-4e12-bb28-c8d1e98e6e8e"
   },
   "outputs": [
    {
     "data": {
      "text/plain": [
       "((2320, 1), (580, 1), (2320, 202), (580, 202))"
      ]
     },
     "execution_count": 29,
     "metadata": {},
     "output_type": "execute_result"
    }
   ],
   "source": [
    "train_data, test_data, train_targets, test_targets = train_test_split(user_features,\n",
    "                                         user_target,\n",
    "                                         test_size=0.2,\n",
    "                                         random_state=1)\n",
    "\n",
    "train_targets= train_targets.values.reshape((-1,1))\n",
    "test_targets= test_targets.values.reshape((-1,1))\n",
    "\n",
    "\n",
    "train_targets.shape, test_targets.shape, train_data.shape, test_data.shape"
   ]
  },
  {
   "cell_type": "code",
   "execution_count": 30,
   "metadata": {
    "colab": {},
    "colab_type": "code",
    "id": "g_bFkAOUUm6e"
   },
   "outputs": [],
   "source": [
    "stg = sg.StellarGraph(sub_g, node_features=df.drop(columns=['fake', 'uid']))"
   ]
  },
  {
   "cell_type": "markdown",
   "metadata": {},
   "source": [
    "### Create the model"
   ]
  },
  {
   "cell_type": "code",
   "execution_count": 31,
   "metadata": {},
   "outputs": [],
   "source": [
    "model_type = 'graphsage'    # Can be either gcn, gat, or graphsage\n"
   ]
  },
  {
   "cell_type": "code",
   "execution_count": 32,
   "metadata": {
    "colab": {},
    "colab_type": "code",
    "id": "J3hLdioEVO9H"
   },
   "outputs": [
    {
     "name": "stdout",
     "output_type": "stream",
     "text": [
      "WARNING:tensorflow:From /home/aveek/anaconda3/lib/python3.6/site-packages/tensorflow/python/ops/control_flow_ops.py:423: colocate_with (from tensorflow.python.framework.ops) is deprecated and will be removed in a future version.\n",
      "Instructions for updating:\n",
      "Colocations handled automatically by placer.\n",
      "WARNING:tensorflow:From /home/aveek/anaconda3/lib/python3.6/site-packages/keras/backend/tensorflow_backend.py:3445: calling dropout (from tensorflow.python.ops.nn_ops) with keep_prob is deprecated and will be removed in a future version.\n",
      "Instructions for updating:\n",
      "Please use `rate` instead of `keep_prob`. Rate should be set to `rate = 1 - keep_prob`.\n"
     ]
    }
   ],
   "source": [
    "\n",
    "if model_type == \"graphsage\":\n",
    "    # For GraphSAGE model\n",
    "    batch_size = 30; \n",
    "    num_samples = [20, 10]\n",
    "    epochs = 30\n",
    "    \n",
    "    generator = GraphSAGENodeGenerator(stg, batch_size, num_samples)\n",
    "    train_gen = generator.flow(train_data.index, \n",
    "                               train_targets, \n",
    "                               shuffle=True)\n",
    "    \n",
    "    base_model = GraphSAGE(\n",
    "        layer_sizes=[64, 64],\n",
    "        generator=train_gen,\n",
    "        bias=True,\n",
    "        dropout=0.5,\n",
    "    )\n",
    "    x_inp, x_out = base_model.default_model(flatten_output=True)\n",
    "    prediction = layers.Dense(units=1, activation=\"sigmoid\")(x_out)\n",
    "    \n",
    "elif model_type == \"gcn\":\n",
    "    # For GCN model\n",
    "    epochs = 20 \n",
    "    \n",
    "    generator = FullBatchNodeGenerator(stg, method=\"gcn\", sparse=True)\n",
    "    train_gen = generator.flow(train_data.index, \n",
    "                               train_targets, )\n",
    "    \n",
    "    base_model = GCN(\n",
    "        layer_sizes=[64, 32],\n",
    "        generator = generator,\n",
    "        bias=True,\n",
    "        dropout=0.2,\n",
    "        activations=[\"elu\", \"elu\"]\n",
    "    )\n",
    "    x_inp, x_out = base_model.node_model()\n",
    "    prediction = layers.Dense(units=1, activation=\"sigmoid\")(x_out)\n",
    "    \n",
    "elif model_type == \"gat\":\n",
    "    # For GAT model\n",
    "    layer_sizes = [8, 1]\n",
    "    attention_heads = 8\n",
    "    epochs = 20\n",
    "    \n",
    "    generator = FullBatchNodeGenerator(stg, method=\"gat\", sparse=True)\n",
    "    train_gen = generator.flow(train_data.index, \n",
    "                               train_targets,)\n",
    "    \n",
    "    base_model = GAT(\n",
    "        layer_sizes=layer_sizes,\n",
    "        attn_heads=attention_heads,\n",
    "        generator=generator,\n",
    "        bias=True,\n",
    "        in_dropout=0.5,\n",
    "        attn_dropout=0.5,\n",
    "        activations=[\"elu\", \"softmax\"],\n",
    "        normalize=None,\n",
    "    )\n",
    "    x_inp, prediction = base_model.node_model()"
   ]
  },
  {
   "cell_type": "code",
   "execution_count": null,
   "metadata": {
    "colab": {},
    "colab_type": "code",
    "id": "kJ3jZpq3Vgf5"
   },
   "outputs": [],
   "source": []
  },
  {
   "cell_type": "code",
   "execution_count": 33,
   "metadata": {
    "colab": {},
    "colab_type": "code",
    "id": "unhej__FVp0X"
   },
   "outputs": [],
   "source": [
    "\n",
    "model = Model(inputs=x_inp, outputs=prediction)"
   ]
  },
  {
   "cell_type": "code",
   "execution_count": 34,
   "metadata": {
    "colab": {},
    "colab_type": "code",
    "id": "DMkk7epDXINT"
   },
   "outputs": [],
   "source": [
    "model.compile(\n",
    "    optimizer=optimizers.Adam(lr=0.005),\n",
    "    loss=losses.binary_crossentropy,\n",
    "    metrics=[\"acc\"],\n",
    ")"
   ]
  },
  {
   "cell_type": "code",
   "execution_count": 35,
   "metadata": {
    "colab": {},
    "colab_type": "code",
    "id": "gzuvZ-rgX8-3"
   },
   "outputs": [],
   "source": [
    "test_gen = generator.flow(test_data.index, test_targets)"
   ]
  },
  {
   "cell_type": "markdown",
   "metadata": {},
   "source": [
    "### Train"
   ]
  },
  {
   "cell_type": "code",
   "execution_count": 36,
   "metadata": {
    "colab": {
     "base_uri": "https://localhost:8080/",
     "height": 1000
    },
    "colab_type": "code",
    "id": "FA6ms_w-YH58",
    "outputId": "495dc950-3973-4cf0-b09f-bb6f3db9ae8f"
   },
   "outputs": [
    {
     "name": "stdout",
     "output_type": "stream",
     "text": [
      "WARNING:tensorflow:From /home/aveek/anaconda3/lib/python3.6/site-packages/tensorflow/python/ops/math_ops.py:3066: to_int32 (from tensorflow.python.ops.math_ops) is deprecated and will be removed in a future version.\n",
      "Instructions for updating:\n",
      "Use tf.cast instead.\n",
      "Epoch 1/30\n",
      "78/78 [==============================] - 9s 120ms/step - loss: 0.6399 - acc: 0.6406 - val_loss: 0.5718 - val_acc: 0.7207\n",
      "Epoch 2/30\n",
      "78/78 [==============================] - 5s 64ms/step - loss: 0.5833 - acc: 0.7000 - val_loss: 0.5899 - val_acc: 0.6879\n",
      "Epoch 3/30\n",
      "78/78 [==============================] - 4s 53ms/step - loss: 0.5749 - acc: 0.7085 - val_loss: 0.5526 - val_acc: 0.7276\n",
      "Epoch 4/30\n",
      "78/78 [==============================] - 4s 52ms/step - loss: 0.5606 - acc: 0.7252 - val_loss: 0.5573 - val_acc: 0.7259\n",
      "Epoch 5/30\n",
      "78/78 [==============================] - 4s 52ms/step - loss: 0.5612 - acc: 0.7180 - val_loss: 0.5579 - val_acc: 0.7276\n",
      "Epoch 6/30\n",
      "78/78 [==============================] - 4s 53ms/step - loss: 0.5522 - acc: 0.7205 - val_loss: 0.5674 - val_acc: 0.7190\n",
      "Epoch 7/30\n",
      "78/78 [==============================] - 6s 76ms/step - loss: 0.5514 - acc: 0.7308 - val_loss: 0.5474 - val_acc: 0.7379\n",
      "Epoch 8/30\n",
      "78/78 [==============================] - 7s 91ms/step - loss: 0.5482 - acc: 0.7222 - val_loss: 0.5635 - val_acc: 0.7172\n",
      "Epoch 9/30\n",
      "78/78 [==============================] - 9s 117ms/step - loss: 0.5471 - acc: 0.7321 - val_loss: 0.5578 - val_acc: 0.7328\n",
      "Epoch 10/30\n",
      "78/78 [==============================] - 12s 158ms/step - loss: 0.5386 - acc: 0.7286 - val_loss: 0.5686 - val_acc: 0.7172\n",
      "Epoch 11/30\n",
      "78/78 [==============================] - 6s 78ms/step - loss: 0.5440 - acc: 0.7376 - val_loss: 0.5488 - val_acc: 0.7310\n",
      "Epoch 12/30\n",
      "78/78 [==============================] - 4s 53ms/step - loss: 0.5351 - acc: 0.7415 - val_loss: 0.5534 - val_acc: 0.7293\n",
      "Epoch 13/30\n",
      "78/78 [==============================] - 4s 53ms/step - loss: 0.5339 - acc: 0.7397 - val_loss: 0.5601 - val_acc: 0.7172\n",
      "Epoch 14/30\n",
      "78/78 [==============================] - 4s 53ms/step - loss: 0.5257 - acc: 0.7423 - val_loss: 0.5667 - val_acc: 0.7103\n",
      "Epoch 15/30\n",
      "78/78 [==============================] - 4s 56ms/step - loss: 0.5197 - acc: 0.7491 - val_loss: 0.5533 - val_acc: 0.7207\n",
      "Epoch 16/30\n",
      "78/78 [==============================] - 13s 164ms/step - loss: 0.5194 - acc: 0.7496 - val_loss: 0.5551 - val_acc: 0.7224\n",
      "Epoch 17/30\n",
      "78/78 [==============================] - 12s 149ms/step - loss: 0.5279 - acc: 0.7462 - val_loss: 0.5604 - val_acc: 0.7207\n",
      "Epoch 18/30\n",
      " 2/78 [..............................] - ETA: 32s - loss: 0.4636 - acc: 0.8000"
     ]
    },
    {
     "name": "stderr",
     "output_type": "stream",
     "text": [
      "/home/aveek/anaconda3/lib/python3.6/site-packages/keras/callbacks.py:122: UserWarning: Method on_batch_end() is slow compared to the batch update (0.111535). Check your callbacks.\n",
      "  % delta_t_median)\n"
     ]
    },
    {
     "name": "stdout",
     "output_type": "stream",
     "text": [
      "78/78 [==============================] - 13s 163ms/step - loss: 0.5158 - acc: 0.7560 - val_loss: 0.5739 - val_acc: 0.7172\n",
      "Epoch 19/30\n",
      "78/78 [==============================] - 6s 82ms/step - loss: 0.5067 - acc: 0.7650 - val_loss: 0.5643 - val_acc: 0.7207\n",
      "Epoch 20/30\n",
      "78/78 [==============================] - 4s 54ms/step - loss: 0.5308 - acc: 0.7321 - val_loss: 0.5756 - val_acc: 0.7103\n",
      "Epoch 21/30\n",
      "78/78 [==============================] - 7s 88ms/step - loss: 0.5183 - acc: 0.7534 - val_loss: 0.5504 - val_acc: 0.7362\n",
      "Epoch 22/30\n",
      "78/78 [==============================] - 4s 50ms/step - loss: 0.5168 - acc: 0.7432 - val_loss: 0.5686 - val_acc: 0.7155\n",
      "Epoch 23/30\n",
      "78/78 [==============================] - 4s 53ms/step - loss: 0.5189 - acc: 0.7432 - val_loss: 0.5643 - val_acc: 0.7310\n",
      "Epoch 24/30\n",
      "78/78 [==============================] - 7s 87ms/step - loss: 0.5126 - acc: 0.7440 - val_loss: 0.5693 - val_acc: 0.7172\n",
      "Epoch 25/30\n",
      "78/78 [==============================] - 4s 49ms/step - loss: 0.5130 - acc: 0.7491 - val_loss: 0.5657 - val_acc: 0.7172\n",
      "Epoch 26/30\n",
      "78/78 [==============================] - 4s 50ms/step - loss: 0.5124 - acc: 0.7564 - val_loss: 0.5747 - val_acc: 0.7069\n",
      "Epoch 27/30\n",
      "78/78 [==============================] - 4s 52ms/step - loss: 0.5165 - acc: 0.7543 - val_loss: 0.5726 - val_acc: 0.7190\n",
      "Epoch 28/30\n",
      "78/78 [==============================] - 4s 51ms/step - loss: 0.5018 - acc: 0.7564 - val_loss: 0.5672 - val_acc: 0.7172\n",
      "Epoch 29/30\n",
      "78/78 [==============================] - 4s 54ms/step - loss: 0.5247 - acc: 0.7359 - val_loss: 0.5679 - val_acc: 0.7069\n",
      "Epoch 30/30\n",
      "78/78 [==============================] - 5s 67ms/step - loss: 0.5025 - acc: 0.7598 - val_loss: 0.5579 - val_acc: 0.7276\n"
     ]
    }
   ],
   "source": [
    "history = model.fit_generator(\n",
    "    train_gen,\n",
    "    epochs=30,\n",
    "    validation_data=test_gen,\n",
    "    verbose=1,\n",
    "#     shuffle=False,\n",
    ")"
   ]
  },
  {
   "cell_type": "code",
   "execution_count": 37,
   "metadata": {
    "colab": {},
    "colab_type": "code",
    "id": "BpCJ8GYNYMKs"
   },
   "outputs": [],
   "source": [
    "\n",
    "# test_metrics = model.evaluate_generator(test_gen)\n",
    "# print(\"\\nTest Set Metrics:\")\n",
    "# for name, val in zip(model.metrics_names, test_metrics):\n",
    "#     print(\"\\t{}: {:0.4f}\".format(name, val))"
   ]
  },
  {
   "cell_type": "markdown",
   "metadata": {},
   "source": [
    "### Plot training and validation"
   ]
  },
  {
   "cell_type": "code",
   "execution_count": 38,
   "metadata": {
    "colab": {
     "base_uri": "https://localhost:8080/",
     "height": 573
    },
    "colab_type": "code",
    "id": "-9MgDVV0aZa6",
    "outputId": "7505000e-cfdc-49a2-ba96-1e4f6b878e38"
   },
   "outputs": [
    {
     "data": {
      "image/png": "[encoded data removed]",
      "text/plain": [
       "<Figure size 432x288 with 1 Axes>"
      ]
     },
     "metadata": {},
     "output_type": "display_data"
    },
    {
     "data": {
      "image/png": "[encoded data removed]",
      "text/plain": [
       "<Figure size 432x288 with 1 Axes>"
      ]
     },
     "metadata": {},
     "output_type": "display_data"
    }
   ],
   "source": [
    "plt.plot(history.history['acc'])\n",
    "plt.plot(history.history['val_acc'])\n",
    "plt.title('model accuracy')\n",
    "plt.ylabel('accuracy')\n",
    "plt.xlabel('epoch')\n",
    "plt.legend(['train', 'val'], loc='upper left')\n",
    "\n",
    "plt.show()\n",
    "\n",
    "plt.plot(history.history['loss'])\n",
    "plt.plot(history.history['val_loss'])\n",
    "plt.title('model loss')\n",
    "plt.ylabel('loss')\n",
    "plt.xlabel('epoch')\n",
    "plt.legend(['train', 'val'], loc='upper left')\n",
    "\n",
    "plt.show()"
   ]
  },
  {
   "cell_type": "markdown",
   "metadata": {
    "colab": {},
    "colab_type": "code",
    "id": "R1ayZYUnpiFy"
   },
   "source": [
    "### Calculate evaluation metrics"
   ]
  },
  {
   "cell_type": "code",
   "execution_count": 39,
   "metadata": {
    "colab": {},
    "colab_type": "code",
    "id": "_SoBtCZFdU5D"
   },
   "outputs": [],
   "source": [
    "\n",
    "all_nodes = df.drop(columns=['fake','uid']).index\n",
    "all_gen = generator.flow(all_nodes)"
   ]
  },
  {
   "cell_type": "code",
   "execution_count": 40,
   "metadata": {
    "colab": {},
    "colab_type": "code",
    "id": "eifinsrrdU1q"
   },
   "outputs": [],
   "source": [
    "all_predictions = model.predict_generator(all_gen).squeeze()[..., np.newaxis]"
   ]
  },
  {
   "cell_type": "code",
   "execution_count": 41,
   "metadata": {
    "colab": {
     "base_uri": "https://localhost:8080/",
     "height": 33
    },
    "colab_type": "code",
    "id": "NxIFcTJbdUzE",
    "outputId": "d617a13a-9168-477e-95ad-10b162565259"
   },
   "outputs": [
    {
     "data": {
      "text/plain": [
       "(2900, 1)"
      ]
     },
     "execution_count": 41,
     "metadata": {},
     "output_type": "execute_result"
    }
   ],
   "source": [
    "all_predictions.shape"
   ]
  },
  {
   "cell_type": "code",
   "execution_count": 42,
   "metadata": {
    "colab": {},
    "colab_type": "code",
    "id": "SSV-xyIXI8cr"
   },
   "outputs": [],
   "source": [
    "# df.drop(columns=['fake'])"
   ]
  },
  {
   "cell_type": "code",
   "execution_count": 43,
   "metadata": {
    "colab": {},
    "colab_type": "code",
    "id": "Xc2chFg9dUwR"
   },
   "outputs": [],
   "source": [
    "all_predictions_df = pd.DataFrame(all_predictions, \n",
    "                                  index=df.drop(columns=['fake','uid']).index)"
   ]
  },
  {
   "cell_type": "code",
   "execution_count": 44,
   "metadata": {
    "colab": {},
    "colab_type": "code",
    "id": "yv0IVpQ5dUuG"
   },
   "outputs": [],
   "source": [
    "test_preds = all_predictions_df.loc[test_data.index, :]"
   ]
  },
  {
   "cell_type": "code",
   "execution_count": 45,
   "metadata": {
    "colab": {
     "base_uri": "https://localhost:8080/",
     "height": 202
    },
    "colab_type": "code",
    "id": "bjlE5RtmdUry",
    "outputId": "771753c7-88c0-45ac-d176-6c333f86db78"
   },
   "outputs": [
    {
     "data": {
      "text/html": [
       "<div>\n",
       "<style scoped>\n",
       "    .dataframe tbody tr th:only-of-type {\n",
       "        vertical-align: middle;\n",
       "    }\n",
       "\n",
       "    .dataframe tbody tr th {\n",
       "        vertical-align: top;\n",
       "    }\n",
       "\n",
       "    .dataframe thead th {\n",
       "        text-align: right;\n",
       "    }\n",
       "</style>\n",
       "<table border=\"1\" class=\"dataframe\">\n",
       "  <thead>\n",
       "    <tr style=\"text-align: right;\">\n",
       "      <th></th>\n",
       "      <th>0</th>\n",
       "    </tr>\n",
       "  </thead>\n",
       "  <tbody>\n",
       "    <tr>\n",
       "      <th>949ThePoint</th>\n",
       "      <td>0.046528</td>\n",
       "    </tr>\n",
       "    <tr>\n",
       "      <th>BBCBreaking</th>\n",
       "      <td>0.358879</td>\n",
       "    </tr>\n",
       "    <tr>\n",
       "      <th>987fm</th>\n",
       "      <td>0.874673</td>\n",
       "    </tr>\n",
       "    <tr>\n",
       "      <th>hburgamerican</th>\n",
       "      <td>0.070797</td>\n",
       "    </tr>\n",
       "    <tr>\n",
       "      <th>rachelsklar</th>\n",
       "      <td>0.748886</td>\n",
       "    </tr>\n",
       "  </tbody>\n",
       "</table>\n",
       "</div>"
      ],
      "text/plain": [
       "                      0\n",
       "949ThePoint    0.046528\n",
       "BBCBreaking    0.358879\n",
       "987fm          0.874673\n",
       "hburgamerican  0.070797\n",
       "rachelsklar    0.748886"
      ]
     },
     "execution_count": 45,
     "metadata": {},
     "output_type": "execute_result"
    }
   ],
   "source": [
    "\n",
    "test_preds.head()"
   ]
  },
  {
   "cell_type": "code",
   "execution_count": 46,
   "metadata": {
    "colab": {
     "base_uri": "https://localhost:8080/",
     "height": 67
    },
    "colab_type": "code",
    "id": "17OS6e1AdUoy",
    "outputId": "015a91c8-a9d0-4f59-828a-8d4fd497107a"
   },
   "outputs": [
    {
     "name": "stdout",
     "output_type": "stream",
     "text": [
      "The AUC on test set:\n",
      "\n",
      "0.7913674197384066\n"
     ]
    }
   ],
   "source": [
    "from numpy import isnan\n",
    "test_predictions = test_preds.values\n",
    "where_are_NaNs = isnan(test_predictions)\n",
    "test_predictions[where_are_NaNs] = 0\n",
    "test_predictions_class = ((test_predictions>=0.5)*1).flatten()\n",
    "test_df = pd.DataFrame({\"Predicted_score\": test_predictions.flatten(), \n",
    "                        \"Predicted_class\": test_predictions_class, \n",
    "                        \"True\": test_targets[:,0]})\n",
    "roc_auc = metrics.roc_auc_score(test_df['True'].values, \n",
    "                                test_df['Predicted_score'].values)\n",
    "print(\"The AUC on test set:\\n\")\n",
    "print(roc_auc)"
   ]
  },
  {
   "cell_type": "code",
   "execution_count": 47,
   "metadata": {
    "colab": {},
    "colab_type": "code",
    "id": "IfQMrMDkDBUP"
   },
   "outputs": [],
   "source": [
    "# test_df['Predicted_score'].values\n",
    "# test_predictions_class\n",
    "# test_df['True'].values"
   ]
  },
  {
   "cell_type": "code",
   "execution_count": 48,
   "metadata": {
    "colab": {
     "base_uri": "https://localhost:8080/",
     "height": 140
    },
    "colab_type": "code",
    "id": "KmEPOyx9dUmn",
    "outputId": "6d17f970-9e32-430e-9417-516afb17415f"
   },
   "outputs": [
    {
     "data": {
      "text/html": [
       "<div>\n",
       "<style scoped>\n",
       "    .dataframe tbody tr th:only-of-type {\n",
       "        vertical-align: middle;\n",
       "    }\n",
       "\n",
       "    .dataframe tbody tr th {\n",
       "        vertical-align: top;\n",
       "    }\n",
       "\n",
       "    .dataframe thead th {\n",
       "        text-align: right;\n",
       "    }\n",
       "</style>\n",
       "<table border=\"1\" class=\"dataframe\">\n",
       "  <thead>\n",
       "    <tr style=\"text-align: right;\">\n",
       "      <th>Predicted_class</th>\n",
       "      <th>0</th>\n",
       "      <th>1</th>\n",
       "    </tr>\n",
       "    <tr>\n",
       "      <th>True</th>\n",
       "      <th></th>\n",
       "      <th></th>\n",
       "    </tr>\n",
       "  </thead>\n",
       "  <tbody>\n",
       "    <tr>\n",
       "      <th>0</th>\n",
       "      <td>179</td>\n",
       "      <td>111</td>\n",
       "    </tr>\n",
       "    <tr>\n",
       "      <th>1</th>\n",
       "      <td>52</td>\n",
       "      <td>238</td>\n",
       "    </tr>\n",
       "  </tbody>\n",
       "</table>\n",
       "</div>"
      ],
      "text/plain": [
       "Predicted_class    0    1\n",
       "True                     \n",
       "0                179  111\n",
       "1                 52  238"
      ]
     },
     "execution_count": 48,
     "metadata": {},
     "output_type": "execute_result"
    }
   ],
   "source": [
    "\n",
    "pd.crosstab(test_df['True'], test_df['Predicted_class'])"
   ]
  },
  {
   "cell_type": "code",
   "execution_count": null,
   "metadata": {
    "colab": {},
    "colab_type": "code",
    "id": "7AQgtOxzdUjx"
   },
   "outputs": [],
   "source": []
  },
  {
   "cell_type": "code",
   "execution_count": 49,
   "metadata": {
    "colab": {},
    "colab_type": "code",
    "id": "VH2ehseHdUfi",
    "scrolled": true
   },
   "outputs": [
    {
     "name": "stdout",
     "output_type": "stream",
     "text": [
      "Accuracy: 0.718966\n",
      "Precision: 0.681948\n",
      "Recall: 0.820690\n",
      "F1 score: 0.744914\n"
     ]
    }
   ],
   "source": [
    "\n",
    "print('Accuracy: %f' % accuracy_score(test_df['True'], test_df['Predicted_class']))\n",
    "print('Precision: %f' % precision_score(test_df['True'], test_df['Predicted_class']))\n",
    "print('Recall: %f' % recall_score(test_df['True'], test_df['Predicted_class']))\n",
    "print('F1 score: %f' % f1_score(test_df['True'], test_df['Predicted_class']))\n",
    "\n",
    "# confusion matrix\n",
    "# print(confusion_matrix(test_df['True'], test_df['Predicted_class']))"
   ]
  },
  {
   "cell_type": "markdown",
   "metadata": {
    "colab": {},
    "colab_type": "code",
    "id": "-_FTCC5x86oU"
   },
   "source": [
    "## Visualize learnt embeddings"
   ]
  },
  {
   "cell_type": "code",
   "execution_count": 50,
   "metadata": {},
   "outputs": [
    {
     "data": {
      "text/plain": [
       "[<keras.engine.input_layer.InputLayer at 0x7f762aeb6a58>,\n",
       " <keras.engine.input_layer.InputLayer at 0x7f762aeb6470>,\n",
       " <keras.engine.input_layer.InputLayer at 0x7f762aeb6828>,\n",
       " <keras.layers.core.Reshape at 0x7f762aeb6da0>,\n",
       " <keras.layers.core.Reshape at 0x7f762aeb65c0>,\n",
       " <keras.layers.core.Dropout at 0x7f762aeb6ba8>,\n",
       " <keras.layers.core.Dropout at 0x7f762aeb6780>,\n",
       " <keras.layers.core.Dropout at 0x7f762aeb6e48>,\n",
       " <keras.layers.core.Dropout at 0x7f762aeb4780>,\n",
       " <stellargraph.layer.graphsage.MeanAggregator at 0x7f762aeb66d8>,\n",
       " <keras.layers.core.Reshape at 0x7f762aeb6f98>,\n",
       " <keras.layers.core.Dropout at 0x7f762ae68a20>,\n",
       " <keras.layers.core.Dropout at 0x7f762aeb6ef0>,\n",
       " <stellargraph.layer.graphsage.MeanAggregator at 0x7f762aeb6390>,\n",
       " <keras.layers.core.Lambda at 0x7f762aeb6240>,\n",
       " <keras.layers.core.Reshape at 0x7f762ae7e390>,\n",
       " <keras.layers.core.Dense at 0x7f762ae68b00>]"
      ]
     },
     "execution_count": 50,
     "metadata": {},
     "output_type": "execute_result"
    }
   ],
   "source": [
    "model.layers"
   ]
  },
  {
   "cell_type": "code",
   "execution_count": 51,
   "metadata": {},
   "outputs": [],
   "source": [
    "if model_type == 'graphsage':\n",
    "    # For GraphSAGE, we are going to use the output activations \n",
    "    # of the second GraphSAGE layer as the node embeddings\n",
    "    # x_inp, prediction\n",
    "    emb_model = Model(inputs=x_inp, outputs=model.layers[-4].output)\n",
    "    emb = emb_model.predict_generator(generator=all_gen, )\n",
    "elif model_type == 'gcn':\n",
    "    # For GCN, we are going to use the output activations of \n",
    "    # the second GCN layer as the node embeddings\n",
    "    emb_model = Model(inputs=x_inp, outputs=model.layers[6].output)\n",
    "    emb = emb_model.predict_generator(generator=all_gen)\n",
    "elif model_type == 'gat':\n",
    "    # For GAT, we are going to use the output activations of the \n",
    "    # first Graph Attention layer as the node embeddings\n",
    "    emb_model = Model(inputs=x_inp, outputs=model.layers[6].output)\n",
    "    emb = emb_model.predict_generator(generator=all_gen)"
   ]
  },
  {
   "cell_type": "code",
   "execution_count": 52,
   "metadata": {},
   "outputs": [
    {
     "data": {
      "text/plain": [
       "(2900, 1, 64)"
      ]
     },
     "execution_count": 52,
     "metadata": {},
     "output_type": "execute_result"
    }
   ],
   "source": [
    "emb.shape"
   ]
  },
  {
   "cell_type": "code",
   "execution_count": 53,
   "metadata": {},
   "outputs": [],
   "source": [
    "emb = emb.squeeze()"
   ]
  },
  {
   "cell_type": "code",
   "execution_count": 54,
   "metadata": {},
   "outputs": [],
   "source": [
    "if model_type == \"graphsage\":\n",
    "    emb_all_df = pd.DataFrame(emb, index=df.index)\n",
    "elif model_type == \"gcn\" or model_type == \"gat\":\n",
    "    emb_all_df = pd.DataFrame(emb, index=G.nodes())"
   ]
  },
  {
   "cell_type": "code",
   "execution_count": 55,
   "metadata": {},
   "outputs": [],
   "source": [
    "emb_test = emb_all_df.loc[test_data.index, :]"
   ]
  },
  {
   "cell_type": "code",
   "execution_count": 56,
   "metadata": {},
   "outputs": [
    {
     "data": {
      "text/plain": [
       "(580, 64)"
      ]
     },
     "execution_count": 56,
     "metadata": {},
     "output_type": "execute_result"
    }
   ],
   "source": [
    "X = emb_test\n",
    "y = test_targets\n",
    "X.shape"
   ]
  },
  {
   "cell_type": "code",
   "execution_count": 57,
   "metadata": {},
   "outputs": [],
   "source": [
    "from sklearn.decomposition import PCA\n",
    "from sklearn.manifold import TSNE"
   ]
  },
  {
   "cell_type": "code",
   "execution_count": 58,
   "metadata": {},
   "outputs": [],
   "source": [
    "transform = TSNE # or use PCA \n",
    "\n",
    "trans = transform(n_components=2)\n",
    "emb_transformed = pd.DataFrame(trans.fit_transform(X), index=test_data.index)\n",
    "emb_transformed['label'] = y"
   ]
  },
  {
   "cell_type": "code",
   "execution_count": 59,
   "metadata": {},
   "outputs": [
    {
     "data": {
      "image/png": "[encoded data removed]",
      "text/plain": [
       "<Figure size 1008x576 with 1 Axes>"
      ]
     },
     "metadata": {},
     "output_type": "display_data"
    }
   ],
   "source": [
    "\n",
    "alpha = 0.7\n",
    "\n",
    "fig, ax = plt.subplots(figsize=(14,8,))\n",
    "ax.scatter(emb_transformed[0], emb_transformed[1], c=emb_transformed['label'].astype(\"category\"), \n",
    "            cmap=\"jet\", alpha=alpha)\n",
    "ax.set(xlabel=\"$X_1$\", ylabel=\"$X_2$\")\n",
    "plt.title('{} visualization of embeddings'.format(transform.__name__), fontsize=24)\n",
    "plt.show()"
   ]
  },
  {
   "cell_type": "markdown",
   "metadata": {},
   "source": [
    "## Compare GNN with Logistic regression"
   ]
  },
  {
   "cell_type": "code",
   "execution_count": 60,
   "metadata": {},
   "outputs": [],
   "source": [
    "from sklearn.linear_model import LogisticRegressionCV\n",
    "from sklearn import svm"
   ]
  },
  {
   "cell_type": "code",
   "execution_count": 61,
   "metadata": {},
   "outputs": [],
   "source": [
    "lr = LogisticRegressionCV(cv=5,  \n",
    "                          max_iter=10000)"
   ]
  },
  {
   "cell_type": "code",
   "execution_count": 62,
   "metadata": {},
   "outputs": [
    {
     "data": {
      "text/plain": [
       "LogisticRegressionCV(Cs=10, class_weight=None, cv=5, dual=False,\n",
       "                     fit_intercept=True, intercept_scaling=1.0, l1_ratios=None,\n",
       "                     max_iter=10000, multi_class='warn', n_jobs=None,\n",
       "                     penalty='l2', random_state=None, refit=True, scoring=None,\n",
       "                     solver='lbfgs', tol=0.0001, verbose=0)"
      ]
     },
     "execution_count": 62,
     "metadata": {},
     "output_type": "execute_result"
    }
   ],
   "source": [
    "lr.fit(train_data, train_targets.ravel())"
   ]
  },
  {
   "cell_type": "code",
   "execution_count": 63,
   "metadata": {},
   "outputs": [],
   "source": [
    "test_preds_lr = lr.predict_proba(test_data)"
   ]
  },
  {
   "cell_type": "code",
   "execution_count": 64,
   "metadata": {},
   "outputs": [
    {
     "data": {
      "text/plain": [
       "0.6862068965517242"
      ]
     },
     "execution_count": 64,
     "metadata": {},
     "output_type": "execute_result"
    }
   ],
   "source": [
    "lr.score(test_data, test_targets)"
   ]
  },
  {
   "cell_type": "code",
   "execution_count": 65,
   "metadata": {},
   "outputs": [],
   "source": [
    "# test_preds_lr[:, 1]"
   ]
  },
  {
   "cell_type": "code",
   "execution_count": 66,
   "metadata": {},
   "outputs": [],
   "source": [
    "test_predictions_class_lr = ((test_preds_lr[:, 1]>=0.5)*1).flatten()\n",
    "test_df_lr = pd.DataFrame({\"Predicted_score\": test_preds_lr[:, 1].flatten(), \n",
    "                        \"Predicted_class\": test_predictions_class_lr, \n",
    "                        \"True\": test_targets[:,0]})"
   ]
  },
  {
   "cell_type": "code",
   "execution_count": 67,
   "metadata": {},
   "outputs": [
    {
     "data": {
      "text/html": [
       "<div>\n",
       "<style scoped>\n",
       "    .dataframe tbody tr th:only-of-type {\n",
       "        vertical-align: middle;\n",
       "    }\n",
       "\n",
       "    .dataframe tbody tr th {\n",
       "        vertical-align: top;\n",
       "    }\n",
       "\n",
       "    .dataframe thead th {\n",
       "        text-align: right;\n",
       "    }\n",
       "</style>\n",
       "<table border=\"1\" class=\"dataframe\">\n",
       "  <thead>\n",
       "    <tr style=\"text-align: right;\">\n",
       "      <th>Predicted_class</th>\n",
       "      <th>0</th>\n",
       "      <th>1</th>\n",
       "    </tr>\n",
       "    <tr>\n",
       "      <th>True</th>\n",
       "      <th></th>\n",
       "      <th></th>\n",
       "    </tr>\n",
       "  </thead>\n",
       "  <tbody>\n",
       "    <tr>\n",
       "      <th>0</th>\n",
       "      <td>178</td>\n",
       "      <td>112</td>\n",
       "    </tr>\n",
       "    <tr>\n",
       "      <th>1</th>\n",
       "      <td>70</td>\n",
       "      <td>220</td>\n",
       "    </tr>\n",
       "  </tbody>\n",
       "</table>\n",
       "</div>"
      ],
      "text/plain": [
       "Predicted_class    0    1\n",
       "True                     \n",
       "0                178  112\n",
       "1                 70  220"
      ]
     },
     "execution_count": 67,
     "metadata": {},
     "output_type": "execute_result"
    }
   ],
   "source": [
    "pd.crosstab(test_df_lr['True'], test_df_lr['Predicted_class'])"
   ]
  },
  {
   "cell_type": "code",
   "execution_count": null,
   "metadata": {},
   "outputs": [],
   "source": []
  },
  {
   "cell_type": "code",
   "execution_count": 69,
   "metadata": {},
   "outputs": [],
   "source": [
    "#Create a svm Classifier\n",
    "# clf = svm.SVC(kernel='linear')\n",
    "# clf.fit(emb_train, train_targets.ravel())"
   ]
  },
  {
   "cell_type": "code",
   "execution_count": null,
   "metadata": {},
   "outputs": [],
   "source": []
  },
  {
   "cell_type": "code",
   "execution_count": null,
   "metadata": {},
   "outputs": [],
   "source": []
  },
  {
   "cell_type": "markdown",
   "metadata": {},
   "source": [
    "## Logistic regression and SVM with learnt embeddings + node features"
   ]
  },
  {
   "cell_type": "code",
   "execution_count": 70,
   "metadata": {},
   "outputs": [],
   "source": [
    "emb_train = emb_all_df.loc[train_data.index, :]"
   ]
  },
  {
   "cell_type": "code",
   "execution_count": 73,
   "metadata": {},
   "outputs": [],
   "source": [
    "# train_data\n",
    "# emb_train\n",
    "feat_train = train_data.merge(emb_train, left_index=True, right_index=True, how='inner')"
   ]
  },
  {
   "cell_type": "code",
   "execution_count": 75,
   "metadata": {},
   "outputs": [],
   "source": [
    "feat_test = test_data.merge(emb_test, left_index=True, right_index=True, how='inner')"
   ]
  },
  {
   "cell_type": "code",
   "execution_count": 76,
   "metadata": {},
   "outputs": [],
   "source": [
    "lr_emb = LogisticRegressionCV(cv=5,  \n",
    "                          max_iter=10000)"
   ]
  },
  {
   "cell_type": "code",
   "execution_count": 77,
   "metadata": {},
   "outputs": [
    {
     "data": {
      "text/plain": [
       "LogisticRegressionCV(Cs=10, class_weight=None, cv=5, dual=False,\n",
       "                     fit_intercept=True, intercept_scaling=1.0, l1_ratios=None,\n",
       "                     max_iter=10000, multi_class='warn', n_jobs=None,\n",
       "                     penalty='l2', random_state=None, refit=True, scoring=None,\n",
       "                     solver='lbfgs', tol=0.0001, verbose=0)"
      ]
     },
     "execution_count": 77,
     "metadata": {},
     "output_type": "execute_result"
    }
   ],
   "source": [
    "lr_emb.fit(feat_train, train_targets.ravel())"
   ]
  },
  {
   "cell_type": "code",
   "execution_count": 78,
   "metadata": {},
   "outputs": [],
   "source": [
    "test_preds_lr = lr_emb.predict_proba(feat_test)"
   ]
  },
  {
   "cell_type": "code",
   "execution_count": 80,
   "metadata": {},
   "outputs": [
    {
     "data": {
      "text/plain": [
       "0.7034482758620689"
      ]
     },
     "execution_count": 80,
     "metadata": {},
     "output_type": "execute_result"
    }
   ],
   "source": [
    "lr_emb.score(feat_test, test_targets)"
   ]
  },
  {
   "cell_type": "code",
   "execution_count": 81,
   "metadata": {},
   "outputs": [],
   "source": [
    "test_predictions_class_lr = ((test_preds_lr[:, 1]>=0.5)*1).flatten()\n",
    "test_df_lr = pd.DataFrame({\"Predicted_score\": test_preds_lr[:, 1].flatten(), \n",
    "                        \"Predicted_class\": test_predictions_class_lr, \n",
    "                        \"True\": test_targets[:,0]})"
   ]
  },
  {
   "cell_type": "code",
   "execution_count": 82,
   "metadata": {},
   "outputs": [
    {
     "data": {
      "text/html": [
       "<div>\n",
       "<style scoped>\n",
       "    .dataframe tbody tr th:only-of-type {\n",
       "        vertical-align: middle;\n",
       "    }\n",
       "\n",
       "    .dataframe tbody tr th {\n",
       "        vertical-align: top;\n",
       "    }\n",
       "\n",
       "    .dataframe thead th {\n",
       "        text-align: right;\n",
       "    }\n",
       "</style>\n",
       "<table border=\"1\" class=\"dataframe\">\n",
       "  <thead>\n",
       "    <tr style=\"text-align: right;\">\n",
       "      <th>Predicted_class</th>\n",
       "      <th>0</th>\n",
       "      <th>1</th>\n",
       "    </tr>\n",
       "    <tr>\n",
       "      <th>True</th>\n",
       "      <th></th>\n",
       "      <th></th>\n",
       "    </tr>\n",
       "  </thead>\n",
       "  <tbody>\n",
       "    <tr>\n",
       "      <th>0</th>\n",
       "      <td>189</td>\n",
       "      <td>101</td>\n",
       "    </tr>\n",
       "    <tr>\n",
       "      <th>1</th>\n",
       "      <td>71</td>\n",
       "      <td>219</td>\n",
       "    </tr>\n",
       "  </tbody>\n",
       "</table>\n",
       "</div>"
      ],
      "text/plain": [
       "Predicted_class    0    1\n",
       "True                     \n",
       "0                189  101\n",
       "1                 71  219"
      ]
     },
     "execution_count": 82,
     "metadata": {},
     "output_type": "execute_result"
    }
   ],
   "source": [
    "pd.crosstab(test_df_lr['True'], test_df_lr['Predicted_class'])"
   ]
  },
  {
   "cell_type": "code",
   "execution_count": null,
   "metadata": {},
   "outputs": [],
   "source": []
  },
  {
   "cell_type": "code",
   "execution_count": 83,
   "metadata": {},
   "outputs": [
    {
     "data": {
      "text/plain": [
       "SVC(C=1.0, cache_size=200, class_weight=None, coef0=0.0,\n",
       "    decision_function_shape='ovr', degree=3, gamma='scale', kernel='rbf',\n",
       "    max_iter=-1, probability=False, random_state=None, shrinking=True,\n",
       "    tol=0.001, verbose=False)"
      ]
     },
     "execution_count": 83,
     "metadata": {},
     "output_type": "execute_result"
    }
   ],
   "source": [
    "#Create a svm Classifier\n",
    "clf = svm.SVC(kernel='rbf', gamma='scale')\n",
    "clf.fit(feat_train, train_targets.ravel())"
   ]
  },
  {
   "cell_type": "code",
   "execution_count": 84,
   "metadata": {},
   "outputs": [],
   "source": [
    "y_pred = clf.predict(feat_test)"
   ]
  },
  {
   "cell_type": "code",
   "execution_count": 85,
   "metadata": {},
   "outputs": [
    {
     "name": "stdout",
     "output_type": "stream",
     "text": [
      "Accuracy: 0.7103448275862069\n"
     ]
    }
   ],
   "source": [
    "print(\"Accuracy:\", accuracy_score(test_targets.ravel(), y_pred))"
   ]
  },
  {
   "cell_type": "code",
   "execution_count": null,
   "metadata": {},
   "outputs": [],
   "source": []
  },
  {
   "cell_type": "markdown",
   "metadata": {},
   "source": [
    "## Cross validation using stratified K-fold"
   ]
  },
  {
   "cell_type": "code",
   "execution_count": 51,
   "metadata": {},
   "outputs": [],
   "source": [
    "model_type = \"graphsage\""
   ]
  },
  {
   "cell_type": "code",
   "execution_count": 38,
   "metadata": {},
   "outputs": [],
   "source": [
    "stg = sg.StellarGraph(sub_g, node_features=df.drop(columns=['fake', 'uid']))"
   ]
  },
  {
   "cell_type": "code",
   "execution_count": 58,
   "metadata": {},
   "outputs": [],
   "source": [
    "if model_type == \"graphsage\":\n",
    "    batch_size = 30\n",
    "    num_samples = [20, 10]\n",
    "    epochs = 50\n",
    "\n",
    "    generator = GraphSAGENodeGenerator(stg, batch_size, num_samples)\n",
    "\n",
    "elif model_type == \"gcn\":\n",
    "    # For GCN model\n",
    "    epochs = 20 \n",
    "    \n",
    "    generator = FullBatchNodeGenerator(stg, method=\"gcn\", sparse=True)\n",
    "    \n",
    "def create_model(train_data, train_targets):\n",
    "    \n",
    "    if model_type == \"graphsage\":\n",
    "        train_gen = generator.flow(train_data.index, \n",
    "                                   train_targets, \n",
    "                                   shuffle=True)\n",
    "\n",
    "        base_model = GraphSAGE(\n",
    "            layer_sizes=[64, 64],\n",
    "            generator=train_gen,\n",
    "            bias=True,\n",
    "            dropout=0.5,\n",
    "        )\n",
    "        x_inp, x_out = base_model.default_model(flatten_output=True)\n",
    "        prediction = layers.Dense(units=1, activation=\"sigmoid\")(x_out)\n",
    "\n",
    "    elif model_type == \"gcn\":\n",
    "        # For GCN model\n",
    "        \n",
    "        train_gen = generator.flow(train_data.index, \n",
    "                                   train_targets, )\n",
    "\n",
    "        base_model = GCN(\n",
    "            layer_sizes=[32, 16],\n",
    "            generator = generator,\n",
    "            bias=True,\n",
    "            dropout=0.5,\n",
    "            activations=[\"elu\", \"elu\"]\n",
    "        )\n",
    "        x_inp, x_out = base_model.node_model()\n",
    "        prediction = layers.Dense(units=1, activation=\"sigmoid\")(x_out)\n",
    "        \n",
    "    model = Model(inputs=x_inp, outputs=prediction)\n",
    "    return model, train_gen"
   ]
  },
  {
   "cell_type": "code",
   "execution_count": 59,
   "metadata": {},
   "outputs": [],
   "source": [
    "list_of_lists = []\n",
    "def test_model(test_data, test_targets):\n",
    "    \n",
    "    all_nodes = df.drop(columns=['fake','uid']).index\n",
    "    all_gen = generator.flow(all_nodes)\n",
    "    \n",
    "    all_predictions = model.predict_generator(all_gen).squeeze()[..., np.newaxis]\n",
    "    all_predictions_df = pd.DataFrame(all_predictions, \n",
    "                                  index=df.drop(columns=['fake','uid']).index)\n",
    "    test_preds = all_predictions_df.loc[test_data.index, :]\n",
    "    \n",
    "    test_predictions = test_preds.values\n",
    "    where_are_NaNs = isnan(test_predictions)\n",
    "    test_predictions[where_are_NaNs] = 0\n",
    "    test_predictions_class = ((test_predictions>=0.5)*1).flatten()\n",
    "    test_df = pd.DataFrame({\"Predicted_score\": test_predictions.flatten(), \n",
    "                            \"Predicted_class\": test_predictions_class, \n",
    "                            \"True\": test_targets[:,0]})\n",
    "    roc_auc = metrics.roc_auc_score(test_df['True'].values, \n",
    "                                    test_df['Predicted_score'].values)\n",
    "    acc = accuracy_score(test_df['True'], test_df['Predicted_class'])\n",
    "    prec = precision_score(test_df['True'], test_df['Predicted_class'])\n",
    "    recall = recall_score(test_df['True'], test_df['Predicted_class'])\n",
    "    f1 = f1_score(test_df['True'], test_df['Predicted_class'])\n",
    "    \n",
    "    list_of_lists.append([acc, prec,recall, f1, roc_auc])\n",
    "    \n",
    "    print('Test- ', 'Accuracy: %f' % acc, 'Precision: %f' % prec, 'Recall: %f' % recall, 'F1 score: %f' % f1 )\n",
    "    print()"
   ]
  },
  {
   "cell_type": "code",
   "execution_count": null,
   "metadata": {
    "colab": {},
    "colab_type": "code",
    "id": "tffmCWrF9GKc"
   },
   "outputs": [],
   "source": [
    "\n"
   ]
  },
  {
   "cell_type": "code",
   "execution_count": 60,
   "metadata": {},
   "outputs": [
    {
     "name": "stdout",
     "output_type": "stream",
     "text": [
      "Training on fold 1/10...\n",
      "Test-  Accuracy: 0.714777 Precision: 0.696809 Recall: 0.834395 F1 score: 0.759420\n",
      "\n",
      "Training on fold 2/10...\n",
      "Test-  Accuracy: 0.735395 Precision: 0.706186 Recall: 0.872611 F1 score: 0.780627\n",
      "\n",
      "Training on fold 3/10...\n",
      "Test-  Accuracy: 0.735395 Precision: 0.706186 Recall: 0.872611 F1 score: 0.780627\n",
      "\n",
      "Training on fold 4/10...\n",
      "Test-  Accuracy: 0.762887 Precision: 0.741758 Recall: 0.859873 F1 score: 0.796460\n",
      "\n",
      "Training on fold 5/10...\n",
      "Test-  Accuracy: 0.758621 Precision: 0.731183 Recall: 0.871795 F1 score: 0.795322\n",
      "\n",
      "Training on fold 6/10...\n",
      "Test-  Accuracy: 0.748276 Precision: 0.715026 Recall: 0.884615 F1 score: 0.790831\n",
      "\n",
      "Training on fold 7/10...\n",
      "Test-  Accuracy: 0.712803 Precision: 0.681592 Recall: 0.878205 F1 score: 0.767507\n",
      "\n",
      "Training on fold 8/10...\n",
      "Test-  Accuracy: 0.716263 Precision: 0.703297 Recall: 0.820513 F1 score: 0.757396\n",
      "\n",
      "Training on fold 9/10...\n",
      "Test-  Accuracy: 0.719723 Precision: 0.696335 Recall: 0.852564 F1 score: 0.766571\n",
      "\n",
      "Training on fold 10/10...\n",
      "Test-  Accuracy: 0.733564 Precision: 0.698492 Recall: 0.891026 F1 score: 0.783099\n",
      "\n"
     ]
    }
   ],
   "source": [
    "folds = 10\n",
    "\n",
    "# Instantiate the cross validator\n",
    "skf = StratifiedKFold(n_splits=folds, shuffle=True)\n",
    "# Loop through the indices the split() method returns\n",
    "for index, (train_indices, val_indices) in enumerate(skf.split(user_features, user_target)):\n",
    "    print (\"Training on fold \" + str(index+1) + \"/\" + str(folds) +\"...\")\n",
    "    # Generate batches from indices\n",
    "    train_data, train_targets = user_features.iloc[train_indices], user_target.iloc[train_indices]\n",
    "    test_data, test_targets = user_features.iloc[val_indices], user_target.iloc[val_indices]\n",
    "    train_targets= train_targets.values.reshape((-1,1))\n",
    "    test_targets= test_targets.values.reshape((-1,1))\n",
    "    # Clear model, and create it\n",
    "    model = None\n",
    "    model, train_gen = create_model(train_data, train_targets)\n",
    "    model.compile(\n",
    "        optimizer=optimizers.Adam(lr=0.005),\n",
    "        loss=losses.binary_crossentropy,\n",
    "        metrics=[\"acc\"],\n",
    "    )\n",
    "    \n",
    "#     model.compile(\n",
    "#         optimizer='adam',\n",
    "#         loss='binary_crossentropy',\n",
    "#         metrics=[\"acc\"],\n",
    "#     )\n",
    "    test_gen = generator.flow(test_data.index, test_targets)\n",
    "    \n",
    "    history = model.fit_generator(\n",
    "        train_gen,\n",
    "        epochs=50,\n",
    "        validation_data=test_gen,\n",
    "        verbose=0,\n",
    "    #     shuffle=False,\n",
    "    )\n",
    "    \n",
    "    test_model(test_data, test_targets)\n",
    "    \n"
   ]
  },
  {
   "cell_type": "code",
   "execution_count": 61,
   "metadata": {},
   "outputs": [],
   "source": [
    "scores = pd.DataFrame(list_of_lists, columns=['Accuracy','Precision','Recall','F1', 'AUC'])"
   ]
  },
  {
   "cell_type": "code",
   "execution_count": 62,
   "metadata": {},
   "outputs": [
    {
     "data": {
      "text/html": [
       "<div>\n",
       "<style scoped>\n",
       "    .dataframe tbody tr th:only-of-type {\n",
       "        vertical-align: middle;\n",
       "    }\n",
       "\n",
       "    .dataframe tbody tr th {\n",
       "        vertical-align: top;\n",
       "    }\n",
       "\n",
       "    .dataframe thead th {\n",
       "        text-align: right;\n",
       "    }\n",
       "</style>\n",
       "<table border=\"1\" class=\"dataframe\">\n",
       "  <thead>\n",
       "    <tr style=\"text-align: right;\">\n",
       "      <th></th>\n",
       "      <th>Accuracy</th>\n",
       "      <th>Precision</th>\n",
       "      <th>Recall</th>\n",
       "      <th>F1</th>\n",
       "      <th>AUC</th>\n",
       "    </tr>\n",
       "  </thead>\n",
       "  <tbody>\n",
       "    <tr>\n",
       "      <th>0</th>\n",
       "      <td>0.714777</td>\n",
       "      <td>0.696809</td>\n",
       "      <td>0.834395</td>\n",
       "      <td>0.759420</td>\n",
       "      <td>0.774884</td>\n",
       "    </tr>\n",
       "    <tr>\n",
       "      <th>1</th>\n",
       "      <td>0.735395</td>\n",
       "      <td>0.706186</td>\n",
       "      <td>0.872611</td>\n",
       "      <td>0.780627</td>\n",
       "      <td>0.815952</td>\n",
       "    </tr>\n",
       "    <tr>\n",
       "      <th>2</th>\n",
       "      <td>0.735395</td>\n",
       "      <td>0.706186</td>\n",
       "      <td>0.872611</td>\n",
       "      <td>0.780627</td>\n",
       "      <td>0.770891</td>\n",
       "    </tr>\n",
       "    <tr>\n",
       "      <th>3</th>\n",
       "      <td>0.762887</td>\n",
       "      <td>0.741758</td>\n",
       "      <td>0.859873</td>\n",
       "      <td>0.796460</td>\n",
       "      <td>0.818614</td>\n",
       "    </tr>\n",
       "    <tr>\n",
       "      <th>4</th>\n",
       "      <td>0.758621</td>\n",
       "      <td>0.731183</td>\n",
       "      <td>0.871795</td>\n",
       "      <td>0.795322</td>\n",
       "      <td>0.813816</td>\n",
       "    </tr>\n",
       "    <tr>\n",
       "      <th>5</th>\n",
       "      <td>0.748276</td>\n",
       "      <td>0.715026</td>\n",
       "      <td>0.884615</td>\n",
       "      <td>0.790831</td>\n",
       "      <td>0.804679</td>\n",
       "    </tr>\n",
       "    <tr>\n",
       "      <th>6</th>\n",
       "      <td>0.712803</td>\n",
       "      <td>0.681592</td>\n",
       "      <td>0.878205</td>\n",
       "      <td>0.767507</td>\n",
       "      <td>0.768797</td>\n",
       "    </tr>\n",
       "    <tr>\n",
       "      <th>7</th>\n",
       "      <td>0.716263</td>\n",
       "      <td>0.703297</td>\n",
       "      <td>0.820513</td>\n",
       "      <td>0.757396</td>\n",
       "      <td>0.791353</td>\n",
       "    </tr>\n",
       "    <tr>\n",
       "      <th>8</th>\n",
       "      <td>0.719723</td>\n",
       "      <td>0.696335</td>\n",
       "      <td>0.852564</td>\n",
       "      <td>0.766571</td>\n",
       "      <td>0.792703</td>\n",
       "    </tr>\n",
       "    <tr>\n",
       "      <th>9</th>\n",
       "      <td>0.733564</td>\n",
       "      <td>0.698492</td>\n",
       "      <td>0.891026</td>\n",
       "      <td>0.783099</td>\n",
       "      <td>0.763302</td>\n",
       "    </tr>\n",
       "  </tbody>\n",
       "</table>\n",
       "</div>"
      ],
      "text/plain": [
       "   Accuracy  Precision    Recall        F1       AUC\n",
       "0  0.714777   0.696809  0.834395  0.759420  0.774884\n",
       "1  0.735395   0.706186  0.872611  0.780627  0.815952\n",
       "2  0.735395   0.706186  0.872611  0.780627  0.770891\n",
       "3  0.762887   0.741758  0.859873  0.796460  0.818614\n",
       "4  0.758621   0.731183  0.871795  0.795322  0.813816\n",
       "5  0.748276   0.715026  0.884615  0.790831  0.804679\n",
       "6  0.712803   0.681592  0.878205  0.767507  0.768797\n",
       "7  0.716263   0.703297  0.820513  0.757396  0.791353\n",
       "8  0.719723   0.696335  0.852564  0.766571  0.792703\n",
       "9  0.733564   0.698492  0.891026  0.783099  0.763302"
      ]
     },
     "execution_count": 62,
     "metadata": {},
     "output_type": "execute_result"
    }
   ],
   "source": [
    "scores"
   ]
  },
  {
   "cell_type": "markdown",
   "metadata": {},
   "source": [
    "### Average, std deviation, max and min values for evaluation metrics"
   ]
  },
  {
   "cell_type": "code",
   "execution_count": 63,
   "metadata": {},
   "outputs": [
    {
     "data": {
      "text/html": [
       "<div>\n",
       "<style scoped>\n",
       "    .dataframe tbody tr th:only-of-type {\n",
       "        vertical-align: middle;\n",
       "    }\n",
       "\n",
       "    .dataframe tbody tr th {\n",
       "        vertical-align: top;\n",
       "    }\n",
       "\n",
       "    .dataframe thead th {\n",
       "        text-align: right;\n",
       "    }\n",
       "</style>\n",
       "<table border=\"1\" class=\"dataframe\">\n",
       "  <thead>\n",
       "    <tr style=\"text-align: right;\">\n",
       "      <th></th>\n",
       "      <th>Accuracy</th>\n",
       "      <th>Precision</th>\n",
       "      <th>Recall</th>\n",
       "      <th>F1</th>\n",
       "      <th>AUC</th>\n",
       "    </tr>\n",
       "  </thead>\n",
       "  <tbody>\n",
       "    <tr>\n",
       "      <th>mean</th>\n",
       "      <td>0.733770</td>\n",
       "      <td>0.707686</td>\n",
       "      <td>0.863821</td>\n",
       "      <td>0.777786</td>\n",
       "      <td>0.791499</td>\n",
       "    </tr>\n",
       "    <tr>\n",
       "      <th>std</th>\n",
       "      <td>0.018213</td>\n",
       "      <td>0.017649</td>\n",
       "      <td>0.022314</td>\n",
       "      <td>0.014357</td>\n",
       "      <td>0.021128</td>\n",
       "    </tr>\n",
       "    <tr>\n",
       "      <th>min</th>\n",
       "      <td>0.712803</td>\n",
       "      <td>0.681592</td>\n",
       "      <td>0.820513</td>\n",
       "      <td>0.757396</td>\n",
       "      <td>0.763302</td>\n",
       "    </tr>\n",
       "    <tr>\n",
       "      <th>max</th>\n",
       "      <td>0.762887</td>\n",
       "      <td>0.741758</td>\n",
       "      <td>0.891026</td>\n",
       "      <td>0.796460</td>\n",
       "      <td>0.818614</td>\n",
       "    </tr>\n",
       "  </tbody>\n",
       "</table>\n",
       "</div>"
      ],
      "text/plain": [
       "      Accuracy  Precision    Recall        F1       AUC\n",
       "mean  0.733770   0.707686  0.863821  0.777786  0.791499\n",
       "std   0.018213   0.017649  0.022314  0.014357  0.021128\n",
       "min   0.712803   0.681592  0.820513  0.757396  0.763302\n",
       "max   0.762887   0.741758  0.891026  0.796460  0.818614"
      ]
     },
     "execution_count": 63,
     "metadata": {},
     "output_type": "execute_result"
    }
   ],
   "source": [
    "scores.describe().loc[['mean', 'std', 'min', 'max']]"
   ]
  },
  {
   "cell_type": "markdown",
   "metadata": {},
   "source": [
    "## Final accuracy"
   ]
  },
  {
   "cell_type": "code",
   "execution_count": null,
   "metadata": {},
   "outputs": [],
   "source": [
    "# print(\"Model Accuracy: \" + str(round(, 2)))"
   ]
  },
  {
   "cell_type": "code",
   "execution_count": null,
   "metadata": {},
   "outputs": [],
   "source": []
  }
 ],
 "metadata": {
  "accelerator": "GPU",
  "colab": {
   "collapsed_sections": [],
   "name": "SNA_project.ipynb",
   "provenance": []
  },
  "kernelspec": {
   "display_name": "Python 3",
   "language": "python",
   "name": "python3"
  },
  "language_info": {
   "codemirror_mode": {
    "name": "ipython",
    "version": 3
   },
   "file_extension": ".py",
   "mimetype": "text/x-python",
   "name": "python",
   "nbconvert_exporter": "python",
   "pygments_lexer": "ipython3",
   "version": "3.6.4"
  }
 },
 "nbformat": 4,
 "nbformat_minor": 1
}
