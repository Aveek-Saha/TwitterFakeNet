{
 "cells": [
  {
   "cell_type": "code",
   "execution_count": 1,
   "metadata": {
    "colab": {
     "base_uri": "https://localhost:8080/",
     "height": 439
    },
    "colab_type": "code",
    "id": "bYMZduxTuxo0",
    "outputId": "81b85e12-eeb4-4c20-ab8e-8fd6739f030e"
   },
   "outputs": [
    {
     "name": "stderr",
     "output_type": "stream",
     "text": [
      "/home/aveek/anaconda3/lib/python3.6/site-packages/h5py/__init__.py:36: FutureWarning: Conversion of the second argument of issubdtype from `float` to `np.floating` is deprecated. In future, it will be treated as `np.float64 == np.dtype(float).type`.\n",
      "  from ._conv import register_converters as _register_converters\n",
      "Using TensorFlow backend.\n"
     ]
    }
   ],
   "source": [
    "import networkx as nx\n",
    "import pandas as pd\n",
    "import numpy as np\n",
    "import matplotlib.pyplot as plt\n",
    "\n",
    "import stellargraph as sg\n",
    "from stellargraph.mapper import GraphSAGENodeGenerator, FullBatchNodeGenerator\n",
    "from stellargraph.layer import GraphSAGE, GCN, GAT\n",
    "from stellargraph import globalvar\n",
    "\n",
    "from keras import layers, optimizers, losses, metrics, Model, models\n",
    "from sklearn.preprocessing import StandardScaler\n",
    "from sklearn import preprocessing, feature_extraction\n",
    "from sklearn.model_selection import train_test_split\n",
    "from sklearn import metrics\n",
    "from sklearn.metrics import accuracy_score\n",
    "from sklearn.metrics import precision_score\n",
    "from sklearn.metrics import recall_score\n",
    "from sklearn.metrics import f1_score\n",
    "from sklearn.metrics import confusion_matrix"
   ]
  },
  {
   "cell_type": "code",
   "execution_count": 2,
   "metadata": {
    "colab": {},
    "colab_type": "code",
    "id": "VcT3rUXRvnwk"
   },
   "outputs": [],
   "source": [
    "\n",
    "G = nx.read_gml('datasets/verified.gml')"
   ]
  },
  {
   "cell_type": "code",
   "execution_count": 3,
   "metadata": {
    "colab": {},
    "colab_type": "code",
    "id": "hOXidLm-v7pN"
   },
   "outputs": [],
   "source": [
    "# nx.draw(G, with_labels=True, font_weight='bold')"
   ]
  },
  {
   "cell_type": "code",
   "execution_count": 4,
   "metadata": {
    "colab": {
     "base_uri": "https://localhost:8080/",
     "height": 33
    },
    "colab_type": "code",
    "id": "TzjI6Q64wCx4",
    "outputId": "1349b612-27f5-4562-c498-be3f00f57dc5"
   },
   "outputs": [
    {
     "data": {
      "text/plain": [
       "(2901, 148998)"
      ]
     },
     "execution_count": 4,
     "metadata": {},
     "output_type": "execute_result"
    }
   ],
   "source": [
    "G.number_of_nodes(), G.number_of_edges()"
   ]
  },
  {
   "cell_type": "code",
   "execution_count": 5,
   "metadata": {
    "colab": {},
    "colab_type": "code",
    "id": "3jUQt1pryd8q"
   },
   "outputs": [],
   "source": [
    "# for line in nx.generate_edgelist(G):\n",
    "#   print(line) "
   ]
  },
  {
   "cell_type": "code",
   "execution_count": 6,
   "metadata": {
    "colab": {},
    "colab_type": "code",
    "id": "d8FKSLiN0sb4"
   },
   "outputs": [],
   "source": [
    "# nx.write_edgelist(sub_g, \"verified_edgelist.txt\")"
   ]
  },
  {
   "cell_type": "code",
   "execution_count": 7,
   "metadata": {
    "colab": {},
    "colab_type": "code",
    "id": "7KjbIoZ71q1p"
   },
   "outputs": [],
   "source": [
    "# gr = nx.read_edgelist(\"verified_edgelist.txt\")"
   ]
  },
  {
   "cell_type": "code",
   "execution_count": null,
   "metadata": {
    "colab": {},
    "colab_type": "code",
    "id": "jFak5F3F2TGc"
   },
   "outputs": [],
   "source": []
  },
  {
   "cell_type": "code",
   "execution_count": 8,
   "metadata": {
    "colab": {},
    "colab_type": "code",
    "id": "7aTF4mJERDkd"
   },
   "outputs": [],
   "source": [
    "# !wget -c \"https://www.dropbox.com/s/8isf9jcvl4dh1jw/vectors.csv\""
   ]
  },
  {
   "cell_type": "code",
   "execution_count": 9,
   "metadata": {
    "colab": {},
    "colab_type": "code",
    "id": "MV6IYrLr2VVv"
   },
   "outputs": [],
   "source": [
    "\n",
    "df = pd.read_csv(\"datasets/verified_features_all_300k.csv\")\n"
   ]
  },
  {
   "cell_type": "code",
   "execution_count": 10,
   "metadata": {
    "colab": {
     "base_uri": "https://localhost:8080/",
     "height": 251
    },
    "colab_type": "code",
    "id": "hQCB1SbvjdkN",
    "outputId": "be549b72-b048-41b1-b09a-f95a4bd33866"
   },
   "outputs": [
    {
     "data": {
      "text/html": [
       "<div>\n",
       "<style scoped>\n",
       "    .dataframe tbody tr th:only-of-type {\n",
       "        vertical-align: middle;\n",
       "    }\n",
       "\n",
       "    .dataframe tbody tr th {\n",
       "        vertical-align: top;\n",
       "    }\n",
       "\n",
       "    .dataframe thead th {\n",
       "        text-align: right;\n",
       "    }\n",
       "</style>\n",
       "<table border=\"1\" class=\"dataframe\">\n",
       "  <thead>\n",
       "    <tr style=\"text-align: right;\">\n",
       "      <th></th>\n",
       "      <th>uid</th>\n",
       "      <th>name</th>\n",
       "      <th>friends_count</th>\n",
       "      <th>followers_count</th>\n",
       "      <th>listed_count</th>\n",
       "      <th>statuses_count</th>\n",
       "      <th>fake</th>\n",
       "      <th>desc_subjectivity</th>\n",
       "      <th>desc_polarity</th>\n",
       "      <th>tweets_subjectivity</th>\n",
       "      <th>...</th>\n",
       "      <th>weapon_empath</th>\n",
       "      <th>children_empath</th>\n",
       "      <th>monster_empath</th>\n",
       "      <th>ocean_empath</th>\n",
       "      <th>giving_empath</th>\n",
       "      <th>contentment_empath</th>\n",
       "      <th>writing_empath</th>\n",
       "      <th>rural_empath</th>\n",
       "      <th>positive_emotion_empath</th>\n",
       "      <th>musical_empath</th>\n",
       "    </tr>\n",
       "  </thead>\n",
       "  <tbody>\n",
       "    <tr>\n",
       "      <th>0</th>\n",
       "      <td>1172796973</td>\n",
       "      <td>PTorresTV</td>\n",
       "      <td>548</td>\n",
       "      <td>1117</td>\n",
       "      <td>25</td>\n",
       "      <td>12136</td>\n",
       "      <td>0</td>\n",
       "      <td>0.0</td>\n",
       "      <td>0.0</td>\n",
       "      <td>0.312530</td>\n",
       "      <td>...</td>\n",
       "      <td>0.002391</td>\n",
       "      <td>0.021099</td>\n",
       "      <td>0.001657</td>\n",
       "      <td>0.001920</td>\n",
       "      <td>0.003702</td>\n",
       "      <td>0.000585</td>\n",
       "      <td>0.002335</td>\n",
       "      <td>0.002460</td>\n",
       "      <td>0.007839</td>\n",
       "      <td>0.011049</td>\n",
       "    </tr>\n",
       "    <tr>\n",
       "      <th>1</th>\n",
       "      <td>1070586199</td>\n",
       "      <td>EOnlineUK</td>\n",
       "      <td>353</td>\n",
       "      <td>102733</td>\n",
       "      <td>316</td>\n",
       "      <td>60989</td>\n",
       "      <td>0</td>\n",
       "      <td>0.0</td>\n",
       "      <td>0.0</td>\n",
       "      <td>0.301738</td>\n",
       "      <td>...</td>\n",
       "      <td>0.002308</td>\n",
       "      <td>0.021205</td>\n",
       "      <td>0.002619</td>\n",
       "      <td>0.002023</td>\n",
       "      <td>0.005247</td>\n",
       "      <td>0.000557</td>\n",
       "      <td>0.002802</td>\n",
       "      <td>0.002584</td>\n",
       "      <td>0.009525</td>\n",
       "      <td>0.013514</td>\n",
       "    </tr>\n",
       "    <tr>\n",
       "      <th>2</th>\n",
       "      <td>25589776</td>\n",
       "      <td>people</td>\n",
       "      <td>1751</td>\n",
       "      <td>7565880</td>\n",
       "      <td>33588</td>\n",
       "      <td>267090</td>\n",
       "      <td>1</td>\n",
       "      <td>0.0</td>\n",
       "      <td>0.0</td>\n",
       "      <td>0.324708</td>\n",
       "      <td>...</td>\n",
       "      <td>0.002769</td>\n",
       "      <td>0.032744</td>\n",
       "      <td>0.000474</td>\n",
       "      <td>0.001301</td>\n",
       "      <td>0.002765</td>\n",
       "      <td>0.000771</td>\n",
       "      <td>0.004536</td>\n",
       "      <td>0.005398</td>\n",
       "      <td>0.009638</td>\n",
       "      <td>0.008561</td>\n",
       "    </tr>\n",
       "    <tr>\n",
       "      <th>3</th>\n",
       "      <td>1367531</td>\n",
       "      <td>FoxNews</td>\n",
       "      <td>398</td>\n",
       "      <td>18416786</td>\n",
       "      <td>65345</td>\n",
       "      <td>418052</td>\n",
       "      <td>0</td>\n",
       "      <td>0.0</td>\n",
       "      <td>0.0</td>\n",
       "      <td>0.214538</td>\n",
       "      <td>...</td>\n",
       "      <td>0.002891</td>\n",
       "      <td>0.004289</td>\n",
       "      <td>0.001988</td>\n",
       "      <td>0.001589</td>\n",
       "      <td>0.001920</td>\n",
       "      <td>0.000191</td>\n",
       "      <td>0.003285</td>\n",
       "      <td>0.004726</td>\n",
       "      <td>0.002932</td>\n",
       "      <td>0.018821</td>\n",
       "    </tr>\n",
       "    <tr>\n",
       "      <th>4</th>\n",
       "      <td>20012204</td>\n",
       "      <td>usweekly</td>\n",
       "      <td>1177</td>\n",
       "      <td>2181224</td>\n",
       "      <td>11975</td>\n",
       "      <td>188328</td>\n",
       "      <td>1</td>\n",
       "      <td>0.9</td>\n",
       "      <td>0.5</td>\n",
       "      <td>0.264836</td>\n",
       "      <td>...</td>\n",
       "      <td>0.000750</td>\n",
       "      <td>0.035524</td>\n",
       "      <td>0.000372</td>\n",
       "      <td>0.002707</td>\n",
       "      <td>0.002477</td>\n",
       "      <td>0.000550</td>\n",
       "      <td>0.005693</td>\n",
       "      <td>0.001944</td>\n",
       "      <td>0.007702</td>\n",
       "      <td>0.008623</td>\n",
       "    </tr>\n",
       "  </tbody>\n",
       "</table>\n",
       "<p>5 rows × 205 columns</p>\n",
       "</div>"
      ],
      "text/plain": [
       "          uid       name  friends_count  followers_count  listed_count  \\\n",
       "0  1172796973  PTorresTV            548             1117            25   \n",
       "1  1070586199  EOnlineUK            353           102733           316   \n",
       "2    25589776     people           1751          7565880         33588   \n",
       "3     1367531    FoxNews            398         18416786         65345   \n",
       "4    20012204   usweekly           1177          2181224         11975   \n",
       "\n",
       "   statuses_count  fake  desc_subjectivity  desc_polarity  \\\n",
       "0           12136     0                0.0            0.0   \n",
       "1           60989     0                0.0            0.0   \n",
       "2          267090     1                0.0            0.0   \n",
       "3          418052     0                0.0            0.0   \n",
       "4          188328     1                0.9            0.5   \n",
       "\n",
       "   tweets_subjectivity  ...  weapon_empath  children_empath  monster_empath  \\\n",
       "0             0.312530  ...       0.002391         0.021099        0.001657   \n",
       "1             0.301738  ...       0.002308         0.021205        0.002619   \n",
       "2             0.324708  ...       0.002769         0.032744        0.000474   \n",
       "3             0.214538  ...       0.002891         0.004289        0.001988   \n",
       "4             0.264836  ...       0.000750         0.035524        0.000372   \n",
       "\n",
       "   ocean_empath  giving_empath  contentment_empath  writing_empath  \\\n",
       "0      0.001920       0.003702            0.000585        0.002335   \n",
       "1      0.002023       0.005247            0.000557        0.002802   \n",
       "2      0.001301       0.002765            0.000771        0.004536   \n",
       "3      0.001589       0.001920            0.000191        0.003285   \n",
       "4      0.002707       0.002477            0.000550        0.005693   \n",
       "\n",
       "   rural_empath  positive_emotion_empath  musical_empath  \n",
       "0      0.002460                 0.007839        0.011049  \n",
       "1      0.002584                 0.009525        0.013514  \n",
       "2      0.005398                 0.009638        0.008561  \n",
       "3      0.004726                 0.002932        0.018821  \n",
       "4      0.001944                 0.007702        0.008623  \n",
       "\n",
       "[5 rows x 205 columns]"
      ]
     },
     "execution_count": 10,
     "metadata": {},
     "output_type": "execute_result"
    }
   ],
   "source": [
    "df.head()"
   ]
  },
  {
   "cell_type": "code",
   "execution_count": 11,
   "metadata": {
    "colab": {},
    "colab_type": "code",
    "id": "m-rrZv1qjC62"
   },
   "outputs": [],
   "source": [
    "# intersected_df = pd.merge(df, \n",
    "#                           df_feat[['name', 'listed_count', 'statuses_count', 'desc_subjectivity', 'desc_polarity']]\n",
    "#                           , how='inner')"
   ]
  },
  {
   "cell_type": "code",
   "execution_count": 12,
   "metadata": {
    "colab": {},
    "colab_type": "code",
    "id": "scK_5kONj2ld"
   },
   "outputs": [],
   "source": [
    "# intersected_df.info()"
   ]
  },
  {
   "cell_type": "code",
   "execution_count": 13,
   "metadata": {
    "colab": {
     "base_uri": "https://localhost:8080/",
     "height": 101
    },
    "colab_type": "code",
    "id": "eClJ8Ga8FfR4",
    "outputId": "24f6cfaa-8f0d-4bbc-d033-c34925a49444"
   },
   "outputs": [
    {
     "name": "stdout",
     "output_type": "stream",
     "text": [
      "<class 'pandas.core.frame.DataFrame'>\n",
      "RangeIndex: 2902 entries, 0 to 2901\n",
      "Columns: 205 entries, uid to musical_empath\n",
      "dtypes: float64(198), int64(6), object(1)\n",
      "memory usage: 4.5+ MB\n"
     ]
    }
   ],
   "source": [
    "df.info()"
   ]
  },
  {
   "cell_type": "code",
   "execution_count": 14,
   "metadata": {
    "colab": {},
    "colab_type": "code",
    "id": "_JrRaT95f52q"
   },
   "outputs": [],
   "source": [
    "# df = intersected_df"
   ]
  },
  {
   "cell_type": "code",
   "execution_count": 15,
   "metadata": {},
   "outputs": [],
   "source": [
    "# df = df[df['uid'] != 936040869878042624]"
   ]
  },
  {
   "cell_type": "code",
   "execution_count": 16,
   "metadata": {
    "colab": {},
    "colab_type": "code",
    "id": "hiihEyhzGSvQ"
   },
   "outputs": [],
   "source": [
    "names = list(df['name'].values)"
   ]
  },
  {
   "cell_type": "code",
   "execution_count": 17,
   "metadata": {
    "colab": {},
    "colab_type": "code",
    "id": "M3-kcn2DFgbm"
   },
   "outputs": [],
   "source": [
    "sub_g = G.subgraph(names)"
   ]
  },
  {
   "cell_type": "code",
   "execution_count": 18,
   "metadata": {
    "colab": {
     "base_uri": "https://localhost:8080/",
     "height": 33
    },
    "colab_type": "code",
    "id": "GvYiFovNGfaC",
    "outputId": "87a3055a-12b2-4a72-dac9-6c76361385e3"
   },
   "outputs": [
    {
     "data": {
      "text/plain": [
       "(2900, 148998)"
      ]
     },
     "execution_count": 18,
     "metadata": {},
     "output_type": "execute_result"
    }
   ],
   "source": [
    "sub_g.number_of_nodes(), sub_g.number_of_edges()"
   ]
  },
  {
   "cell_type": "code",
   "execution_count": 19,
   "metadata": {
    "colab": {
     "base_uri": "https://localhost:8080/",
     "height": 101
    },
    "colab_type": "code",
    "id": "ZT_v245-NbQd",
    "outputId": "050db98e-56cd-4d65-916f-9ed2763afff5"
   },
   "outputs": [
    {
     "name": "stdout",
     "output_type": "stream",
     "text": [
      "<class 'pandas.core.frame.DataFrame'>\n",
      "Int64Index: 2900 entries, 0 to 2901\n",
      "Columns: 205 entries, uid to musical_empath\n",
      "dtypes: float64(198), int64(6), object(1)\n",
      "memory usage: 4.6+ MB\n"
     ]
    }
   ],
   "source": [
    "# df[]\n",
    "nodes = list(sub_g.nodes())\n",
    "\n",
    "df = df[df['name'].isin(nodes)]\n",
    "df.info()"
   ]
  },
  {
   "cell_type": "code",
   "execution_count": null,
   "metadata": {},
   "outputs": [],
   "source": []
  },
  {
   "cell_type": "code",
   "execution_count": 20,
   "metadata": {
    "colab": {},
    "colab_type": "code",
    "id": "XE_6ts9niKRY"
   },
   "outputs": [],
   "source": [
    "df = df[df['name'].isin(nodes)]\n",
    "names = list(df['name'].values)\n"
   ]
  },
  {
   "cell_type": "code",
   "execution_count": 21,
   "metadata": {
    "colab": {
     "base_uri": "https://localhost:8080/",
     "height": 33
    },
    "colab_type": "code",
    "id": "fv1Wq9_KiJ_z",
    "outputId": "3e617826-185d-438f-9838-7f9ebc3f7a42"
   },
   "outputs": [
    {
     "data": {
      "text/plain": [
       "'PTorresTV'"
      ]
     },
     "execution_count": 21,
     "metadata": {},
     "output_type": "execute_result"
    }
   ],
   "source": [
    "names[0]"
   ]
  },
  {
   "cell_type": "code",
   "execution_count": 22,
   "metadata": {
    "colab": {
     "base_uri": "https://localhost:8080/",
     "height": 33
    },
    "colab_type": "code",
    "id": "L55oatUZiJuK",
    "outputId": "1f04e152-8a67-4346-e9ab-9e4fe092a1e5"
   },
   "outputs": [
    {
     "data": {
      "text/plain": [
       "2900"
      ]
     },
     "execution_count": 22,
     "metadata": {},
     "output_type": "execute_result"
    }
   ],
   "source": [
    "# int(df['fake'][df['name'] == names[0]])\n",
    "len(names)"
   ]
  },
  {
   "cell_type": "code",
   "execution_count": 23,
   "metadata": {
    "colab": {
     "base_uri": "https://localhost:8080/",
     "height": 218
    },
    "colab_type": "code",
    "id": "A_FsvAmkiW81",
    "outputId": "854d34fb-f805-49b9-8e47-f55885deab5f"
   },
   "outputs": [
    {
     "data": {
      "text/plain": [
       "{'ffr': 2.0383,\n",
       " 'file': 'verified.dat',\n",
       " 'followers': 1117,\n",
       " 'friends': 548,\n",
       " 'image': '/home/aveek/twitter2/img/1172796973.jpg',\n",
       " 'lfr': 0.2238,\n",
       " 'listed': 25,\n",
       " 'shape': 'triangle-up',\n",
       " 'statuses': 12136,\n",
       " 'type': 'friends',\n",
       " 'userid': '1172796973'}"
      ]
     },
     "execution_count": 23,
     "metadata": {},
     "output_type": "execute_result"
    }
   ],
   "source": [
    "G.node['PTorresTV']"
   ]
  },
  {
   "cell_type": "code",
   "execution_count": null,
   "metadata": {
    "colab": {},
    "colab_type": "code",
    "id": "X2RiC2k4k1Ou"
   },
   "outputs": [],
   "source": []
  },
  {
   "cell_type": "code",
   "execution_count": 24,
   "metadata": {
    "colab": {},
    "colab_type": "code",
    "id": "oCHFY515iWt1"
   },
   "outputs": [],
   "source": [
    "for n in names:\n",
    "    G.node[n]['fake'] = int(df['fake'][df['name'] == n])"
   ]
  },
  {
   "cell_type": "code",
   "execution_count": 25,
   "metadata": {
    "colab": {},
    "colab_type": "code",
    "id": "7rTN-_vHiWo8"
   },
   "outputs": [],
   "source": [
    "# G.node['PTorresTV']\n",
    "nx.write_gml(G, \"datasets/verified_fake_labels.gml\")"
   ]
  },
  {
   "cell_type": "code",
   "execution_count": null,
   "metadata": {
    "colab": {},
    "colab_type": "code",
    "id": "FMsIDVuLWLKu"
   },
   "outputs": [],
   "source": []
  },
  {
   "cell_type": "code",
   "execution_count": 26,
   "metadata": {
    "colab": {},
    "colab_type": "code",
    "id": "PmNdV0ZXGiKn"
   },
   "outputs": [],
   "source": [
    "pt = preprocessing.PowerTransformer(method='yeo-johnson', \n",
    "                                    standardize=True)\n",
    "\n",
    "# pt = StandardScaler()"
   ]
  },
  {
   "cell_type": "code",
   "execution_count": null,
   "metadata": {
    "colab": {},
    "colab_type": "code",
    "id": "9PvYjGbhS6-g"
   },
   "outputs": [],
   "source": []
  },
  {
   "cell_type": "code",
   "execution_count": 27,
   "metadata": {
    "colab": {},
    "colab_type": "code",
    "id": "wQjzK1hWI69l"
   },
   "outputs": [
    {
     "name": "stderr",
     "output_type": "stream",
     "text": [
      "/home/aveek/anaconda3/lib/python3.6/site-packages/sklearn/preprocessing/data.py:2863: RuntimeWarning: divide by zero encountered in log\n",
      "  loglike = -n_samples / 2 * np.log(x_trans.var())\n"
     ]
    }
   ],
   "source": [
    "# values = df.drop(columns=['name', 'fake']).values\n",
    "values = df.drop(columns=['name', 'fake', 'uid']).values\n",
    "\n",
    "values_log = pt.fit_transform(values)"
   ]
  },
  {
   "cell_type": "code",
   "execution_count": 28,
   "metadata": {
    "colab": {},
    "colab_type": "code",
    "id": "CyjWhZCbfiOo"
   },
   "outputs": [],
   "source": [
    "df = df.reindex(columns=['fake'] + [ x for x in df.columns if x!='fake'])"
   ]
  },
  {
   "cell_type": "code",
   "execution_count": 29,
   "metadata": {
    "colab": {},
    "colab_type": "code",
    "id": "NC2MUY2sjEVn"
   },
   "outputs": [],
   "source": [
    "# df[df.columns[3:]]\n",
    "# df[df.columns[2:]]"
   ]
  },
  {
   "cell_type": "code",
   "execution_count": 30,
   "metadata": {
    "colab": {
     "base_uri": "https://localhost:8080/",
     "height": 251
    },
    "colab_type": "code",
    "id": "-NQuSFDHJO5X",
    "outputId": "d88f4ba6-b625-4df1-c252-5a7b328c6b65"
   },
   "outputs": [
    {
     "data": {
      "text/html": [
       "<div>\n",
       "<style scoped>\n",
       "    .dataframe tbody tr th:only-of-type {\n",
       "        vertical-align: middle;\n",
       "    }\n",
       "\n",
       "    .dataframe tbody tr th {\n",
       "        vertical-align: top;\n",
       "    }\n",
       "\n",
       "    .dataframe thead th {\n",
       "        text-align: right;\n",
       "    }\n",
       "</style>\n",
       "<table border=\"1\" class=\"dataframe\">\n",
       "  <thead>\n",
       "    <tr style=\"text-align: right;\">\n",
       "      <th></th>\n",
       "      <th>fake</th>\n",
       "      <th>uid</th>\n",
       "      <th>name</th>\n",
       "      <th>friends_count</th>\n",
       "      <th>followers_count</th>\n",
       "      <th>listed_count</th>\n",
       "      <th>statuses_count</th>\n",
       "      <th>desc_subjectivity</th>\n",
       "      <th>desc_polarity</th>\n",
       "      <th>tweets_subjectivity</th>\n",
       "      <th>...</th>\n",
       "      <th>weapon_empath</th>\n",
       "      <th>children_empath</th>\n",
       "      <th>monster_empath</th>\n",
       "      <th>ocean_empath</th>\n",
       "      <th>giving_empath</th>\n",
       "      <th>contentment_empath</th>\n",
       "      <th>writing_empath</th>\n",
       "      <th>rural_empath</th>\n",
       "      <th>positive_emotion_empath</th>\n",
       "      <th>musical_empath</th>\n",
       "    </tr>\n",
       "  </thead>\n",
       "  <tbody>\n",
       "    <tr>\n",
       "      <th>0</th>\n",
       "      <td>0</td>\n",
       "      <td>1172796973</td>\n",
       "      <td>PTorresTV</td>\n",
       "      <td>-0.581919</td>\n",
       "      <td>0.0</td>\n",
       "      <td>-2.234139</td>\n",
       "      <td>-1.296596</td>\n",
       "      <td>-0.914136</td>\n",
       "      <td>-0.427085</td>\n",
       "      <td>0.254067</td>\n",
       "      <td>...</td>\n",
       "      <td>0.406367</td>\n",
       "      <td>0.763588</td>\n",
       "      <td>3.025715</td>\n",
       "      <td>1.836441</td>\n",
       "      <td>0.862621</td>\n",
       "      <td>3.076810</td>\n",
       "      <td>-0.095552</td>\n",
       "      <td>0.513257</td>\n",
       "      <td>1.223009</td>\n",
       "      <td>0.979839</td>\n",
       "    </tr>\n",
       "    <tr>\n",
       "      <th>1</th>\n",
       "      <td>0</td>\n",
       "      <td>1070586199</td>\n",
       "      <td>EOnlineUK</td>\n",
       "      <td>-0.874906</td>\n",
       "      <td>0.0</td>\n",
       "      <td>-0.443690</td>\n",
       "      <td>0.013101</td>\n",
       "      <td>-0.914136</td>\n",
       "      <td>-0.427085</td>\n",
       "      <td>0.190879</td>\n",
       "      <td>...</td>\n",
       "      <td>0.379360</td>\n",
       "      <td>0.768702</td>\n",
       "      <td>3.556915</td>\n",
       "      <td>1.903542</td>\n",
       "      <td>1.214578</td>\n",
       "      <td>2.984755</td>\n",
       "      <td>-0.002623</td>\n",
       "      <td>0.554156</td>\n",
       "      <td>1.410441</td>\n",
       "      <td>1.174976</td>\n",
       "    </tr>\n",
       "    <tr>\n",
       "      <th>2</th>\n",
       "      <td>1</td>\n",
       "      <td>25589776</td>\n",
       "      <td>people</td>\n",
       "      <td>0.368048</td>\n",
       "      <td>0.0</td>\n",
       "      <td>2.312629</td>\n",
       "      <td>1.419716</td>\n",
       "      <td>-0.914136</td>\n",
       "      <td>-0.427085</td>\n",
       "      <td>0.324428</td>\n",
       "      <td>...</td>\n",
       "      <td>0.524213</td>\n",
       "      <td>1.211943</td>\n",
       "      <td>1.225343</td>\n",
       "      <td>1.350129</td>\n",
       "      <td>0.594292</td>\n",
       "      <td>3.590871</td>\n",
       "      <td>0.308841</td>\n",
       "      <td>1.260611</td>\n",
       "      <td>1.421453</td>\n",
       "      <td>0.733738</td>\n",
       "    </tr>\n",
       "    <tr>\n",
       "      <th>3</th>\n",
       "      <td>0</td>\n",
       "      <td>1367531</td>\n",
       "      <td>FoxNews</td>\n",
       "      <td>-0.798181</td>\n",
       "      <td>0.0</td>\n",
       "      <td>2.652388</td>\n",
       "      <td>1.890891</td>\n",
       "      <td>-0.914136</td>\n",
       "      <td>-0.427085</td>\n",
       "      <td>-0.350354</td>\n",
       "      <td>...</td>\n",
       "      <td>0.560568</td>\n",
       "      <td>-0.408646</td>\n",
       "      <td>3.264151</td>\n",
       "      <td>1.596237</td>\n",
       "      <td>0.308552</td>\n",
       "      <td>1.245072</td>\n",
       "      <td>0.089344</td>\n",
       "      <td>1.125324</td>\n",
       "      <td>0.329907</td>\n",
       "      <td>1.473822</td>\n",
       "    </tr>\n",
       "    <tr>\n",
       "      <th>4</th>\n",
       "      <td>1</td>\n",
       "      <td>20012204</td>\n",
       "      <td>usweekly</td>\n",
       "      <td>0.011520</td>\n",
       "      <td>0.0</td>\n",
       "      <td>1.761383</td>\n",
       "      <td>1.067187</td>\n",
       "      <td>1.608799</td>\n",
       "      <td>1.562750</td>\n",
       "      <td>-0.031281</td>\n",
       "      <td>...</td>\n",
       "      <td>-0.209424</td>\n",
       "      <td>1.291108</td>\n",
       "      <td>0.956071</td>\n",
       "      <td>2.268944</td>\n",
       "      <td>0.501842</td>\n",
       "      <td>2.960290</td>\n",
       "      <td>0.490076</td>\n",
       "      <td>0.331768</td>\n",
       "      <td>1.205752</td>\n",
       "      <td>0.740579</td>\n",
       "    </tr>\n",
       "  </tbody>\n",
       "</table>\n",
       "<p>5 rows × 205 columns</p>\n",
       "</div>"
      ],
      "text/plain": [
       "   fake         uid       name  friends_count  followers_count  listed_count  \\\n",
       "0     0  1172796973  PTorresTV      -0.581919              0.0     -2.234139   \n",
       "1     0  1070586199  EOnlineUK      -0.874906              0.0     -0.443690   \n",
       "2     1    25589776     people       0.368048              0.0      2.312629   \n",
       "3     0     1367531    FoxNews      -0.798181              0.0      2.652388   \n",
       "4     1    20012204   usweekly       0.011520              0.0      1.761383   \n",
       "\n",
       "   statuses_count  desc_subjectivity  desc_polarity  tweets_subjectivity  ...  \\\n",
       "0       -1.296596          -0.914136      -0.427085             0.254067  ...   \n",
       "1        0.013101          -0.914136      -0.427085             0.190879  ...   \n",
       "2        1.419716          -0.914136      -0.427085             0.324428  ...   \n",
       "3        1.890891          -0.914136      -0.427085            -0.350354  ...   \n",
       "4        1.067187           1.608799       1.562750            -0.031281  ...   \n",
       "\n",
       "   weapon_empath  children_empath  monster_empath  ocean_empath  \\\n",
       "0       0.406367         0.763588        3.025715      1.836441   \n",
       "1       0.379360         0.768702        3.556915      1.903542   \n",
       "2       0.524213         1.211943        1.225343      1.350129   \n",
       "3       0.560568        -0.408646        3.264151      1.596237   \n",
       "4      -0.209424         1.291108        0.956071      2.268944   \n",
       "\n",
       "   giving_empath  contentment_empath  writing_empath  rural_empath  \\\n",
       "0       0.862621            3.076810       -0.095552      0.513257   \n",
       "1       1.214578            2.984755       -0.002623      0.554156   \n",
       "2       0.594292            3.590871        0.308841      1.260611   \n",
       "3       0.308552            1.245072        0.089344      1.125324   \n",
       "4       0.501842            2.960290        0.490076      0.331768   \n",
       "\n",
       "   positive_emotion_empath  musical_empath  \n",
       "0                 1.223009        0.979839  \n",
       "1                 1.410441        1.174976  \n",
       "2                 1.421453        0.733738  \n",
       "3                 0.329907        1.473822  \n",
       "4                 1.205752        0.740579  \n",
       "\n",
       "[5 rows x 205 columns]"
      ]
     },
     "execution_count": 30,
     "metadata": {},
     "output_type": "execute_result"
    }
   ],
   "source": [
    "# df[df.columns[2:]] = values_log\n",
    "df[df.columns[3:]] = values_log\n",
    "df.head()"
   ]
  },
  {
   "cell_type": "code",
   "execution_count": 31,
   "metadata": {
    "colab": {
     "base_uri": "https://localhost:8080/",
     "height": 265
    },
    "colab_type": "code",
    "id": "cqiryGjQJn3S",
    "outputId": "865988ba-3ca9-4491-839a-1858bb98943f"
   },
   "outputs": [
    {
     "data": {
      "image/png": "[encoded data removed]",
      "text/plain": [
       "<Figure size 432x288 with 1 Axes>"
      ]
     },
     "metadata": {},
     "output_type": "display_data"
    }
   ],
   "source": [
    "ax = plt.gca()\n",
    "\n",
    "df['money_empath'].plot.kde()\n",
    "\n",
    "plt.show()\n"
   ]
  },
  {
   "cell_type": "code",
   "execution_count": 32,
   "metadata": {
    "colab": {},
    "colab_type": "code",
    "id": "pMf9_cp6KfKo"
   },
   "outputs": [],
   "source": [
    "df.index = df.index.map(str)\n",
    "df = df.set_index('name')"
   ]
  },
  {
   "cell_type": "code",
   "execution_count": 33,
   "metadata": {
    "colab": {},
    "colab_type": "code",
    "id": "dwdv3MpaS3oI"
   },
   "outputs": [],
   "source": [
    "df.index.names = [None]"
   ]
  },
  {
   "cell_type": "code",
   "execution_count": 34,
   "metadata": {
    "colab": {
     "base_uri": "https://localhost:8080/",
     "height": 117
    },
    "colab_type": "code",
    "id": "IjA1k0cOS4Zy",
    "outputId": "5da29666-2434-4bbc-ee99-69c853b6c525"
   },
   "outputs": [
    {
     "name": "stdout",
     "output_type": "stream",
     "text": [
      "<class 'pandas.core.frame.DataFrame'>\n",
      "Index: 2900 entries, PTorresTV to LA_Beth\n",
      "Columns: 204 entries, fake to musical_empath\n",
      "dtypes: float64(202), int64(2)\n",
      "memory usage: 4.5+ MB\n",
      "None\n"
     ]
    }
   ],
   "source": [
    "print(df.info())"
   ]
  },
  {
   "cell_type": "code",
   "execution_count": 35,
   "metadata": {
    "colab": {},
    "colab_type": "code",
    "id": "FSW92yLijyPO"
   },
   "outputs": [],
   "source": [
    "# user_features\n",
    "# train_data"
   ]
  },
  {
   "cell_type": "code",
   "execution_count": 36,
   "metadata": {
    "colab": {},
    "colab_type": "code",
    "id": "DWgxToPfUUTx"
   },
   "outputs": [],
   "source": [
    "df = df.astype({'fake': int})"
   ]
  },
  {
   "cell_type": "code",
   "execution_count": 37,
   "metadata": {
    "colab": {},
    "colab_type": "code",
    "id": "NlB1knbWTs5X"
   },
   "outputs": [],
   "source": [
    "user_features = df.drop(columns=['fake', 'uid'])\n",
    "# user_features = df.drop(columns=['fake'])\n",
    "\n",
    "user_target = df['fake']"
   ]
  },
  {
   "cell_type": "code",
   "execution_count": 38,
   "metadata": {
    "colab": {
     "base_uri": "https://localhost:8080/",
     "height": 33
    },
    "colab_type": "code",
    "id": "eWUTS1E1Udnp",
    "outputId": "8cbf84d2-f47a-4e12-bb28-c8d1e98e6e8e"
   },
   "outputs": [
    {
     "data": {
      "text/plain": [
       "((2320, 1), (580, 1), (2320, 202), (580, 202))"
      ]
     },
     "execution_count": 38,
     "metadata": {},
     "output_type": "execute_result"
    }
   ],
   "source": [
    "train_data, test_data, train_targets, test_targets = train_test_split(user_features,\n",
    "                                         user_target,\n",
    "                                         test_size=0.2,\n",
    "                                         random_state=1)\n",
    "\n",
    "train_targets= train_targets.values.reshape((-1,1))\n",
    "test_targets= test_targets.values.reshape((-1,1))\n",
    "\n",
    "\n",
    "train_targets.shape, test_targets.shape, train_data.shape, test_data.shape"
   ]
  },
  {
   "cell_type": "code",
   "execution_count": 39,
   "metadata": {
    "colab": {},
    "colab_type": "code",
    "id": "g_bFkAOUUm6e"
   },
   "outputs": [],
   "source": [
    "stg = sg.StellarGraph(sub_g, node_features=df.drop(columns=['fake', 'uid']))"
   ]
  },
  {
   "cell_type": "code",
   "execution_count": 80,
   "metadata": {},
   "outputs": [],
   "source": [
    "model_type = 'graphsage'    # Can be either gcn, gat, or graphsage\n"
   ]
  },
  {
   "cell_type": "code",
   "execution_count": 81,
   "metadata": {
    "colab": {},
    "colab_type": "code",
    "id": "J3hLdioEVO9H"
   },
   "outputs": [],
   "source": [
    "\n",
    "if model_type == \"graphsage\":\n",
    "    # For GraphSAGE model\n",
    "    batch_size = 50; \n",
    "    num_samples = [20, 10]\n",
    "    epochs = 30\n",
    "    \n",
    "    generator = GraphSAGENodeGenerator(stg, batch_size, num_samples)\n",
    "    train_gen = generator.flow(train_data.index, \n",
    "                               train_targets, \n",
    "                               shuffle=True)\n",
    "    \n",
    "    base_model = GraphSAGE(\n",
    "        layer_sizes=[32, 32],\n",
    "        generator=train_gen,\n",
    "        bias=True,\n",
    "        dropout=0.5,\n",
    "    )\n",
    "    x_inp, x_out = base_model.default_model(flatten_output=True)\n",
    "    prediction = layers.Dense(units=1, activation=\"sigmoid\")(x_out)\n",
    "    \n",
    "elif model_type == \"gcn\":\n",
    "    # For GCN model\n",
    "    epochs = 20 \n",
    "    \n",
    "    generator = FullBatchNodeGenerator(stg, method=\"gcn\", sparse=True)\n",
    "    train_gen = generator.flow(train_data.index, \n",
    "                               train_targets, )\n",
    "    \n",
    "    base_model = GCN(\n",
    "        layer_sizes=[32, 16],\n",
    "        generator = generator,\n",
    "        bias=True,\n",
    "        dropout=0.5,\n",
    "        activations=[\"elu\", \"elu\"]\n",
    "    )\n",
    "    x_inp, x_out = base_model.node_model()\n",
    "    prediction = layers.Dense(units=1, activation=\"sigmoid\")(x_out)\n",
    "    \n",
    "elif model_type == \"gat\":\n",
    "    # For GAT model\n",
    "    layer_sizes = [8, 1]\n",
    "    attention_heads = 8\n",
    "    epochs = 20\n",
    "    \n",
    "    generator = FullBatchNodeGenerator(stg, method=\"gat\", sparse=True)\n",
    "    train_gen = generator.flow(train_data.index, \n",
    "                               train_targets,)\n",
    "    \n",
    "    base_model = GAT(\n",
    "        layer_sizes=layer_sizes,\n",
    "        attn_heads=attention_heads,\n",
    "        generator=generator,\n",
    "        bias=True,\n",
    "        in_dropout=0.5,\n",
    "        attn_dropout=0.5,\n",
    "        activations=[\"elu\", \"sigmoid\"],\n",
    "        normalize=None,\n",
    "    )\n",
    "    x_inp, prediction = base_model.node_model()"
   ]
  },
  {
   "cell_type": "code",
   "execution_count": null,
   "metadata": {
    "colab": {},
    "colab_type": "code",
    "id": "kJ3jZpq3Vgf5"
   },
   "outputs": [],
   "source": []
  },
  {
   "cell_type": "code",
   "execution_count": 82,
   "metadata": {
    "colab": {},
    "colab_type": "code",
    "id": "unhej__FVp0X"
   },
   "outputs": [],
   "source": [
    "\n",
    "model = Model(inputs=x_inp, outputs=prediction)"
   ]
  },
  {
   "cell_type": "code",
   "execution_count": 83,
   "metadata": {
    "colab": {},
    "colab_type": "code",
    "id": "DMkk7epDXINT"
   },
   "outputs": [],
   "source": [
    "model.compile(\n",
    "    optimizer=optimizers.Adam(lr=0.005),\n",
    "    loss=losses.binary_crossentropy,\n",
    "    metrics=[\"acc\"],\n",
    ")"
   ]
  },
  {
   "cell_type": "code",
   "execution_count": 84,
   "metadata": {
    "colab": {},
    "colab_type": "code",
    "id": "gzuvZ-rgX8-3"
   },
   "outputs": [],
   "source": [
    "test_gen = generator.flow(test_data.index, test_targets)"
   ]
  },
  {
   "cell_type": "code",
   "execution_count": 85,
   "metadata": {
    "colab": {
     "base_uri": "https://localhost:8080/",
     "height": 1000
    },
    "colab_type": "code",
    "id": "FA6ms_w-YH58",
    "outputId": "495dc950-3973-4cf0-b09f-bb6f3db9ae8f"
   },
   "outputs": [
    {
     "name": "stdout",
     "output_type": "stream",
     "text": [
      "Epoch 1/30\n",
      "47/47 [==============================] - 5s 109ms/step - loss: 0.6646 - acc: 0.5926 - val_loss: 0.6049 - val_acc: 0.6914\n",
      "Epoch 2/30\n",
      "47/47 [==============================] - 4s 75ms/step - loss: 0.6047 - acc: 0.6847 - val_loss: 0.5764 - val_acc: 0.6983\n",
      "Epoch 3/30\n",
      "47/47 [==============================] - 4s 82ms/step - loss: 0.5930 - acc: 0.6957 - val_loss: 0.5626 - val_acc: 0.7155\n",
      "Epoch 4/30\n",
      "47/47 [==============================] - 3s 66ms/step - loss: 0.5760 - acc: 0.7105 - val_loss: 0.5665 - val_acc: 0.7086\n",
      "Epoch 5/30\n",
      "47/47 [==============================] - 3s 68ms/step - loss: 0.5642 - acc: 0.7247 - val_loss: 0.5679 - val_acc: 0.7172\n",
      "Epoch 6/30\n",
      "47/47 [==============================] - 4s 76ms/step - loss: 0.5600 - acc: 0.7257 - val_loss: 0.5669 - val_acc: 0.7190\n",
      "Epoch 7/30\n",
      "47/47 [==============================] - 4s 79ms/step - loss: 0.5656 - acc: 0.7134 - val_loss: 0.5630 - val_acc: 0.7121\n",
      "Epoch 8/30\n",
      "47/47 [==============================] - 4s 79ms/step - loss: 0.5521 - acc: 0.7343 - val_loss: 0.5582 - val_acc: 0.7276\n",
      "Epoch 9/30\n",
      "47/47 [==============================] - 4s 77ms/step - loss: 0.5565 - acc: 0.7251 - val_loss: 0.5607 - val_acc: 0.7241\n",
      "Epoch 10/30\n",
      "47/47 [==============================] - 4s 82ms/step - loss: 0.5610 - acc: 0.7147 - val_loss: 0.5657 - val_acc: 0.7069\n",
      "Epoch 11/30\n",
      "47/47 [==============================] - 4s 81ms/step - loss: 0.5491 - acc: 0.7321 - val_loss: 0.5503 - val_acc: 0.7293\n",
      "Epoch 12/30\n",
      "47/47 [==============================] - 4s 83ms/step - loss: 0.5549 - acc: 0.7167 - val_loss: 0.5614 - val_acc: 0.7155\n",
      "Epoch 13/30\n",
      "47/47 [==============================] - 3s 74ms/step - loss: 0.5373 - acc: 0.7381 - val_loss: 0.5542 - val_acc: 0.7224\n",
      "Epoch 14/30\n",
      "47/47 [==============================] - 4s 83ms/step - loss: 0.5360 - acc: 0.7292 - val_loss: 0.5501 - val_acc: 0.7190\n",
      "Epoch 15/30\n",
      "47/47 [==============================] - 4s 80ms/step - loss: 0.5400 - acc: 0.7351 - val_loss: 0.5514 - val_acc: 0.7259\n",
      "Epoch 16/30\n",
      "47/47 [==============================] - 4s 82ms/step - loss: 0.5410 - acc: 0.7358 - val_loss: 0.5571 - val_acc: 0.7172\n",
      "Epoch 17/30\n",
      "47/47 [==============================] - 4s 80ms/step - loss: 0.5355 - acc: 0.7340 - val_loss: 0.5639 - val_acc: 0.7086\n",
      "Epoch 18/30\n",
      "47/47 [==============================] - 4s 83ms/step - loss: 0.5252 - acc: 0.7470 - val_loss: 0.5560 - val_acc: 0.7224.5258 - acc: 0.7\n",
      "Epoch 19/30\n",
      "47/47 [==============================] - 4s 82ms/step - loss: 0.5259 - acc: 0.7362 - val_loss: 0.5566 - val_acc: 0.7190\n",
      "Epoch 20/30\n",
      "47/47 [==============================] - 4s 79ms/step - loss: 0.5336 - acc: 0.7417 - val_loss: 0.5586 - val_acc: 0.7190\n",
      "Epoch 21/30\n",
      "47/47 [==============================] - 4s 80ms/step - loss: 0.5346 - acc: 0.7221 - val_loss: 0.5687 - val_acc: 0.7086\n",
      "Epoch 22/30\n",
      "47/47 [==============================] - 4s 81ms/step - loss: 0.5331 - acc: 0.7370 - val_loss: 0.5637 - val_acc: 0.7190\n",
      "Epoch 23/30\n",
      "47/47 [==============================] - 4s 80ms/step - loss: 0.5173 - acc: 0.7460 - val_loss: 0.5748 - val_acc: 0.7138\n",
      "Epoch 24/30\n",
      "47/47 [==============================] - 4s 80ms/step - loss: 0.5220 - acc: 0.7423 - val_loss: 0.5601 - val_acc: 0.7207\n",
      "Epoch 25/30\n",
      "47/47 [==============================] - 4s 83ms/step - loss: 0.5239 - acc: 0.7510 - val_loss: 0.5551 - val_acc: 0.7190\n",
      "Epoch 26/30\n",
      "47/47 [==============================] - 4s 83ms/step - loss: 0.5392 - acc: 0.7317 - val_loss: 0.5495 - val_acc: 0.7259\n",
      "Epoch 27/30\n",
      "47/47 [==============================] - 4s 81ms/step - loss: 0.5307 - acc: 0.7368 - val_loss: 0.5606 - val_acc: 0.7138\n",
      "Epoch 28/30\n",
      "47/47 [==============================] - 4s 82ms/step - loss: 0.5330 - acc: 0.7370 - val_loss: 0.5555 - val_acc: 0.7241\n",
      "Epoch 29/30\n",
      "47/47 [==============================] - 4s 81ms/step - loss: 0.5269 - acc: 0.7438 - val_loss: 0.5551 - val_acc: 0.7293\n",
      "Epoch 30/30\n",
      "47/47 [==============================] - 4s 81ms/step - loss: 0.5152 - acc: 0.7525 - val_loss: 0.5656 - val_acc: 0.7276\n"
     ]
    }
   ],
   "source": [
    "history = model.fit_generator(\n",
    "    train_gen,\n",
    "    epochs=30,\n",
    "    validation_data=test_gen,\n",
    "    verbose=1,\n",
    "#     shuffle=False,\n",
    ")"
   ]
  },
  {
   "cell_type": "code",
   "execution_count": 86,
   "metadata": {
    "colab": {},
    "colab_type": "code",
    "id": "BpCJ8GYNYMKs"
   },
   "outputs": [],
   "source": [
    "\n",
    "# test_metrics = model.evaluate_generator(test_gen)\n",
    "# print(\"\\nTest Set Metrics:\")\n",
    "# for name, val in zip(model.metrics_names, test_metrics):\n",
    "#     print(\"\\t{}: {:0.4f}\".format(name, val))"
   ]
  },
  {
   "cell_type": "code",
   "execution_count": 87,
   "metadata": {
    "colab": {
     "base_uri": "https://localhost:8080/",
     "height": 573
    },
    "colab_type": "code",
    "id": "-9MgDVV0aZa6",
    "outputId": "7505000e-cfdc-49a2-ba96-1e4f6b878e38"
   },
   "outputs": [
    {
     "data": {
      "image/png": "[encoded data removed]",
      "text/plain": [
       "<Figure size 432x288 with 1 Axes>"
      ]
     },
     "metadata": {},
     "output_type": "display_data"
    },
    {
     "data": {
      "image/png": "[encoded data removed]",
      "text/plain": [
       "<Figure size 432x288 with 1 Axes>"
      ]
     },
     "metadata": {},
     "output_type": "display_data"
    }
   ],
   "source": [
    "plt.plot(history.history['acc'])\n",
    "plt.plot(history.history['val_acc'])\n",
    "plt.title('model accuracy')\n",
    "plt.ylabel('accuracy')\n",
    "plt.xlabel('epoch')\n",
    "plt.legend(['train', 'val'], loc='upper left')\n",
    "\n",
    "plt.show()\n",
    "\n",
    "plt.plot(history.history['loss'])\n",
    "plt.plot(history.history['val_loss'])\n",
    "plt.title('model loss')\n",
    "plt.ylabel('loss')\n",
    "plt.xlabel('epoch')\n",
    "plt.legend(['train', 'val'], loc='upper left')\n",
    "\n",
    "plt.show()"
   ]
  },
  {
   "cell_type": "code",
   "execution_count": null,
   "metadata": {
    "colab": {},
    "colab_type": "code",
    "id": "R1ayZYUnpiFy"
   },
   "outputs": [],
   "source": []
  },
  {
   "cell_type": "code",
   "execution_count": 88,
   "metadata": {
    "colab": {},
    "colab_type": "code",
    "id": "_SoBtCZFdU5D"
   },
   "outputs": [],
   "source": [
    "\n",
    "all_nodes = df.drop(columns=['fake','uid']).index\n",
    "all_gen = generator.flow(all_nodes)"
   ]
  },
  {
   "cell_type": "code",
   "execution_count": 89,
   "metadata": {
    "colab": {},
    "colab_type": "code",
    "id": "eifinsrrdU1q"
   },
   "outputs": [],
   "source": [
    "all_predictions = model.predict_generator(all_gen).squeeze()[..., np.newaxis]"
   ]
  },
  {
   "cell_type": "code",
   "execution_count": 90,
   "metadata": {
    "colab": {
     "base_uri": "https://localhost:8080/",
     "height": 33
    },
    "colab_type": "code",
    "id": "NxIFcTJbdUzE",
    "outputId": "d617a13a-9168-477e-95ad-10b162565259"
   },
   "outputs": [
    {
     "data": {
      "text/plain": [
       "(2900, 1)"
      ]
     },
     "execution_count": 90,
     "metadata": {},
     "output_type": "execute_result"
    }
   ],
   "source": [
    "all_predictions.shape"
   ]
  },
  {
   "cell_type": "code",
   "execution_count": 91,
   "metadata": {
    "colab": {},
    "colab_type": "code",
    "id": "SSV-xyIXI8cr"
   },
   "outputs": [],
   "source": [
    "# df.drop(columns=['fake'])"
   ]
  },
  {
   "cell_type": "code",
   "execution_count": 92,
   "metadata": {
    "colab": {},
    "colab_type": "code",
    "id": "Xc2chFg9dUwR"
   },
   "outputs": [],
   "source": [
    "all_predictions_df = pd.DataFrame(all_predictions, \n",
    "                                  index=df.drop(columns=['fake','uid']).index)"
   ]
  },
  {
   "cell_type": "code",
   "execution_count": 93,
   "metadata": {
    "colab": {},
    "colab_type": "code",
    "id": "yv0IVpQ5dUuG"
   },
   "outputs": [],
   "source": [
    "test_preds = all_predictions_df.loc[test_data.index, :]"
   ]
  },
  {
   "cell_type": "code",
   "execution_count": 94,
   "metadata": {
    "colab": {
     "base_uri": "https://localhost:8080/",
     "height": 202
    },
    "colab_type": "code",
    "id": "bjlE5RtmdUry",
    "outputId": "771753c7-88c0-45ac-d176-6c333f86db78"
   },
   "outputs": [
    {
     "data": {
      "text/html": [
       "<div>\n",
       "<style scoped>\n",
       "    .dataframe tbody tr th:only-of-type {\n",
       "        vertical-align: middle;\n",
       "    }\n",
       "\n",
       "    .dataframe tbody tr th {\n",
       "        vertical-align: top;\n",
       "    }\n",
       "\n",
       "    .dataframe thead th {\n",
       "        text-align: right;\n",
       "    }\n",
       "</style>\n",
       "<table border=\"1\" class=\"dataframe\">\n",
       "  <thead>\n",
       "    <tr style=\"text-align: right;\">\n",
       "      <th></th>\n",
       "      <th>0</th>\n",
       "    </tr>\n",
       "  </thead>\n",
       "  <tbody>\n",
       "    <tr>\n",
       "      <th>949ThePoint</th>\n",
       "      <td>0.081410</td>\n",
       "    </tr>\n",
       "    <tr>\n",
       "      <th>BBCBreaking</th>\n",
       "      <td>0.283980</td>\n",
       "    </tr>\n",
       "    <tr>\n",
       "      <th>987fm</th>\n",
       "      <td>0.872675</td>\n",
       "    </tr>\n",
       "    <tr>\n",
       "      <th>hburgamerican</th>\n",
       "      <td>0.095737</td>\n",
       "    </tr>\n",
       "    <tr>\n",
       "      <th>rachelsklar</th>\n",
       "      <td>0.798415</td>\n",
       "    </tr>\n",
       "  </tbody>\n",
       "</table>\n",
       "</div>"
      ],
      "text/plain": [
       "                      0\n",
       "949ThePoint    0.081410\n",
       "BBCBreaking    0.283980\n",
       "987fm          0.872675\n",
       "hburgamerican  0.095737\n",
       "rachelsklar    0.798415"
      ]
     },
     "execution_count": 94,
     "metadata": {},
     "output_type": "execute_result"
    }
   ],
   "source": [
    "\n",
    "test_preds.head()"
   ]
  },
  {
   "cell_type": "code",
   "execution_count": 95,
   "metadata": {
    "colab": {
     "base_uri": "https://localhost:8080/",
     "height": 67
    },
    "colab_type": "code",
    "id": "17OS6e1AdUoy",
    "outputId": "015a91c8-a9d0-4f59-828a-8d4fd497107a"
   },
   "outputs": [
    {
     "name": "stdout",
     "output_type": "stream",
     "text": [
      "The AUC on test set:\n",
      "\n",
      "0.7756004756242567\n"
     ]
    }
   ],
   "source": [
    "from numpy import isnan\n",
    "test_predictions = test_preds.values\n",
    "where_are_NaNs = isnan(test_predictions)\n",
    "test_predictions[where_are_NaNs] = 0\n",
    "test_predictions_class = ((test_predictions>=0.5)*1).flatten()\n",
    "test_df = pd.DataFrame({\"Predicted_score\": test_predictions.flatten(), \n",
    "                        \"Predicted_class\": test_predictions_class, \n",
    "                        \"True\": test_targets[:,0]})\n",
    "roc_auc = metrics.roc_auc_score(test_df['True'].values, \n",
    "                                test_df['Predicted_score'].values)\n",
    "print(\"The AUC on test set:\\n\")\n",
    "print(roc_auc)"
   ]
  },
  {
   "cell_type": "code",
   "execution_count": 96,
   "metadata": {
    "colab": {},
    "colab_type": "code",
    "id": "IfQMrMDkDBUP"
   },
   "outputs": [],
   "source": [
    "# test_df['Predicted_score'].values\n",
    "# test_predictions_class\n",
    "# test_df['True'].values"
   ]
  },
  {
   "cell_type": "code",
   "execution_count": 97,
   "metadata": {
    "colab": {
     "base_uri": "https://localhost:8080/",
     "height": 140
    },
    "colab_type": "code",
    "id": "KmEPOyx9dUmn",
    "outputId": "6d17f970-9e32-430e-9417-516afb17415f"
   },
   "outputs": [
    {
     "data": {
      "text/html": [
       "<div>\n",
       "<style scoped>\n",
       "    .dataframe tbody tr th:only-of-type {\n",
       "        vertical-align: middle;\n",
       "    }\n",
       "\n",
       "    .dataframe tbody tr th {\n",
       "        vertical-align: top;\n",
       "    }\n",
       "\n",
       "    .dataframe thead th {\n",
       "        text-align: right;\n",
       "    }\n",
       "</style>\n",
       "<table border=\"1\" class=\"dataframe\">\n",
       "  <thead>\n",
       "    <tr style=\"text-align: right;\">\n",
       "      <th>Predicted_class</th>\n",
       "      <th>0</th>\n",
       "      <th>1</th>\n",
       "    </tr>\n",
       "    <tr>\n",
       "      <th>True</th>\n",
       "      <th></th>\n",
       "      <th></th>\n",
       "    </tr>\n",
       "  </thead>\n",
       "  <tbody>\n",
       "    <tr>\n",
       "      <th>0</th>\n",
       "      <td>161</td>\n",
       "      <td>129</td>\n",
       "    </tr>\n",
       "    <tr>\n",
       "      <th>1</th>\n",
       "      <td>41</td>\n",
       "      <td>249</td>\n",
       "    </tr>\n",
       "  </tbody>\n",
       "</table>\n",
       "</div>"
      ],
      "text/plain": [
       "Predicted_class    0    1\n",
       "True                     \n",
       "0                161  129\n",
       "1                 41  249"
      ]
     },
     "execution_count": 97,
     "metadata": {},
     "output_type": "execute_result"
    }
   ],
   "source": [
    "\n",
    "pd.crosstab(test_df['True'], test_df['Predicted_class'])"
   ]
  },
  {
   "cell_type": "code",
   "execution_count": null,
   "metadata": {
    "colab": {},
    "colab_type": "code",
    "id": "7AQgtOxzdUjx"
   },
   "outputs": [],
   "source": []
  },
  {
   "cell_type": "code",
   "execution_count": 98,
   "metadata": {
    "colab": {},
    "colab_type": "code",
    "id": "VH2ehseHdUfi",
    "scrolled": true
   },
   "outputs": [
    {
     "name": "stdout",
     "output_type": "stream",
     "text": [
      "Accuracy: 0.706897\n",
      "Precision: 0.658730\n",
      "Recall: 0.858621\n",
      "F1 score: 0.745509\n"
     ]
    }
   ],
   "source": [
    "\n",
    "print('Accuracy: %f' % accuracy_score(test_df['True'], test_df['Predicted_class']))\n",
    "print('Precision: %f' % precision_score(test_df['True'], test_df['Predicted_class']))\n",
    "print('Recall: %f' % recall_score(test_df['True'], test_df['Predicted_class']))\n",
    "print('F1 score: %f' % f1_score(test_df['True'], test_df['Predicted_class']))\n",
    "\n",
    "# confusion matrix\n",
    "# print(confusion_matrix(test_df['True'], test_df['Predicted_class']))"
   ]
  },
  {
   "cell_type": "code",
   "execution_count": 0,
   "metadata": {
    "colab": {},
    "colab_type": "code",
    "id": "-_FTCC5x86oU"
   },
   "outputs": [],
   "source": []
  },
  {
   "cell_type": "code",
   "execution_count": 0,
   "metadata": {
    "colab": {},
    "colab_type": "code",
    "id": "tffmCWrF9GKc"
   },
   "outputs": [],
   "source": []
  },
  {
   "cell_type": "code",
   "execution_count": null,
   "metadata": {},
   "outputs": [],
   "source": []
  }
 ],
 "metadata": {
  "accelerator": "GPU",
  "colab": {
   "collapsed_sections": [],
   "name": "SNA_project.ipynb",
   "provenance": []
  },
  "kernelspec": {
   "display_name": "Python 3",
   "language": "python",
   "name": "python3"
  },
  "language_info": {
   "codemirror_mode": {
    "name": "ipython",
    "version": 3
   },
   "file_extension": ".py",
   "mimetype": "text/x-python",
   "name": "python",
   "nbconvert_exporter": "python",
   "pygments_lexer": "ipython3",
   "version": "3.6.4"
  }
 },
 "nbformat": 4,
 "nbformat_minor": 1
}
