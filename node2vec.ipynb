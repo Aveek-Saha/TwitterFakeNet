{
 "cells": [
  {
   "cell_type": "code",
   "execution_count": 0,
   "metadata": {
    "colab": {},
    "colab_type": "code",
    "id": "VXlSx1jMEDET"
   },
   "outputs": [],
   "source": [
    "import networkx as nx\n",
    "import pandas as pd\n",
    "import numpy as np\n",
    "import matplotlib.pyplot as plt\n",
    "from node2vec import Node2Vec\n",
    "\n",
    "from sklearn.preprocessing import StandardScaler\n",
    "from sklearn import preprocessing, feature_extraction\n",
    "from sklearn.model_selection import train_test_split\n",
    "from sklearn import metrics\n",
    "from sklearn.manifold import TSNE\n"
   ]
  },
  {
   "cell_type": "code",
   "execution_count": 0,
   "metadata": {
    "colab": {},
    "colab_type": "code",
    "id": "yHB2VTZ4EDEZ"
   },
   "outputs": [],
   "source": [
    "G = nx.read_gml('datasets/verified.gml')"
   ]
  },
  {
   "cell_type": "code",
   "execution_count": 7,
   "metadata": {
    "colab": {
     "base_uri": "https://localhost:8080/",
     "height": 33
    },
    "colab_type": "code",
    "id": "h-8vXY0SEDEc",
    "outputId": "55f44a69-fb29-4232-bc33-c5ef6da9d986"
   },
   "outputs": [
    {
     "data": {
      "text/plain": [
       "(2901, 148998)"
      ]
     },
     "execution_count": 7,
     "metadata": {
      "tags": []
     },
     "output_type": "execute_result"
    }
   ],
   "source": [
    "G.number_of_nodes(), G.number_of_edges()"
   ]
  },
  {
   "cell_type": "code",
   "execution_count": 0,
   "metadata": {
    "colab": {},
    "colab_type": "code",
    "id": "IThGhoD7EDEg"
   },
   "outputs": [],
   "source": [
    "df = pd.read_csv(\"datasets/verified_features_all_300k.csv\")\n"
   ]
  },
  {
   "cell_type": "code",
   "execution_count": 9,
   "metadata": {
    "colab": {
     "base_uri": "https://localhost:8080/",
     "height": 251
    },
    "colab_type": "code",
    "id": "eRIPgqtTEDEj",
    "outputId": "80a44a02-fbee-47dd-9a53-a300a5e29203"
   },
   "outputs": [
    {
     "data": {
      "text/html": [
       "<div>\n",
       "<style scoped>\n",
       "    .dataframe tbody tr th:only-of-type {\n",
       "        vertical-align: middle;\n",
       "    }\n",
       "\n",
       "    .dataframe tbody tr th {\n",
       "        vertical-align: top;\n",
       "    }\n",
       "\n",
       "    .dataframe thead th {\n",
       "        text-align: right;\n",
       "    }\n",
       "</style>\n",
       "<table border=\"1\" class=\"dataframe\">\n",
       "  <thead>\n",
       "    <tr style=\"text-align: right;\">\n",
       "      <th></th>\n",
       "      <th>uid</th>\n",
       "      <th>name</th>\n",
       "      <th>friends_count</th>\n",
       "      <th>followers_count</th>\n",
       "      <th>listed_count</th>\n",
       "      <th>statuses_count</th>\n",
       "      <th>fake</th>\n",
       "      <th>desc_subjectivity</th>\n",
       "      <th>desc_polarity</th>\n",
       "      <th>tweets_subjectivity</th>\n",
       "      <th>tweets_polarity</th>\n",
       "      <th>help_empath</th>\n",
       "      <th>office_empath</th>\n",
       "      <th>dance_empath</th>\n",
       "      <th>money_empath</th>\n",
       "      <th>wedding_empath</th>\n",
       "      <th>domestic_work_empath</th>\n",
       "      <th>sleep_empath</th>\n",
       "      <th>medical_emergency_empath</th>\n",
       "      <th>cold_empath</th>\n",
       "      <th>hate_empath</th>\n",
       "      <th>cheerfulness_empath</th>\n",
       "      <th>aggression_empath</th>\n",
       "      <th>occupation_empath</th>\n",
       "      <th>envy_empath</th>\n",
       "      <th>anticipation_empath</th>\n",
       "      <th>family_empath</th>\n",
       "      <th>vacation_empath</th>\n",
       "      <th>crime_empath</th>\n",
       "      <th>attractive_empath</th>\n",
       "      <th>masculine_empath</th>\n",
       "      <th>prison_empath</th>\n",
       "      <th>health_empath</th>\n",
       "      <th>pride_empath</th>\n",
       "      <th>dispute_empath</th>\n",
       "      <th>nervousness_empath</th>\n",
       "      <th>government_empath</th>\n",
       "      <th>weakness_empath</th>\n",
       "      <th>horror_empath</th>\n",
       "      <th>swearing_terms_empath</th>\n",
       "      <th>...</th>\n",
       "      <th>car_empath</th>\n",
       "      <th>strength_empath</th>\n",
       "      <th>technology_empath</th>\n",
       "      <th>breaking_empath</th>\n",
       "      <th>shape_and_size_empath</th>\n",
       "      <th>power_empath</th>\n",
       "      <th>white_collar_job_empath</th>\n",
       "      <th>animal_empath</th>\n",
       "      <th>party_empath</th>\n",
       "      <th>terrorism_empath</th>\n",
       "      <th>smell_empath</th>\n",
       "      <th>disappointment_empath</th>\n",
       "      <th>poor_empath</th>\n",
       "      <th>plant_empath</th>\n",
       "      <th>pain_empath</th>\n",
       "      <th>beauty_empath</th>\n",
       "      <th>timidity_empath</th>\n",
       "      <th>philosophy_empath</th>\n",
       "      <th>negotiate_empath</th>\n",
       "      <th>negative_emotion_empath</th>\n",
       "      <th>cleaning_empath</th>\n",
       "      <th>messaging_empath</th>\n",
       "      <th>competing_empath</th>\n",
       "      <th>law_empath</th>\n",
       "      <th>friends_empath</th>\n",
       "      <th>payment_empath</th>\n",
       "      <th>achievement_empath</th>\n",
       "      <th>alcohol_empath</th>\n",
       "      <th>liquid_empath</th>\n",
       "      <th>feminine_empath</th>\n",
       "      <th>weapon_empath</th>\n",
       "      <th>children_empath</th>\n",
       "      <th>monster_empath</th>\n",
       "      <th>ocean_empath</th>\n",
       "      <th>giving_empath</th>\n",
       "      <th>contentment_empath</th>\n",
       "      <th>writing_empath</th>\n",
       "      <th>rural_empath</th>\n",
       "      <th>positive_emotion_empath</th>\n",
       "      <th>musical_empath</th>\n",
       "    </tr>\n",
       "  </thead>\n",
       "  <tbody>\n",
       "    <tr>\n",
       "      <th>0</th>\n",
       "      <td>1172796973</td>\n",
       "      <td>PTorresTV</td>\n",
       "      <td>548</td>\n",
       "      <td>1117</td>\n",
       "      <td>25</td>\n",
       "      <td>12136</td>\n",
       "      <td>0</td>\n",
       "      <td>0.0</td>\n",
       "      <td>0.0</td>\n",
       "      <td>0.312530</td>\n",
       "      <td>0.093912</td>\n",
       "      <td>0.002503</td>\n",
       "      <td>0.001585</td>\n",
       "      <td>0.009541</td>\n",
       "      <td>0.001987</td>\n",
       "      <td>0.022792</td>\n",
       "      <td>0.006143</td>\n",
       "      <td>0.001275</td>\n",
       "      <td>0.004969</td>\n",
       "      <td>0.001119</td>\n",
       "      <td>0.001484</td>\n",
       "      <td>0.002110</td>\n",
       "      <td>0.001906</td>\n",
       "      <td>0.002433</td>\n",
       "      <td>0.000252</td>\n",
       "      <td>0.000335</td>\n",
       "      <td>0.022529</td>\n",
       "      <td>0.006821</td>\n",
       "      <td>0.006464</td>\n",
       "      <td>0.004830</td>\n",
       "      <td>0.002519</td>\n",
       "      <td>0.001867</td>\n",
       "      <td>0.004564</td>\n",
       "      <td>0.000811</td>\n",
       "      <td>0.003197</td>\n",
       "      <td>0.001057</td>\n",
       "      <td>0.001609</td>\n",
       "      <td>0.000786</td>\n",
       "      <td>0.001666</td>\n",
       "      <td>0.000564</td>\n",
       "      <td>...</td>\n",
       "      <td>0.002635</td>\n",
       "      <td>0.002138</td>\n",
       "      <td>0.001135</td>\n",
       "      <td>0.003647</td>\n",
       "      <td>0.003324</td>\n",
       "      <td>0.003090</td>\n",
       "      <td>0.001846</td>\n",
       "      <td>0.002806</td>\n",
       "      <td>0.025465</td>\n",
       "      <td>0.000869</td>\n",
       "      <td>0.000811</td>\n",
       "      <td>0.000255</td>\n",
       "      <td>0.000728</td>\n",
       "      <td>0.001924</td>\n",
       "      <td>0.002785</td>\n",
       "      <td>0.003471</td>\n",
       "      <td>0.000362</td>\n",
       "      <td>0.000564</td>\n",
       "      <td>0.000421</td>\n",
       "      <td>0.008620</td>\n",
       "      <td>0.001497</td>\n",
       "      <td>0.003283</td>\n",
       "      <td>0.004428</td>\n",
       "      <td>0.002260</td>\n",
       "      <td>0.012095</td>\n",
       "      <td>0.001400</td>\n",
       "      <td>0.004877</td>\n",
       "      <td>0.001386</td>\n",
       "      <td>0.001199</td>\n",
       "      <td>0.009170</td>\n",
       "      <td>0.002391</td>\n",
       "      <td>0.021099</td>\n",
       "      <td>0.001657</td>\n",
       "      <td>0.001920</td>\n",
       "      <td>0.003702</td>\n",
       "      <td>0.000585</td>\n",
       "      <td>0.002335</td>\n",
       "      <td>0.002460</td>\n",
       "      <td>0.007839</td>\n",
       "      <td>0.011049</td>\n",
       "    </tr>\n",
       "    <tr>\n",
       "      <th>1</th>\n",
       "      <td>1070586199</td>\n",
       "      <td>EOnlineUK</td>\n",
       "      <td>353</td>\n",
       "      <td>102733</td>\n",
       "      <td>316</td>\n",
       "      <td>60989</td>\n",
       "      <td>0</td>\n",
       "      <td>0.0</td>\n",
       "      <td>0.0</td>\n",
       "      <td>0.301738</td>\n",
       "      <td>0.076067</td>\n",
       "      <td>0.002964</td>\n",
       "      <td>0.001607</td>\n",
       "      <td>0.009846</td>\n",
       "      <td>0.002328</td>\n",
       "      <td>0.026361</td>\n",
       "      <td>0.004240</td>\n",
       "      <td>0.001340</td>\n",
       "      <td>0.005193</td>\n",
       "      <td>0.000997</td>\n",
       "      <td>0.002268</td>\n",
       "      <td>0.002397</td>\n",
       "      <td>0.001655</td>\n",
       "      <td>0.002799</td>\n",
       "      <td>0.000341</td>\n",
       "      <td>0.000426</td>\n",
       "      <td>0.025000</td>\n",
       "      <td>0.007094</td>\n",
       "      <td>0.007236</td>\n",
       "      <td>0.005456</td>\n",
       "      <td>0.002686</td>\n",
       "      <td>0.001401</td>\n",
       "      <td>0.003945</td>\n",
       "      <td>0.000644</td>\n",
       "      <td>0.001548</td>\n",
       "      <td>0.000615</td>\n",
       "      <td>0.001270</td>\n",
       "      <td>0.000671</td>\n",
       "      <td>0.001780</td>\n",
       "      <td>0.000781</td>\n",
       "      <td>...</td>\n",
       "      <td>0.002026</td>\n",
       "      <td>0.002605</td>\n",
       "      <td>0.000715</td>\n",
       "      <td>0.004427</td>\n",
       "      <td>0.003466</td>\n",
       "      <td>0.003349</td>\n",
       "      <td>0.001985</td>\n",
       "      <td>0.002708</td>\n",
       "      <td>0.027204</td>\n",
       "      <td>0.000938</td>\n",
       "      <td>0.000490</td>\n",
       "      <td>0.001479</td>\n",
       "      <td>0.001027</td>\n",
       "      <td>0.002718</td>\n",
       "      <td>0.004305</td>\n",
       "      <td>0.004376</td>\n",
       "      <td>0.000775</td>\n",
       "      <td>0.000859</td>\n",
       "      <td>0.000000</td>\n",
       "      <td>0.008997</td>\n",
       "      <td>0.001973</td>\n",
       "      <td>0.006104</td>\n",
       "      <td>0.002624</td>\n",
       "      <td>0.001301</td>\n",
       "      <td>0.014153</td>\n",
       "      <td>0.001880</td>\n",
       "      <td>0.003580</td>\n",
       "      <td>0.002036</td>\n",
       "      <td>0.000773</td>\n",
       "      <td>0.010398</td>\n",
       "      <td>0.002308</td>\n",
       "      <td>0.021205</td>\n",
       "      <td>0.002619</td>\n",
       "      <td>0.002023</td>\n",
       "      <td>0.005247</td>\n",
       "      <td>0.000557</td>\n",
       "      <td>0.002802</td>\n",
       "      <td>0.002584</td>\n",
       "      <td>0.009525</td>\n",
       "      <td>0.013514</td>\n",
       "    </tr>\n",
       "    <tr>\n",
       "      <th>2</th>\n",
       "      <td>25589776</td>\n",
       "      <td>people</td>\n",
       "      <td>1751</td>\n",
       "      <td>7565880</td>\n",
       "      <td>33588</td>\n",
       "      <td>267090</td>\n",
       "      <td>1</td>\n",
       "      <td>0.0</td>\n",
       "      <td>0.0</td>\n",
       "      <td>0.324708</td>\n",
       "      <td>0.069925</td>\n",
       "      <td>0.003162</td>\n",
       "      <td>0.002072</td>\n",
       "      <td>0.005707</td>\n",
       "      <td>0.001691</td>\n",
       "      <td>0.036405</td>\n",
       "      <td>0.007570</td>\n",
       "      <td>0.002665</td>\n",
       "      <td>0.009108</td>\n",
       "      <td>0.001742</td>\n",
       "      <td>0.002916</td>\n",
       "      <td>0.002973</td>\n",
       "      <td>0.001526</td>\n",
       "      <td>0.003040</td>\n",
       "      <td>0.000244</td>\n",
       "      <td>0.000000</td>\n",
       "      <td>0.036574</td>\n",
       "      <td>0.007104</td>\n",
       "      <td>0.010804</td>\n",
       "      <td>0.004247</td>\n",
       "      <td>0.003485</td>\n",
       "      <td>0.002225</td>\n",
       "      <td>0.006793</td>\n",
       "      <td>0.001354</td>\n",
       "      <td>0.004698</td>\n",
       "      <td>0.001298</td>\n",
       "      <td>0.000935</td>\n",
       "      <td>0.000529</td>\n",
       "      <td>0.001827</td>\n",
       "      <td>0.000253</td>\n",
       "      <td>...</td>\n",
       "      <td>0.001674</td>\n",
       "      <td>0.003602</td>\n",
       "      <td>0.000424</td>\n",
       "      <td>0.007852</td>\n",
       "      <td>0.002582</td>\n",
       "      <td>0.001888</td>\n",
       "      <td>0.002654</td>\n",
       "      <td>0.001892</td>\n",
       "      <td>0.022918</td>\n",
       "      <td>0.000275</td>\n",
       "      <td>0.000297</td>\n",
       "      <td>0.000229</td>\n",
       "      <td>0.002405</td>\n",
       "      <td>0.002017</td>\n",
       "      <td>0.003214</td>\n",
       "      <td>0.001937</td>\n",
       "      <td>0.000944</td>\n",
       "      <td>0.000215</td>\n",
       "      <td>0.000595</td>\n",
       "      <td>0.008619</td>\n",
       "      <td>0.000894</td>\n",
       "      <td>0.003928</td>\n",
       "      <td>0.004437</td>\n",
       "      <td>0.003553</td>\n",
       "      <td>0.017588</td>\n",
       "      <td>0.000739</td>\n",
       "      <td>0.005579</td>\n",
       "      <td>0.001528</td>\n",
       "      <td>0.001736</td>\n",
       "      <td>0.006831</td>\n",
       "      <td>0.002769</td>\n",
       "      <td>0.032744</td>\n",
       "      <td>0.000474</td>\n",
       "      <td>0.001301</td>\n",
       "      <td>0.002765</td>\n",
       "      <td>0.000771</td>\n",
       "      <td>0.004536</td>\n",
       "      <td>0.005398</td>\n",
       "      <td>0.009638</td>\n",
       "      <td>0.008561</td>\n",
       "    </tr>\n",
       "    <tr>\n",
       "      <th>3</th>\n",
       "      <td>1367531</td>\n",
       "      <td>FoxNews</td>\n",
       "      <td>398</td>\n",
       "      <td>18416786</td>\n",
       "      <td>65345</td>\n",
       "      <td>418052</td>\n",
       "      <td>0</td>\n",
       "      <td>0.0</td>\n",
       "      <td>0.0</td>\n",
       "      <td>0.214538</td>\n",
       "      <td>0.043671</td>\n",
       "      <td>0.002774</td>\n",
       "      <td>0.046930</td>\n",
       "      <td>0.018994</td>\n",
       "      <td>0.006579</td>\n",
       "      <td>0.009791</td>\n",
       "      <td>0.008204</td>\n",
       "      <td>0.011199</td>\n",
       "      <td>0.002914</td>\n",
       "      <td>0.001927</td>\n",
       "      <td>0.001500</td>\n",
       "      <td>0.001288</td>\n",
       "      <td>0.003173</td>\n",
       "      <td>0.041127</td>\n",
       "      <td>0.000827</td>\n",
       "      <td>0.000368</td>\n",
       "      <td>0.006522</td>\n",
       "      <td>0.004596</td>\n",
       "      <td>0.009982</td>\n",
       "      <td>0.001409</td>\n",
       "      <td>0.002729</td>\n",
       "      <td>0.003356</td>\n",
       "      <td>0.001161</td>\n",
       "      <td>0.000764</td>\n",
       "      <td>0.007287</td>\n",
       "      <td>0.000425</td>\n",
       "      <td>0.014573</td>\n",
       "      <td>0.000687</td>\n",
       "      <td>0.002105</td>\n",
       "      <td>0.000416</td>\n",
       "      <td>...</td>\n",
       "      <td>0.003357</td>\n",
       "      <td>0.002872</td>\n",
       "      <td>0.001384</td>\n",
       "      <td>0.001540</td>\n",
       "      <td>0.002608</td>\n",
       "      <td>0.004244</td>\n",
       "      <td>0.005401</td>\n",
       "      <td>0.015075</td>\n",
       "      <td>0.029000</td>\n",
       "      <td>0.003157</td>\n",
       "      <td>0.000226</td>\n",
       "      <td>0.002163</td>\n",
       "      <td>0.002644</td>\n",
       "      <td>0.003103</td>\n",
       "      <td>0.003314</td>\n",
       "      <td>0.000000</td>\n",
       "      <td>0.000453</td>\n",
       "      <td>0.001464</td>\n",
       "      <td>0.002801</td>\n",
       "      <td>0.006549</td>\n",
       "      <td>0.000687</td>\n",
       "      <td>0.004086</td>\n",
       "      <td>0.002189</td>\n",
       "      <td>0.007833</td>\n",
       "      <td>0.002333</td>\n",
       "      <td>0.005546</td>\n",
       "      <td>0.004129</td>\n",
       "      <td>0.000191</td>\n",
       "      <td>0.000191</td>\n",
       "      <td>0.002096</td>\n",
       "      <td>0.002891</td>\n",
       "      <td>0.004289</td>\n",
       "      <td>0.001988</td>\n",
       "      <td>0.001589</td>\n",
       "      <td>0.001920</td>\n",
       "      <td>0.000191</td>\n",
       "      <td>0.003285</td>\n",
       "      <td>0.004726</td>\n",
       "      <td>0.002932</td>\n",
       "      <td>0.018821</td>\n",
       "    </tr>\n",
       "    <tr>\n",
       "      <th>4</th>\n",
       "      <td>20012204</td>\n",
       "      <td>usweekly</td>\n",
       "      <td>1177</td>\n",
       "      <td>2181224</td>\n",
       "      <td>11975</td>\n",
       "      <td>188328</td>\n",
       "      <td>1</td>\n",
       "      <td>0.9</td>\n",
       "      <td>0.5</td>\n",
       "      <td>0.264836</td>\n",
       "      <td>0.089045</td>\n",
       "      <td>0.001367</td>\n",
       "      <td>0.002343</td>\n",
       "      <td>0.003676</td>\n",
       "      <td>0.000217</td>\n",
       "      <td>0.045730</td>\n",
       "      <td>0.003368</td>\n",
       "      <td>0.000237</td>\n",
       "      <td>0.009023</td>\n",
       "      <td>0.000875</td>\n",
       "      <td>0.002118</td>\n",
       "      <td>0.002746</td>\n",
       "      <td>0.000200</td>\n",
       "      <td>0.004908</td>\n",
       "      <td>0.000326</td>\n",
       "      <td>0.000000</td>\n",
       "      <td>0.040682</td>\n",
       "      <td>0.004647</td>\n",
       "      <td>0.006826</td>\n",
       "      <td>0.004783</td>\n",
       "      <td>0.001833</td>\n",
       "      <td>0.001504</td>\n",
       "      <td>0.003830</td>\n",
       "      <td>0.000000</td>\n",
       "      <td>0.005446</td>\n",
       "      <td>0.000526</td>\n",
       "      <td>0.000372</td>\n",
       "      <td>0.000200</td>\n",
       "      <td>0.001093</td>\n",
       "      <td>0.000000</td>\n",
       "      <td>...</td>\n",
       "      <td>0.000437</td>\n",
       "      <td>0.003870</td>\n",
       "      <td>0.000260</td>\n",
       "      <td>0.008875</td>\n",
       "      <td>0.002305</td>\n",
       "      <td>0.001107</td>\n",
       "      <td>0.001575</td>\n",
       "      <td>0.001240</td>\n",
       "      <td>0.029178</td>\n",
       "      <td>0.000372</td>\n",
       "      <td>0.000289</td>\n",
       "      <td>0.000000</td>\n",
       "      <td>0.000815</td>\n",
       "      <td>0.001877</td>\n",
       "      <td>0.000726</td>\n",
       "      <td>0.001378</td>\n",
       "      <td>0.000289</td>\n",
       "      <td>0.004509</td>\n",
       "      <td>0.000000</td>\n",
       "      <td>0.009742</td>\n",
       "      <td>0.001352</td>\n",
       "      <td>0.003069</td>\n",
       "      <td>0.004161</td>\n",
       "      <td>0.003369</td>\n",
       "      <td>0.020521</td>\n",
       "      <td>0.000237</td>\n",
       "      <td>0.001792</td>\n",
       "      <td>0.001110</td>\n",
       "      <td>0.000526</td>\n",
       "      <td>0.010163</td>\n",
       "      <td>0.000750</td>\n",
       "      <td>0.035524</td>\n",
       "      <td>0.000372</td>\n",
       "      <td>0.002707</td>\n",
       "      <td>0.002477</td>\n",
       "      <td>0.000550</td>\n",
       "      <td>0.005693</td>\n",
       "      <td>0.001944</td>\n",
       "      <td>0.007702</td>\n",
       "      <td>0.008623</td>\n",
       "    </tr>\n",
       "  </tbody>\n",
       "</table>\n",
       "<p>5 rows × 205 columns</p>\n",
       "</div>"
      ],
      "text/plain": [
       "          uid       name  ...  positive_emotion_empath  musical_empath\n",
       "0  1172796973  PTorresTV  ...                 0.007839        0.011049\n",
       "1  1070586199  EOnlineUK  ...                 0.009525        0.013514\n",
       "2    25589776     people  ...                 0.009638        0.008561\n",
       "3     1367531    FoxNews  ...                 0.002932        0.018821\n",
       "4    20012204   usweekly  ...                 0.007702        0.008623\n",
       "\n",
       "[5 rows x 205 columns]"
      ]
     },
     "execution_count": 9,
     "metadata": {
      "tags": []
     },
     "output_type": "execute_result"
    }
   ],
   "source": [
    "df.head()"
   ]
  },
  {
   "cell_type": "code",
   "execution_count": 0,
   "metadata": {
    "colab": {},
    "colab_type": "code",
    "id": "uFeCv34qEDEm"
   },
   "outputs": [],
   "source": []
  },
  {
   "cell_type": "code",
   "execution_count": 0,
   "metadata": {
    "colab": {},
    "colab_type": "code",
    "id": "UACSamnlEDEp"
   },
   "outputs": [],
   "source": [
    "names = list(df['name'].values)"
   ]
  },
  {
   "cell_type": "code",
   "execution_count": 0,
   "metadata": {
    "colab": {},
    "colab_type": "code",
    "id": "cDPY_3buEDEs"
   },
   "outputs": [],
   "source": [
    "sub_g = G.subgraph(names)"
   ]
  },
  {
   "cell_type": "code",
   "execution_count": 12,
   "metadata": {
    "colab": {
     "base_uri": "https://localhost:8080/",
     "height": 33
    },
    "colab_type": "code",
    "id": "-U375TlkEDEv",
    "outputId": "9d218f8f-b30e-41cb-9bbe-ee2b47e19315"
   },
   "outputs": [
    {
     "data": {
      "text/plain": [
       "(2900, 148998)"
      ]
     },
     "execution_count": 12,
     "metadata": {
      "tags": []
     },
     "output_type": "execute_result"
    }
   ],
   "source": [
    "sub_g.number_of_nodes(), sub_g.number_of_edges()"
   ]
  },
  {
   "cell_type": "code",
   "execution_count": 13,
   "metadata": {
    "colab": {
     "base_uri": "https://localhost:8080/",
     "height": 101
    },
    "colab_type": "code",
    "id": "217O5en0EDEy",
    "outputId": "c1de2602-2b05-4af1-e92e-cc1dea50b02c"
   },
   "outputs": [
    {
     "name": "stdout",
     "output_type": "stream",
     "text": [
      "<class 'pandas.core.frame.DataFrame'>\n",
      "Int64Index: 2900 entries, 0 to 2901\n",
      "Columns: 205 entries, uid to musical_empath\n",
      "dtypes: float64(198), int64(6), object(1)\n",
      "memory usage: 4.6+ MB\n"
     ]
    }
   ],
   "source": [
    "nodes = list(sub_g.nodes())\n",
    "\n",
    "df = df[df['name'].isin(nodes)]\n",
    "df.info()"
   ]
  },
  {
   "cell_type": "code",
   "execution_count": 14,
   "metadata": {
    "colab": {
     "base_uri": "https://localhost:8080/",
     "height": 50
    },
    "colab_type": "code",
    "id": "cKUTBa7DEDE1",
    "outputId": "bb5a2c36-efcb-4f8d-af56-7164885f95d2"
   },
   "outputs": [
    {
     "name": "stderr",
     "output_type": "stream",
     "text": [
      "Computing transition probabilities: 100%|██████████| 2900/2900 [01:41<00:00, 28.65it/s]\n",
      "Generating walks (CPU: 1): 100%|██████████| 300/300 [23:14<00:00,  4.63s/it]\n"
     ]
    }
   ],
   "source": [
    "node2vec = Node2Vec(sub_g, dimensions=128, walk_length=40, num_walks=300, workers=1, p=.5, q=3)\n"
   ]
  },
  {
   "cell_type": "code",
   "execution_count": 15,
   "metadata": {
    "colab": {
     "base_uri": "https://localhost:8080/",
     "height": 70
    },
    "colab_type": "code",
    "id": "dMjTRQ4YEDE4",
    "outputId": "6f51ee5a-4863-42fc-d849-4ce40392f77f"
   },
   "outputs": [
    {
     "name": "stderr",
     "output_type": "stream",
     "text": [
      "/usr/local/lib/python3.6/dist-packages/ipykernel_launcher.py:3: DeprecationWarning: Call to deprecated `__getitem__` (Method will be removed in 4.0.0, use self.wv.__getitem__() instead).\n",
      "  This is separate from the ipykernel package so we can avoid doing imports until\n"
     ]
    }
   ],
   "source": [
    "vmodel = node2vec.fit()\n",
    "vocab = list(vmodel.wv.vocab)\n",
    "X_v = vmodel[vocab]"
   ]
  },
  {
   "cell_type": "code",
   "execution_count": 0,
   "metadata": {
    "colab": {},
    "colab_type": "code",
    "id": "HtVb-PbwEDE7"
   },
   "outputs": [],
   "source": [
    "target = []\n",
    "\n",
    "for x in vocab:\n",
    "    target.append(int(df.loc[df['name'] == x]['fake'])  )"
   ]
  },
  {
   "cell_type": "code",
   "execution_count": 0,
   "metadata": {
    "colab": {},
    "colab_type": "code",
    "id": "f03x4KQKEDE-"
   },
   "outputs": [],
   "source": [
    "tsne = TSNE(n_components=2)\n",
    "X_tsne = tsne.fit_transform(X_v)"
   ]
  },
  {
   "cell_type": "code",
   "execution_count": 0,
   "metadata": {
    "colab": {},
    "colab_type": "code",
    "id": "b7TEjEIFEDFB"
   },
   "outputs": [],
   "source": [
    "dfg = pd.DataFrame(X_tsne, columns=['x', 'y'])\n"
   ]
  },
  {
   "cell_type": "code",
   "execution_count": 19,
   "metadata": {
    "colab": {
     "base_uri": "https://localhost:8080/",
     "height": 592
    },
    "colab_type": "code",
    "id": "M3MQ7c5XEDFE",
    "outputId": "7b173adf-5e53-4252-993f-1208ca4341ed"
   },
   "outputs": [
    {
     "data": {
      "image/png": "[encoded data removed]",
      "text/plain": [
       "<Figure size 720x720 with 1 Axes>"
      ]
     },
     "metadata": {
      "tags": []
     },
     "output_type": "display_data"
    }
   ],
   "source": [
    "fig = plt.figure(figsize=(10, 10))\n",
    "ax = fig.add_subplot(1, 1, 1)\n",
    "color= ['red' if l == 1 else 'blue' for l in target]\n",
    "ax.scatter(dfg['x'], dfg['y'], color=color)\n",
    "\n",
    "# for word, pos in dfg.iterrows():\n",
    "#     ax.annotate(word, pos)\n",
    "    \n",
    "plt.show()"
   ]
  },
  {
   "cell_type": "code",
   "execution_count": 0,
   "metadata": {
    "colab": {},
    "colab_type": "code",
    "id": "nR6e3eErR91Z"
   },
   "outputs": [],
   "source": [
    "df = df.drop(columns=['fake', 'uid'])"
   ]
  },
  {
   "cell_type": "code",
   "execution_count": 0,
   "metadata": {
    "colab": {},
    "colab_type": "code",
    "id": "Sl-nsyPQQ2cK"
   },
   "outputs": [],
   "source": [
    "\n",
    "X_feat = []\n",
    "for n in vocab:\n",
    "  feat = list(df[df['name'] == n].values[0][1:])\n",
    "  mod = list(vmodel[n])\n",
    "  X_feat.append(mod+feat)\n"
   ]
  },
  {
   "cell_type": "code",
   "execution_count": 0,
   "metadata": {
    "colab": {},
    "colab_type": "code",
    "id": "rzhCOHMnQ2aD"
   },
   "outputs": [],
   "source": []
  },
  {
   "cell_type": "code",
   "execution_count": 0,
   "metadata": {
    "colab": {},
    "colab_type": "code",
    "id": "RxrexoOnQ2Vm"
   },
   "outputs": [],
   "source": []
  },
  {
   "cell_type": "code",
   "execution_count": 0,
   "metadata": {
    "colab": {},
    "colab_type": "code",
    "id": "zUoxY_L7Q2S_"
   },
   "outputs": [],
   "source": []
  },
  {
   "cell_type": "code",
   "execution_count": 0,
   "metadata": {
    "colab": {},
    "colab_type": "code",
    "id": "GYjTKGZ7EDFH"
   },
   "outputs": [],
   "source": [
    "from sklearn.metrics import accuracy_score, f1_score, classification_report, calinski_harabaz_score\n",
    "from sklearn.metrics import precision_score, recall_score, confusion_matrix\n",
    "from sklearn.model_selection import train_test_split\n",
    "from sklearn.model_selection import GridSearchCV\n",
    "from sklearn.linear_model import LogisticRegression\n",
    "from sklearn.naive_bayes import GaussianNB\n",
    "from sklearn.neighbors import KNeighborsClassifier\n",
    "from sklearn.pipeline import Pipeline\n",
    "from sklearn.decomposition import TruncatedSVD\n",
    "from sklearn import svm\n",
    "from sklearn.ensemble import RandomForestClassifier\n",
    "from sklearn.preprocessing import StandardScaler\n",
    "from sklearn.linear_model import LogisticRegressionCV\n"
   ]
  },
  {
   "cell_type": "code",
   "execution_count": 0,
   "metadata": {
    "colab": {},
    "colab_type": "code",
    "id": "Qwq2OzDSXQpm"
   },
   "outputs": [],
   "source": [
    "import warnings\n",
    "import xgboost as xgb\n",
    "warnings.filterwarnings('ignore')\n",
    "from sklearn.cluster import KMeans\n",
    "from sklearn.ensemble import RandomForestClassifier"
   ]
  },
  {
   "cell_type": "code",
   "execution_count": 0,
   "metadata": {
    "colab": {},
    "colab_type": "code",
    "id": "3KxqeprVQv9R"
   },
   "outputs": [],
   "source": [
    "# vocab"
   ]
  },
  {
   "cell_type": "code",
   "execution_count": 0,
   "metadata": {
    "colab": {},
    "colab_type": "code",
    "id": "phZS2VX8EDFj"
   },
   "outputs": [],
   "source": [
    "X = X_feat\n",
    "y= target"
   ]
  },
  {
   "cell_type": "code",
   "execution_count": 0,
   "metadata": {
    "colab": {},
    "colab_type": "code",
    "id": "4Vgiw_vmEDFm"
   },
   "outputs": [],
   "source": [
    "X_train, X_test, y_train, y_test = train_test_split(X, y, test_size=.2)\n"
   ]
  },
  {
   "cell_type": "code",
   "execution_count": 0,
   "metadata": {
    "colab": {},
    "colab_type": "code",
    "id": "y14waXvbEDFp"
   },
   "outputs": [],
   "source": [
    "scaler = StandardScaler()\n",
    "scaled_X_train = scaler.fit_transform(X_train)\n",
    "scaled_X_test = scaler.transform(X_test)"
   ]
  },
  {
   "cell_type": "code",
   "execution_count": 0,
   "metadata": {
    "colab": {},
    "colab_type": "code",
    "id": "8H65GiAOJcFs"
   },
   "outputs": [],
   "source": []
  },
  {
   "cell_type": "markdown",
   "metadata": {
    "colab_type": "text",
    "id": "FbpEyL_3wPbR"
   },
   "source": [
    "### Naive Bayes"
   ]
  },
  {
   "cell_type": "code",
   "execution_count": 0,
   "metadata": {
    "colab": {},
    "colab_type": "code",
    "id": "7X8D4TqIwPbS"
   },
   "outputs": [],
   "source": [
    "gnb = GaussianNB()"
   ]
  },
  {
   "cell_type": "code",
   "execution_count": 61,
   "metadata": {
    "colab": {
     "base_uri": "https://localhost:8080/",
     "height": 33
    },
    "colab_type": "code",
    "id": "8zSQ2iKtwPbU",
    "outputId": "913d9926-fb6a-4b85-817f-5b3f26027a71"
   },
   "outputs": [
    {
     "data": {
      "text/plain": [
       "GaussianNB(priors=None, var_smoothing=1e-09)"
      ]
     },
     "execution_count": 61,
     "metadata": {
      "tags": []
     },
     "output_type": "execute_result"
    }
   ],
   "source": [
    "gnb.fit(scaled_X_train, y_train)"
   ]
  },
  {
   "cell_type": "code",
   "execution_count": 0,
   "metadata": {
    "colab": {},
    "colab_type": "code",
    "id": "0J3D1c3QwPbW"
   },
   "outputs": [],
   "source": [
    "y_pred = gnb.predict(scaled_X_test)"
   ]
  },
  {
   "cell_type": "code",
   "execution_count": 63,
   "metadata": {
    "colab": {
     "base_uri": "https://localhost:8080/",
     "height": 184
    },
    "colab_type": "code",
    "id": "_pH0q39JwPbY",
    "outputId": "fc3d439a-8f54-4c8e-e6ba-90194e2f79ab"
   },
   "outputs": [
    {
     "name": "stdout",
     "output_type": "stream",
     "text": [
      "              precision    recall  f1-score   support\n",
      "\n",
      "           0       0.55      0.76      0.64       263\n",
      "           1       0.71      0.49      0.58       317\n",
      "\n",
      "    accuracy                           0.61       580\n",
      "   macro avg       0.63      0.62      0.61       580\n",
      "weighted avg       0.64      0.61      0.60       580\n",
      "\n",
      "Accuracy: 0.6103448275862069\n"
     ]
    }
   ],
   "source": [
    "print(classification_report(y_test, y_pred))\n",
    "print(\"Accuracy:\", accuracy_score(y_test, y_pred))\n"
   ]
  },
  {
   "cell_type": "markdown",
   "metadata": {
    "colab_type": "text",
    "id": "5VVxjOPfwPbb"
   },
   "source": [
    "### KNN"
   ]
  },
  {
   "cell_type": "code",
   "execution_count": 0,
   "metadata": {
    "colab": {},
    "colab_type": "code",
    "id": "jj0cYYxKwPbc"
   },
   "outputs": [],
   "source": [
    "knn = KNeighborsClassifier(n_neighbors=10)"
   ]
  },
  {
   "cell_type": "code",
   "execution_count": 68,
   "metadata": {
    "colab": {
     "base_uri": "https://localhost:8080/",
     "height": 67
    },
    "colab_type": "code",
    "id": "c4mG-TFkwPbg",
    "outputId": "c46ab607-01f3-421a-ee08-bdd40354d10d"
   },
   "outputs": [
    {
     "data": {
      "text/plain": [
       "KNeighborsClassifier(algorithm='auto', leaf_size=30, metric='minkowski',\n",
       "                     metric_params=None, n_jobs=None, n_neighbors=10, p=2,\n",
       "                     weights='uniform')"
      ]
     },
     "execution_count": 68,
     "metadata": {
      "tags": []
     },
     "output_type": "execute_result"
    }
   ],
   "source": [
    "knn.fit(scaled_X_train, y_train)"
   ]
  },
  {
   "cell_type": "code",
   "execution_count": 0,
   "metadata": {
    "colab": {},
    "colab_type": "code",
    "id": "rxtVILlNwPbj"
   },
   "outputs": [],
   "source": [
    "y_pred = knn.predict(scaled_X_test)"
   ]
  },
  {
   "cell_type": "code",
   "execution_count": 70,
   "metadata": {
    "colab": {
     "base_uri": "https://localhost:8080/",
     "height": 184
    },
    "colab_type": "code",
    "id": "bf6oM07jwPbk",
    "outputId": "ca12ffda-92a7-4220-f98d-124a80e045a0"
   },
   "outputs": [
    {
     "name": "stdout",
     "output_type": "stream",
     "text": [
      "              precision    recall  f1-score   support\n",
      "\n",
      "           0       0.62      0.72      0.66       263\n",
      "           1       0.73      0.63      0.68       317\n",
      "\n",
      "    accuracy                           0.67       580\n",
      "   macro avg       0.67      0.67      0.67       580\n",
      "weighted avg       0.68      0.67      0.67       580\n",
      "\n",
      "Accuracy: 0.6706896551724137\n"
     ]
    }
   ],
   "source": [
    "print(classification_report(y_test, y_pred))\n",
    "print(\"Accuracy:\", accuracy_score(y_test, y_pred))\n"
   ]
  },
  {
   "cell_type": "markdown",
   "metadata": {
    "colab_type": "text",
    "id": "qpBdmfchwPbm"
   },
   "source": [
    "### Logistic regression"
   ]
  },
  {
   "cell_type": "code",
   "execution_count": 0,
   "metadata": {
    "colab": {},
    "colab_type": "code",
    "id": "uq7xCJzfwPbn"
   },
   "outputs": [],
   "source": [
    "lr = LogisticRegressionCV(cv=5,  \n",
    "                          max_iter=10000)"
   ]
  },
  {
   "cell_type": "code",
   "execution_count": 72,
   "metadata": {
    "colab": {
     "base_uri": "https://localhost:8080/",
     "height": 101
    },
    "colab_type": "code",
    "id": "jpxzkfzswPbo",
    "outputId": "158d633d-9a5d-442d-fe5f-62e4df57ee8f"
   },
   "outputs": [
    {
     "data": {
      "text/plain": [
       "LogisticRegressionCV(Cs=10, class_weight=None, cv=5, dual=False,\n",
       "                     fit_intercept=True, intercept_scaling=1.0, l1_ratios=None,\n",
       "                     max_iter=10000, multi_class='warn', n_jobs=None,\n",
       "                     penalty='l2', random_state=None, refit=True, scoring=None,\n",
       "                     solver='lbfgs', tol=0.0001, verbose=0)"
      ]
     },
     "execution_count": 72,
     "metadata": {
      "tags": []
     },
     "output_type": "execute_result"
    }
   ],
   "source": [
    "lr.fit(scaled_X_train, y_train)"
   ]
  },
  {
   "cell_type": "code",
   "execution_count": 0,
   "metadata": {
    "colab": {},
    "colab_type": "code",
    "id": "Do2NyVo0wPbq"
   },
   "outputs": [],
   "source": [
    "test_preds_lr = lr.predict_proba(scaled_X_test)"
   ]
  },
  {
   "cell_type": "code",
   "execution_count": 0,
   "metadata": {
    "colab": {},
    "colab_type": "code",
    "id": "vaHRm_FvwPbr"
   },
   "outputs": [],
   "source": [
    "# lr.score(test_data, test_targets)"
   ]
  },
  {
   "cell_type": "code",
   "execution_count": 0,
   "metadata": {
    "colab": {},
    "colab_type": "code",
    "id": "gdcZ252zwPbt"
   },
   "outputs": [],
   "source": [
    "# test_preds_lr[:, 1]"
   ]
  },
  {
   "cell_type": "code",
   "execution_count": 0,
   "metadata": {
    "colab": {},
    "colab_type": "code",
    "id": "miMIZpQAwPbv"
   },
   "outputs": [],
   "source": [
    "test_predictions_class_lr = ((test_preds_lr[:, 1]>=0.5)*1).flatten()\n",
    "test_df_lr = pd.DataFrame({\"Predicted_score\": test_preds_lr[:, 1].flatten(), \n",
    "                        \"Predicted_class\": test_predictions_class_lr, \n",
    "                        \"True\": y_test})"
   ]
  },
  {
   "cell_type": "code",
   "execution_count": 79,
   "metadata": {
    "colab": {
     "base_uri": "https://localhost:8080/",
     "height": 140
    },
    "colab_type": "code",
    "id": "KOO6RkyDwPb2",
    "outputId": "0dfa5eed-9120-4f78-ba67-77668d3caa58"
   },
   "outputs": [
    {
     "data": {
      "text/html": [
       "<div>\n",
       "<style scoped>\n",
       "    .dataframe tbody tr th:only-of-type {\n",
       "        vertical-align: middle;\n",
       "    }\n",
       "\n",
       "    .dataframe tbody tr th {\n",
       "        vertical-align: top;\n",
       "    }\n",
       "\n",
       "    .dataframe thead th {\n",
       "        text-align: right;\n",
       "    }\n",
       "</style>\n",
       "<table border=\"1\" class=\"dataframe\">\n",
       "  <thead>\n",
       "    <tr style=\"text-align: right;\">\n",
       "      <th>Predicted_class</th>\n",
       "      <th>0</th>\n",
       "      <th>1</th>\n",
       "    </tr>\n",
       "    <tr>\n",
       "      <th>True</th>\n",
       "      <th></th>\n",
       "      <th></th>\n",
       "    </tr>\n",
       "  </thead>\n",
       "  <tbody>\n",
       "    <tr>\n",
       "      <th>0</th>\n",
       "      <td>139</td>\n",
       "      <td>124</td>\n",
       "    </tr>\n",
       "    <tr>\n",
       "      <th>1</th>\n",
       "      <td>63</td>\n",
       "      <td>254</td>\n",
       "    </tr>\n",
       "  </tbody>\n",
       "</table>\n",
       "</div>"
      ],
      "text/plain": [
       "Predicted_class    0    1\n",
       "True                     \n",
       "0                139  124\n",
       "1                 63  254"
      ]
     },
     "execution_count": 79,
     "metadata": {
      "tags": []
     },
     "output_type": "execute_result"
    }
   ],
   "source": [
    "pd.crosstab(test_df_lr['True'], test_df_lr['Predicted_class'])"
   ]
  },
  {
   "cell_type": "code",
   "execution_count": 0,
   "metadata": {
    "colab": {},
    "colab_type": "code",
    "id": "zv0YNYrdwPb8"
   },
   "outputs": [],
   "source": []
  },
  {
   "cell_type": "code",
   "execution_count": 81,
   "metadata": {
    "colab": {
     "base_uri": "https://localhost:8080/",
     "height": 184
    },
    "colab_type": "code",
    "id": "JN0nLdt4wPb-",
    "outputId": "ea2ae5f4-5035-49d4-afa9-02b3c47b36ef",
    "scrolled": true
   },
   "outputs": [
    {
     "name": "stdout",
     "output_type": "stream",
     "text": [
      "              precision    recall  f1-score   support\n",
      "\n",
      "           0       0.69      0.53      0.60       263\n",
      "           1       0.67      0.80      0.73       317\n",
      "\n",
      "    accuracy                           0.68       580\n",
      "   macro avg       0.68      0.66      0.66       580\n",
      "weighted avg       0.68      0.68      0.67       580\n",
      "\n",
      "Accuracy: 0.6775862068965517\n"
     ]
    }
   ],
   "source": [
    "print(classification_report(y_test, test_df_lr['Predicted_class']))\n",
    "print(\"Accuracy:\", accuracy_score(y_test, test_df_lr['Predicted_class']))\n"
   ]
  },
  {
   "cell_type": "markdown",
   "metadata": {
    "colab_type": "text",
    "id": "is0JTZjpwPcE"
   },
   "source": [
    "### SVM"
   ]
  },
  {
   "cell_type": "code",
   "execution_count": 82,
   "metadata": {
    "colab": {
     "base_uri": "https://localhost:8080/",
     "height": 84
    },
    "colab_type": "code",
    "id": "C7gg2HltwPcG",
    "outputId": "fbf454c7-ba9b-4466-eeeb-4fe790bfa36c"
   },
   "outputs": [
    {
     "data": {
      "text/plain": [
       "SVC(C=1.0, cache_size=200, class_weight=None, coef0=0.0,\n",
       "    decision_function_shape='ovr', degree=3, gamma='scale', kernel='rbf',\n",
       "    max_iter=-1, probability=False, random_state=None, shrinking=True,\n",
       "    tol=0.001, verbose=False)"
      ]
     },
     "execution_count": 82,
     "metadata": {
      "tags": []
     },
     "output_type": "execute_result"
    }
   ],
   "source": [
    "#Create a svm Classifier\n",
    "clf = svm.SVC(kernel='rbf', gamma='scale')\n",
    "clf.fit(scaled_X_train, y_train)"
   ]
  },
  {
   "cell_type": "code",
   "execution_count": 0,
   "metadata": {
    "colab": {},
    "colab_type": "code",
    "id": "xM2_rWAGwPcK"
   },
   "outputs": [],
   "source": [
    "y_pred = clf.predict(scaled_X_test)"
   ]
  },
  {
   "cell_type": "code",
   "execution_count": 84,
   "metadata": {
    "colab": {
     "base_uri": "https://localhost:8080/",
     "height": 184
    },
    "colab_type": "code",
    "id": "fJ3oio_lwPcM",
    "outputId": "1732663a-eed6-4208-a6ce-21f3d26c22f6"
   },
   "outputs": [
    {
     "name": "stdout",
     "output_type": "stream",
     "text": [
      "              precision    recall  f1-score   support\n",
      "\n",
      "           0       0.76      0.59      0.66       263\n",
      "           1       0.71      0.84      0.77       317\n",
      "\n",
      "    accuracy                           0.73       580\n",
      "   macro avg       0.73      0.72      0.72       580\n",
      "weighted avg       0.73      0.73      0.72       580\n",
      "\n",
      "Accuracy: 0.7275862068965517\n"
     ]
    }
   ],
   "source": [
    "print(classification_report(y_test, y_pred))\n",
    "print(\"Accuracy:\", accuracy_score(y_test, y_pred))\n"
   ]
  },
  {
   "cell_type": "markdown",
   "metadata": {
    "colab_type": "text",
    "id": "3KibdUVHwPcP"
   },
   "source": [
    "### XGBoost"
   ]
  },
  {
   "cell_type": "code",
   "execution_count": 0,
   "metadata": {
    "colab": {},
    "colab_type": "code",
    "id": "N8RMbAoRwPcP"
   },
   "outputs": [],
   "source": [
    "xgb_clf = xgb.XGBClassifier()"
   ]
  },
  {
   "cell_type": "code",
   "execution_count": 86,
   "metadata": {
    "colab": {
     "base_uri": "https://localhost:8080/",
     "height": 134
    },
    "colab_type": "code",
    "id": "9zpTIjyZwPcS",
    "outputId": "e8d0c41c-800f-4e54-a9ff-5084f20fcc18"
   },
   "outputs": [
    {
     "data": {
      "text/plain": [
       "XGBClassifier(base_score=0.5, booster='gbtree', colsample_bylevel=1,\n",
       "              colsample_bynode=1, colsample_bytree=1, gamma=0,\n",
       "              learning_rate=0.1, max_delta_step=0, max_depth=3,\n",
       "              min_child_weight=1, missing=None, n_estimators=100, n_jobs=1,\n",
       "              nthread=None, objective='binary:logistic', random_state=0,\n",
       "              reg_alpha=0, reg_lambda=1, scale_pos_weight=1, seed=None,\n",
       "              silent=None, subsample=1, verbosity=1)"
      ]
     },
     "execution_count": 86,
     "metadata": {
      "tags": []
     },
     "output_type": "execute_result"
    }
   ],
   "source": [
    "xgb_clf.fit(scaled_X_train, y_train)"
   ]
  },
  {
   "cell_type": "code",
   "execution_count": 0,
   "metadata": {
    "colab": {},
    "colab_type": "code",
    "id": "Rr_LQAa8wPcU"
   },
   "outputs": [],
   "source": [
    "pred = xgb_clf.predict(scaled_X_test)"
   ]
  },
  {
   "cell_type": "code",
   "execution_count": 91,
   "metadata": {
    "colab": {
     "base_uri": "https://localhost:8080/",
     "height": 184
    },
    "colab_type": "code",
    "id": "bhfj70O9wPcV",
    "outputId": "299948d8-193c-4c7e-81e5-a4c915668c19"
   },
   "outputs": [
    {
     "name": "stdout",
     "output_type": "stream",
     "text": [
      "              precision    recall  f1-score   support\n",
      "\n",
      "           0       0.74      0.62      0.67       263\n",
      "           1       0.72      0.81      0.77       317\n",
      "\n",
      "    accuracy                           0.73       580\n",
      "   macro avg       0.73      0.72      0.72       580\n",
      "weighted avg       0.73      0.73      0.72       580\n",
      "\n",
      "Accuracy: 0.7275862068965517\n"
     ]
    }
   ],
   "source": [
    "print(classification_report(y_test, pred))\n",
    "print(\"Accuracy:\", accuracy_score(y_test, pred))"
   ]
  },
  {
   "cell_type": "markdown",
   "metadata": {
    "colab_type": "text",
    "id": "Ph-So0bzwPcW"
   },
   "source": [
    "### Random Forest"
   ]
  },
  {
   "cell_type": "code",
   "execution_count": 0,
   "metadata": {
    "colab": {},
    "colab_type": "code",
    "id": "FKK1p_NnwPcX"
   },
   "outputs": [],
   "source": [
    "forest = RandomForestClassifier()\n"
   ]
  },
  {
   "cell_type": "code",
   "execution_count": 93,
   "metadata": {
    "colab": {
     "base_uri": "https://localhost:8080/",
     "height": 134
    },
    "colab_type": "code",
    "id": "y6TPwTX3wPca",
    "outputId": "279aca88-9ae7-4816-c748-e7bdcb38f575"
   },
   "outputs": [
    {
     "data": {
      "text/plain": [
       "RandomForestClassifier(bootstrap=True, class_weight=None, criterion='gini',\n",
       "                       max_depth=None, max_features='auto', max_leaf_nodes=None,\n",
       "                       min_impurity_decrease=0.0, min_impurity_split=None,\n",
       "                       min_samples_leaf=1, min_samples_split=2,\n",
       "                       min_weight_fraction_leaf=0.0, n_estimators=10,\n",
       "                       n_jobs=None, oob_score=False, random_state=None,\n",
       "                       verbose=0, warm_start=False)"
      ]
     },
     "execution_count": 93,
     "metadata": {
      "tags": []
     },
     "output_type": "execute_result"
    }
   ],
   "source": [
    "forest.fit(scaled_X_train, y_train)"
   ]
  },
  {
   "cell_type": "code",
   "execution_count": 0,
   "metadata": {
    "colab": {},
    "colab_type": "code",
    "id": "YUTnrwxrwPcj"
   },
   "outputs": [],
   "source": [
    "pred = forest.predict(scaled_X_test)"
   ]
  },
  {
   "cell_type": "code",
   "execution_count": 96,
   "metadata": {
    "colab": {
     "base_uri": "https://localhost:8080/",
     "height": 184
    },
    "colab_type": "code",
    "id": "Bl2GBJMmwPcn",
    "outputId": "f0d435fd-9d03-4214-edfb-0ee50f51795c"
   },
   "outputs": [
    {
     "name": "stdout",
     "output_type": "stream",
     "text": [
      "              precision    recall  f1-score   support\n",
      "\n",
      "           0       0.60      0.71      0.66       263\n",
      "           1       0.72      0.61      0.66       317\n",
      "\n",
      "    accuracy                           0.66       580\n",
      "   macro avg       0.66      0.66      0.66       580\n",
      "weighted avg       0.67      0.66      0.66       580\n",
      "\n",
      "Accuracy: 0.6586206896551724\n"
     ]
    }
   ],
   "source": [
    "print(classification_report(y_test, pred))\n",
    "print(\"Accuracy:\", accuracy_score(y_test, pred))"
   ]
  },
  {
   "cell_type": "code",
   "execution_count": null,
   "metadata": {},
   "outputs": [],
   "source": []
  }
 ],
 "metadata": {
  "colab": {
   "collapsed_sections": [],
   "name": "Copy of node2vec.ipynb",
   "provenance": []
  },
  "kernelspec": {
   "display_name": "Python 3",
   "language": "python",
   "name": "python3"
  },
  "language_info": {
   "codemirror_mode": {
    "name": "ipython",
    "version": 3
   },
   "file_extension": ".py",
   "mimetype": "text/x-python",
   "name": "python",
   "nbconvert_exporter": "python",
   "pygments_lexer": "ipython3",
   "version": "3.6.9"
  }
 },
 "nbformat": 4,
 "nbformat_minor": 1
}
