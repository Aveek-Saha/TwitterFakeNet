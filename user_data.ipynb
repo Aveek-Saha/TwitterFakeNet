{
 "cells": [
  {
   "cell_type": "code",
   "execution_count": 1,
   "metadata": {},
   "outputs": [],
   "source": [
    "import json\n",
    "import os\n",
    "import glob\n",
    "import pprint\n",
    "from tqdm import tqdm\n",
    "from collections import Counter\n",
    "\n",
    "import pandas as pd\n",
    "import matplotlib.pyplot as plt"
   ]
  },
  {
   "cell_type": "code",
   "execution_count": 36,
   "metadata": {},
   "outputs": [],
   "source": [
    "df = pd.read_csv(\"datasets/verified.dat\")"
   ]
  },
  {
   "cell_type": "code",
   "execution_count": 37,
   "metadata": {},
   "outputs": [
    {
     "name": "stdout",
     "output_type": "stream",
     "text": [
      "<class 'pandas.core.frame.DataFrame'>\n",
      "RangeIndex: 384494 entries, 0 to 384493\n",
      "Data columns (total 14 columns):\n",
      " #   Column           Non-Null Count   Dtype \n",
      "---  ------           --------------   ----- \n",
      " 0   #ID              384494 non-null  int64 \n",
      " 1   ScreenName       384493 non-null  object\n",
      " 2   Protected        384494 non-null  bool  \n",
      " 3   Verified         384494 non-null  bool  \n",
      " 4   FriendsCount     384494 non-null  int64 \n",
      " 5   FollowersCount   384494 non-null  int64 \n",
      " 6   ListedCount      384494 non-null  int64 \n",
      " 7   StatusesCount    384494 non-null  int64 \n",
      " 8   CreatedAt        384494 non-null  object\n",
      " 9   URL              384465 non-null  object\n",
      " 10  ProfileImageURL  384485 non-null  object\n",
      " 11  Location         311171 non-null  object\n",
      " 12  Relation         384494 non-null  object\n",
      " 13  Subject          384494 non-null  object\n",
      "dtypes: bool(2), int64(5), object(7)\n",
      "memory usage: 35.9+ MB\n"
     ]
    }
   ],
   "source": [
    "# df = df[df['friends_count'] <= 1000]\n",
    "df.info()"
   ]
  },
  {
   "cell_type": "code",
   "execution_count": 38,
   "metadata": {},
   "outputs": [
    {
     "data": {
      "text/html": [
       "<div>\n",
       "<style scoped>\n",
       "    .dataframe tbody tr th:only-of-type {\n",
       "        vertical-align: middle;\n",
       "    }\n",
       "\n",
       "    .dataframe tbody tr th {\n",
       "        vertical-align: top;\n",
       "    }\n",
       "\n",
       "    .dataframe thead th {\n",
       "        text-align: right;\n",
       "    }\n",
       "</style>\n",
       "<table border=\"1\" class=\"dataframe\">\n",
       "  <thead>\n",
       "    <tr style=\"text-align: right;\">\n",
       "      <th></th>\n",
       "      <th>#ID</th>\n",
       "      <th>ScreenName</th>\n",
       "      <th>Protected</th>\n",
       "      <th>Verified</th>\n",
       "      <th>FriendsCount</th>\n",
       "      <th>FollowersCount</th>\n",
       "      <th>ListedCount</th>\n",
       "      <th>StatusesCount</th>\n",
       "      <th>CreatedAt</th>\n",
       "      <th>URL</th>\n",
       "      <th>ProfileImageURL</th>\n",
       "      <th>Location</th>\n",
       "      <th>Relation</th>\n",
       "      <th>Subject</th>\n",
       "    </tr>\n",
       "  </thead>\n",
       "  <tbody>\n",
       "    <tr>\n",
       "      <th>0</th>\n",
       "      <td>490843992</td>\n",
       "      <td>ruaridh_langan</td>\n",
       "      <td>False</td>\n",
       "      <td>True</td>\n",
       "      <td>668</td>\n",
       "      <td>759</td>\n",
       "      <td>4</td>\n",
       "      <td>953</td>\n",
       "      <td>Sun Feb 12 23:51:19 +0000 2012</td>\n",
       "      <td>NaN</td>\n",
       "      <td>http://pbs.twimg.com/profile_images/1439567595...</td>\n",
       "      <td>Scotland, United Kingdom</td>\n",
       "      <td>friends</td>\n",
       "      <td>verified</td>\n",
       "    </tr>\n",
       "    <tr>\n",
       "      <th>1</th>\n",
       "      <td>2216668776</td>\n",
       "      <td>janelle_cpp</td>\n",
       "      <td>False</td>\n",
       "      <td>True</td>\n",
       "      <td>3486</td>\n",
       "      <td>2536</td>\n",
       "      <td>29</td>\n",
       "      <td>17464</td>\n",
       "      <td>Tue Nov 26 22:43:08 +0000 2013</td>\n",
       "      <td>https://t.co/282UrLP38b</td>\n",
       "      <td>http://pbs.twimg.com/profile_images/1427197677...</td>\n",
       "      <td>stolen patwin/yokut land</td>\n",
       "      <td>friends</td>\n",
       "      <td>verified</td>\n",
       "    </tr>\n",
       "    <tr>\n",
       "      <th>2</th>\n",
       "      <td>363373418</td>\n",
       "      <td>archiliciouz</td>\n",
       "      <td>False</td>\n",
       "      <td>True</td>\n",
       "      <td>753</td>\n",
       "      <td>5558</td>\n",
       "      <td>22</td>\n",
       "      <td>8732</td>\n",
       "      <td>Sun Aug 28 00:12:47 +0000 2011</td>\n",
       "      <td>https://t.co/qOXXAaoxIN</td>\n",
       "      <td>http://pbs.twimg.com/profile_images/1426328390...</td>\n",
       "      <td>Ukraine, Kyiv</td>\n",
       "      <td>friends</td>\n",
       "      <td>verified</td>\n",
       "    </tr>\n",
       "    <tr>\n",
       "      <th>3</th>\n",
       "      <td>3356306397</td>\n",
       "      <td>JakobLazzaro</td>\n",
       "      <td>False</td>\n",
       "      <td>True</td>\n",
       "      <td>261</td>\n",
       "      <td>269</td>\n",
       "      <td>13</td>\n",
       "      <td>2458</td>\n",
       "      <td>Fri Jul 03 06:40:34 +0000 2015</td>\n",
       "      <td>https://t.co/pbC2S0oXDU</td>\n",
       "      <td>http://pbs.twimg.com/profile_images/1181214533...</td>\n",
       "      <td>South Bend, IN</td>\n",
       "      <td>friends</td>\n",
       "      <td>verified</td>\n",
       "    </tr>\n",
       "    <tr>\n",
       "      <th>4</th>\n",
       "      <td>208046707</td>\n",
       "      <td>ArifAltunkaynak</td>\n",
       "      <td>False</td>\n",
       "      <td>True</td>\n",
       "      <td>455</td>\n",
       "      <td>2671</td>\n",
       "      <td>10</td>\n",
       "      <td>4325</td>\n",
       "      <td>Tue Oct 26 14:41:19 +0000 2010</td>\n",
       "      <td>https://t.co/4OOrdBj3gv</td>\n",
       "      <td>http://pbs.twimg.com/profile_images/3788000004...</td>\n",
       "      <td>Nusaybin, Türkiye</td>\n",
       "      <td>friends</td>\n",
       "      <td>verified</td>\n",
       "    </tr>\n",
       "  </tbody>\n",
       "</table>\n",
       "</div>"
      ],
      "text/plain": [
       "          #ID       ScreenName  Protected  Verified  FriendsCount  \\\n",
       "0   490843992   ruaridh_langan      False      True           668   \n",
       "1  2216668776      janelle_cpp      False      True          3486   \n",
       "2   363373418     archiliciouz      False      True           753   \n",
       "3  3356306397     JakobLazzaro      False      True           261   \n",
       "4   208046707  ArifAltunkaynak      False      True           455   \n",
       "\n",
       "   FollowersCount  ListedCount  StatusesCount                       CreatedAt  \\\n",
       "0             759            4            953  Sun Feb 12 23:51:19 +0000 2012   \n",
       "1            2536           29          17464  Tue Nov 26 22:43:08 +0000 2013   \n",
       "2            5558           22           8732  Sun Aug 28 00:12:47 +0000 2011   \n",
       "3             269           13           2458  Fri Jul 03 06:40:34 +0000 2015   \n",
       "4            2671           10           4325  Tue Oct 26 14:41:19 +0000 2010   \n",
       "\n",
       "                       URL                                    ProfileImageURL  \\\n",
       "0                      NaN  http://pbs.twimg.com/profile_images/1439567595...   \n",
       "1  https://t.co/282UrLP38b  http://pbs.twimg.com/profile_images/1427197677...   \n",
       "2  https://t.co/qOXXAaoxIN  http://pbs.twimg.com/profile_images/1426328390...   \n",
       "3  https://t.co/pbC2S0oXDU  http://pbs.twimg.com/profile_images/1181214533...   \n",
       "4  https://t.co/4OOrdBj3gv  http://pbs.twimg.com/profile_images/3788000004...   \n",
       "\n",
       "                   Location Relation   Subject  \n",
       "0  Scotland, United Kingdom  friends  verified  \n",
       "1  stolen patwin/yokut land  friends  verified  \n",
       "2            Ukraine, Kyiv   friends  verified  \n",
       "3            South Bend, IN  friends  verified  \n",
       "4         Nusaybin, Türkiye  friends  verified  "
      ]
     },
     "execution_count": 38,
     "metadata": {},
     "output_type": "execute_result"
    }
   ],
   "source": [
    "df.head()"
   ]
  },
  {
   "cell_type": "code",
   "execution_count": 5,
   "metadata": {},
   "outputs": [],
   "source": [
    "# df[df['FriendsCount'] < 5000].info()"
   ]
  },
  {
   "cell_type": "markdown",
   "metadata": {},
   "source": [
    "### Dict structure    \n",
    "uid:{\n",
    "    \n",
    "    uid: 123,\n",
    "    name: '',\n",
    "    friends_count: 0,\n",
    "    followers_count: 0,\n",
    "    listed_count: 0,\n",
    "    statuses_count: 0,\n",
    "    pf_fake: 0,\n",
    "    pf_real: 0,\n",
    "    gc_fake: 0,\n",
    "    gc_real: 0,\n",
    "    description: '',\n",
    "    tweets: []\n",
    "\n",
    "}"
   ]
  },
  {
   "cell_type": "code",
   "execution_count": 6,
   "metadata": {},
   "outputs": [],
   "source": [
    "ids = list(df['#ID'])"
   ]
  },
  {
   "cell_type": "code",
   "execution_count": 17,
   "metadata": {},
   "outputs": [],
   "source": [
    "users = {}\n",
    "\n",
    "for i in ids:\n",
    "    \n",
    "    users[i] = {\n",
    "        'uid': i,\n",
    "        'pf_fake': 0,\n",
    "        'pf_real': 0,\n",
    "        'gc_fake': 0,\n",
    "        'gc_real': 0,\n",
    "        'description': '',\n",
    "        'tweets': []\n",
    "    }"
   ]
  },
  {
   "cell_type": "code",
   "execution_count": 18,
   "metadata": {},
   "outputs": [
    {
     "data": {
      "text/plain": [
       "384494"
      ]
     },
     "execution_count": 18,
     "metadata": {},
     "output_type": "execute_result"
    }
   ],
   "source": [
    "len(users)"
   ]
  },
  {
   "cell_type": "code",
   "execution_count": 19,
   "metadata": {},
   "outputs": [],
   "source": [
    "user_dict = users"
   ]
  },
  {
   "cell_type": "code",
   "execution_count": 20,
   "metadata": {},
   "outputs": [],
   "source": [
    "dataset_path = \"../FakeNewsNet/code/fakenewsnet_dataset\""
   ]
  },
  {
   "cell_type": "markdown",
   "metadata": {},
   "source": [
    "## PolitiFact"
   ]
  },
  {
   "cell_type": "markdown",
   "metadata": {},
   "source": [
    "### Fake Tweets & Retweets"
   ]
  },
  {
   "cell_type": "code",
   "execution_count": 21,
   "metadata": {},
   "outputs": [
    {
     "name": "stderr",
     "output_type": "stream",
     "text": [
      "113868it [11:42, 162.07it/s]\n"
     ]
    }
   ],
   "source": [
    "files = glob.iglob(f\"../FakeNewsNet/code/fakenewsnet_dataset/politifact/fake/*/tweets/*.json\")\n",
    "\n",
    "# Expected number of files ~ 143000\n",
    "\n",
    "for file in tqdm(files):\n",
    "    with open(file, encoding='utf-8', mode='r') as currentFile:\n",
    "        data = json.load(currentFile)\n",
    "        tweet = data['text']\n",
    "        des = data['user']['description']\n",
    "        user_id = data['user']['id']\n",
    "        \n",
    "    \n",
    "        if user_id in user_dict:\n",
    "            user_dict[user_id]['pf_fake']+=1\n",
    "            user_dict[user_id]['description'] = des\n",
    "            user_dict[user_id]['tweets'].append(tweet)"
   ]
  },
  {
   "cell_type": "code",
   "execution_count": 22,
   "metadata": {},
   "outputs": [
    {
     "name": "stderr",
     "output_type": "stream",
     "text": [
      "2700it [00:03, 741.00it/s]\n"
     ]
    }
   ],
   "source": [
    "files_rt = glob.iglob(f\"../FakeNewsNet/code/fakenewsnet_dataset/politifact/fake/*/retweets/*.json\")\n",
    "\n",
    "# Expected number of files ~ 2400\n",
    "\n",
    "for file in tqdm(files_rt):\n",
    "    with open(file, encoding='utf-8', mode='r') as currentFile:\n",
    "        data = json.load(currentFile)\n",
    "        for d in data['retweets']:\n",
    "            tweet = d['text']\n",
    "            des = d['user']['description']\n",
    "            user_id = d['user']['id']\n",
    "\n",
    "\n",
    "            if user_id in user_dict:\n",
    "                user_dict[user_id]['pf_fake']+=1\n",
    "                user_dict[user_id]['description'] = des\n",
    "                user_dict[user_id]['tweets'].append(tweet)"
   ]
  },
  {
   "cell_type": "markdown",
   "metadata": {},
   "source": [
    "### Real Tweets & Retweets"
   ]
  },
  {
   "cell_type": "code",
   "execution_count": 23,
   "metadata": {},
   "outputs": [
    {
     "name": "stderr",
     "output_type": "stream",
     "text": [
      "310135it [29:39, 174.25it/s]\n"
     ]
    }
   ],
   "source": [
    "files = glob.iglob(f\"../FakeNewsNet/code/fakenewsnet_dataset/politifact/real/*/tweets/*.json\")\n",
    "\n",
    "# Expected number of files ~ 362000\n",
    "\n",
    "for file in tqdm(files):\n",
    "    with open(file, encoding='utf-8', mode='r') as currentFile:\n",
    "        data = json.load(currentFile)\n",
    "        tweet = data['text']\n",
    "        des = data['user']['description']\n",
    "        user_id = data['user']['id']\n",
    "        \n",
    "    \n",
    "        if user_id in user_dict:\n",
    "            user_dict[user_id]['pf_real']+=1\n",
    "            user_dict[user_id]['description'] = des\n",
    "            user_dict[user_id]['tweets'].append(tweet)\n",
    "            "
   ]
  },
  {
   "cell_type": "code",
   "execution_count": 24,
   "metadata": {},
   "outputs": [
    {
     "name": "stderr",
     "output_type": "stream",
     "text": [
      "0it [00:00, ?it/s]\n"
     ]
    }
   ],
   "source": [
    "files_rt = glob.iglob(f\"../FakeNewsNet/code/fakenewsnet_dataset/politifact/real/*/retweets/*.json\")\n",
    "\n",
    "# Expected number of files ~ 0\n",
    "\n",
    "for file in tqdm(files_rt):\n",
    "    with open(file, encoding='utf-8', mode='r') as currentFile:\n",
    "        data = json.load(currentFile)\n",
    "        for d in data['retweets']:\n",
    "            tweet = d['text']\n",
    "            des = d['user']['description']\n",
    "            user_id = d['user']['id']\n",
    "\n",
    "\n",
    "            if user_id in user_dict:\n",
    "                user_dict[user_id]['pf_real']+=1\n",
    "                user_dict[user_id]['description'] = des\n",
    "                user_dict[user_id]['tweets'].append(tweet)"
   ]
  },
  {
   "cell_type": "markdown",
   "metadata": {},
   "source": [
    "## GossipCop"
   ]
  },
  {
   "cell_type": "markdown",
   "metadata": {},
   "source": [
    "### Fake Tweets & Retweets"
   ]
  },
  {
   "cell_type": "code",
   "execution_count": 25,
   "metadata": {},
   "outputs": [
    {
     "name": "stderr",
     "output_type": "stream",
     "text": [
      "452352it [43:03, 175.08it/s]\n"
     ]
    }
   ],
   "source": [
    "files = glob.iglob(f\"../FakeNewsNet/code/fakenewsnet_dataset/gossipcop/fake/*/tweets/*.json\")\n",
    "\n",
    "# Expected number of files ~ 524000\n",
    "\n",
    "for file in tqdm(files):\n",
    "    with open(file, encoding='utf-8', mode='r') as currentFile:\n",
    "        data = json.load(currentFile)\n",
    "        tweet = data['text']\n",
    "        des = data['user']['description']\n",
    "        user_id = data['user']['id']\n",
    "        \n",
    "    \n",
    "        if user_id in user_dict:\n",
    "            user_dict[user_id]['gc_fake']+=1\n",
    "            user_dict[user_id]['description'] = des\n",
    "            user_dict[user_id]['tweets'].append(tweet)\n",
    "            "
   ]
  },
  {
   "cell_type": "code",
   "execution_count": 27,
   "metadata": {},
   "outputs": [
    {
     "name": "stderr",
     "output_type": "stream",
     "text": [
      "0it [00:00, ?it/s]\n"
     ]
    }
   ],
   "source": [
    "files_rt = glob.iglob(f\"../FakeNewsNet/code/fakenewsnet_dataset/gossipcop/fake/*/retweets/*.json\")\n",
    "\n",
    "# Expected number of files ~ 0\n",
    "\n",
    "for file in tqdm(files_rt):\n",
    "    with open(file, encoding='utf-8', mode='r') as currentFile:\n",
    "        data = json.load(currentFile)\n",
    "        for d in data['retweets']:\n",
    "            tweet = d['text']\n",
    "            des = d['user']['description']\n",
    "            user_id = d['user']['id']\n",
    "\n",
    "\n",
    "            if user_id in user_dict:\n",
    "                user_dict[user_id]['gc_fake']+=1\n",
    "                user_dict[user_id]['description'] = des\n",
    "                user_dict[user_id]['tweets'].append(tweet)\n"
   ]
  },
  {
   "cell_type": "markdown",
   "metadata": {},
   "source": [
    "### Real Tweets & Retweets"
   ]
  },
  {
   "cell_type": "code",
   "execution_count": 28,
   "metadata": {},
   "outputs": [
    {
     "name": "stderr",
     "output_type": "stream",
     "text": [
      "755975it [1:09:45, 180.62it/s]\n"
     ]
    }
   ],
   "source": [
    "files = glob.iglob(f\"../FakeNewsNet/code/fakenewsnet_dataset/gossipcop/real/*/tweets/*.json\")\n",
    "\n",
    "# Expected number of files ~ 815000\n",
    "\n",
    "for file in tqdm(files):\n",
    "    with open(file, encoding='utf-8', mode='r') as currentFile:\n",
    "        data = json.load(currentFile)\n",
    "        tweet = data['text']\n",
    "        des = data['user']['description']\n",
    "        user_id = data['user']['id']\n",
    "        \n",
    "    \n",
    "        if user_id in user_dict:\n",
    "            user_dict[user_id]['gc_real']+=1\n",
    "            user_dict[user_id]['description'] = des\n",
    "            user_dict[user_id]['tweets'].append(tweet)\n"
   ]
  },
  {
   "cell_type": "code",
   "execution_count": 29,
   "metadata": {},
   "outputs": [
    {
     "name": "stderr",
     "output_type": "stream",
     "text": [
      "0it [00:00, ?it/s]\n"
     ]
    }
   ],
   "source": [
    "files = glob.iglob(f\"../FakeNewsNet/code/fakenewsnet_dataset/gossipcop/real/*/retweets/*.json\")\n",
    "\n",
    "# Expected number of files ~ \n",
    "\n",
    "for file in tqdm(files):\n",
    "    with open(file, encoding='utf-8', mode='r') as currentFile:\n",
    "        data = json.load(currentFile)\n",
    "        for d in data['retweets']:\n",
    "            tweet = d['text']\n",
    "            des = d['user']['description']\n",
    "            user_id = d['user']['id']\n",
    "        \n",
    "    \n",
    "            if user_id in user_dict:\n",
    "                user_dict[user_id]['gc_real']+=1\n",
    "                user_dict[user_id]['description'] = des\n",
    "                user_dict[user_id]['tweets'].append(tweet)"
   ]
  },
  {
   "cell_type": "markdown",
   "metadata": {},
   "source": [
    "## Create Dataset"
   ]
  },
  {
   "cell_type": "code",
   "execution_count": 30,
   "metadata": {},
   "outputs": [],
   "source": [
    "list_of_lists = []\n",
    "\n",
    "for user_id in user_dict:\n",
    "    gc_fake = user_dict[user_id]['gc_fake']\n",
    "    gc_real = user_dict[user_id]['gc_real']\n",
    "    pf_fake = user_dict[user_id]['pf_fake']\n",
    "    pf_real = user_dict[user_id]['pf_real']\n",
    "    des = user_dict[user_id]['description']\n",
    "    tweets = \"^\".join(user_dict[user_id]['tweets'])\n",
    "    \n",
    "    list_of_lists.append([user_id, pf_fake, pf_real, gc_fake, gc_real, des, tweets])\n"
   ]
  },
  {
   "cell_type": "code",
   "execution_count": 31,
   "metadata": {},
   "outputs": [],
   "source": [
    "df_tw = pd.DataFrame(list_of_lists, columns=[\"uid\", 'pf_fake','pf_real','gc_fake','gc_real', 'description', 'tweets'])"
   ]
  },
  {
   "cell_type": "code",
   "execution_count": 32,
   "metadata": {},
   "outputs": [
    {
     "data": {
      "text/html": [
       "<div>\n",
       "<style scoped>\n",
       "    .dataframe tbody tr th:only-of-type {\n",
       "        vertical-align: middle;\n",
       "    }\n",
       "\n",
       "    .dataframe tbody tr th {\n",
       "        vertical-align: top;\n",
       "    }\n",
       "\n",
       "    .dataframe thead th {\n",
       "        text-align: right;\n",
       "    }\n",
       "</style>\n",
       "<table border=\"1\" class=\"dataframe\">\n",
       "  <thead>\n",
       "    <tr style=\"text-align: right;\">\n",
       "      <th></th>\n",
       "      <th>uid</th>\n",
       "      <th>pf_fake</th>\n",
       "      <th>pf_real</th>\n",
       "      <th>gc_fake</th>\n",
       "      <th>gc_real</th>\n",
       "      <th>description</th>\n",
       "      <th>tweets</th>\n",
       "    </tr>\n",
       "  </thead>\n",
       "  <tbody>\n",
       "    <tr>\n",
       "      <th>0</th>\n",
       "      <td>490843992</td>\n",
       "      <td>0</td>\n",
       "      <td>0</td>\n",
       "      <td>0</td>\n",
       "      <td>0</td>\n",
       "      <td></td>\n",
       "      <td></td>\n",
       "    </tr>\n",
       "    <tr>\n",
       "      <th>1</th>\n",
       "      <td>2216668776</td>\n",
       "      <td>0</td>\n",
       "      <td>0</td>\n",
       "      <td>0</td>\n",
       "      <td>0</td>\n",
       "      <td></td>\n",
       "      <td></td>\n",
       "    </tr>\n",
       "    <tr>\n",
       "      <th>2</th>\n",
       "      <td>363373418</td>\n",
       "      <td>0</td>\n",
       "      <td>0</td>\n",
       "      <td>0</td>\n",
       "      <td>0</td>\n",
       "      <td></td>\n",
       "      <td></td>\n",
       "    </tr>\n",
       "    <tr>\n",
       "      <th>3</th>\n",
       "      <td>3356306397</td>\n",
       "      <td>0</td>\n",
       "      <td>0</td>\n",
       "      <td>0</td>\n",
       "      <td>0</td>\n",
       "      <td></td>\n",
       "      <td></td>\n",
       "    </tr>\n",
       "    <tr>\n",
       "      <th>4</th>\n",
       "      <td>208046707</td>\n",
       "      <td>0</td>\n",
       "      <td>0</td>\n",
       "      <td>0</td>\n",
       "      <td>0</td>\n",
       "      <td></td>\n",
       "      <td></td>\n",
       "    </tr>\n",
       "  </tbody>\n",
       "</table>\n",
       "</div>"
      ],
      "text/plain": [
       "          uid  pf_fake  pf_real  gc_fake  gc_real description tweets\n",
       "0   490843992        0        0        0        0                   \n",
       "1  2216668776        0        0        0        0                   \n",
       "2   363373418        0        0        0        0                   \n",
       "3  3356306397        0        0        0        0                   \n",
       "4   208046707        0        0        0        0                   "
      ]
     },
     "execution_count": 32,
     "metadata": {},
     "output_type": "execute_result"
    }
   ],
   "source": [
    "df_tw.head()"
   ]
  },
  {
   "cell_type": "markdown",
   "metadata": {},
   "source": [
    "Drop useless columns"
   ]
  },
  {
   "cell_type": "code",
   "execution_count": 44,
   "metadata": {},
   "outputs": [],
   "source": [
    "df.drop(['Protected', 'CreatedAt', 'URL', 'ProfileImageURL', 'Location', 'Subject', 'Relation', 'Verified'], axis=1, inplace=True)"
   ]
  },
  {
   "cell_type": "code",
   "execution_count": 45,
   "metadata": {},
   "outputs": [
    {
     "name": "stdout",
     "output_type": "stream",
     "text": [
      "<class 'pandas.core.frame.DataFrame'>\n",
      "RangeIndex: 384494 entries, 0 to 384493\n",
      "Data columns (total 6 columns):\n",
      " #   Column          Non-Null Count   Dtype \n",
      "---  ------          --------------   ----- \n",
      " 0   #ID             384494 non-null  int64 \n",
      " 1   ScreenName      384493 non-null  object\n",
      " 2   FriendsCount    384494 non-null  int64 \n",
      " 3   FollowersCount  384494 non-null  int64 \n",
      " 4   ListedCount     384494 non-null  int64 \n",
      " 5   StatusesCount   384494 non-null  int64 \n",
      "dtypes: int64(5), object(1)\n",
      "memory usage: 17.6+ MB\n"
     ]
    }
   ],
   "source": [
    "df.info()"
   ]
  },
  {
   "cell_type": "code",
   "execution_count": 41,
   "metadata": {},
   "outputs": [
    {
     "name": "stdout",
     "output_type": "stream",
     "text": [
      "<class 'pandas.core.frame.DataFrame'>\n",
      "RangeIndex: 384494 entries, 0 to 384493\n",
      "Data columns (total 7 columns):\n",
      " #   Column       Non-Null Count   Dtype \n",
      "---  ------       --------------   ----- \n",
      " 0   uid          384494 non-null  int64 \n",
      " 1   pf_fake      384494 non-null  int64 \n",
      " 2   pf_real      384494 non-null  int64 \n",
      " 3   gc_fake      384494 non-null  int64 \n",
      " 4   gc_real      384494 non-null  int64 \n",
      " 5   description  384494 non-null  object\n",
      " 6   tweets       384494 non-null  object\n",
      "dtypes: int64(5), object(2)\n",
      "memory usage: 20.5+ MB\n"
     ]
    }
   ],
   "source": [
    "df_tw.info()"
   ]
  },
  {
   "cell_type": "code",
   "execution_count": 46,
   "metadata": {},
   "outputs": [],
   "source": [
    "df_feat = df.merge(df_tw, how='inner', left_on='#ID', right_on='uid')"
   ]
  },
  {
   "cell_type": "code",
   "execution_count": 47,
   "metadata": {},
   "outputs": [
    {
     "name": "stdout",
     "output_type": "stream",
     "text": [
      "<class 'pandas.core.frame.DataFrame'>\n",
      "Int64Index: 384494 entries, 0 to 384493\n",
      "Data columns (total 13 columns):\n",
      " #   Column          Non-Null Count   Dtype \n",
      "---  ------          --------------   ----- \n",
      " 0   #ID             384494 non-null  int64 \n",
      " 1   ScreenName      384493 non-null  object\n",
      " 2   FriendsCount    384494 non-null  int64 \n",
      " 3   FollowersCount  384494 non-null  int64 \n",
      " 4   ListedCount     384494 non-null  int64 \n",
      " 5   StatusesCount   384494 non-null  int64 \n",
      " 6   uid             384494 non-null  int64 \n",
      " 7   pf_fake         384494 non-null  int64 \n",
      " 8   pf_real         384494 non-null  int64 \n",
      " 9   gc_fake         384494 non-null  int64 \n",
      " 10  gc_real         384494 non-null  int64 \n",
      " 11  description     384494 non-null  object\n",
      " 12  tweets          384494 non-null  object\n",
      "dtypes: int64(10), object(3)\n",
      "memory usage: 41.1+ MB\n"
     ]
    }
   ],
   "source": [
    "df_feat.info()"
   ]
  },
  {
   "cell_type": "code",
   "execution_count": 48,
   "metadata": {},
   "outputs": [
    {
     "data": {
      "text/html": [
       "<div>\n",
       "<style scoped>\n",
       "    .dataframe tbody tr th:only-of-type {\n",
       "        vertical-align: middle;\n",
       "    }\n",
       "\n",
       "    .dataframe tbody tr th {\n",
       "        vertical-align: top;\n",
       "    }\n",
       "\n",
       "    .dataframe thead th {\n",
       "        text-align: right;\n",
       "    }\n",
       "</style>\n",
       "<table border=\"1\" class=\"dataframe\">\n",
       "  <thead>\n",
       "    <tr style=\"text-align: right;\">\n",
       "      <th></th>\n",
       "      <th>#ID</th>\n",
       "      <th>ScreenName</th>\n",
       "      <th>FriendsCount</th>\n",
       "      <th>FollowersCount</th>\n",
       "      <th>ListedCount</th>\n",
       "      <th>StatusesCount</th>\n",
       "      <th>uid</th>\n",
       "      <th>pf_fake</th>\n",
       "      <th>pf_real</th>\n",
       "      <th>gc_fake</th>\n",
       "      <th>gc_real</th>\n",
       "      <th>description</th>\n",
       "      <th>tweets</th>\n",
       "    </tr>\n",
       "  </thead>\n",
       "  <tbody>\n",
       "    <tr>\n",
       "      <th>0</th>\n",
       "      <td>490843992</td>\n",
       "      <td>ruaridh_langan</td>\n",
       "      <td>668</td>\n",
       "      <td>759</td>\n",
       "      <td>4</td>\n",
       "      <td>953</td>\n",
       "      <td>490843992</td>\n",
       "      <td>0</td>\n",
       "      <td>0</td>\n",
       "      <td>0</td>\n",
       "      <td>0</td>\n",
       "      <td></td>\n",
       "      <td></td>\n",
       "    </tr>\n",
       "    <tr>\n",
       "      <th>1</th>\n",
       "      <td>2216668776</td>\n",
       "      <td>janelle_cpp</td>\n",
       "      <td>3486</td>\n",
       "      <td>2536</td>\n",
       "      <td>29</td>\n",
       "      <td>17464</td>\n",
       "      <td>2216668776</td>\n",
       "      <td>0</td>\n",
       "      <td>0</td>\n",
       "      <td>0</td>\n",
       "      <td>0</td>\n",
       "      <td></td>\n",
       "      <td></td>\n",
       "    </tr>\n",
       "    <tr>\n",
       "      <th>2</th>\n",
       "      <td>363373418</td>\n",
       "      <td>archiliciouz</td>\n",
       "      <td>753</td>\n",
       "      <td>5558</td>\n",
       "      <td>22</td>\n",
       "      <td>8732</td>\n",
       "      <td>363373418</td>\n",
       "      <td>0</td>\n",
       "      <td>0</td>\n",
       "      <td>0</td>\n",
       "      <td>0</td>\n",
       "      <td></td>\n",
       "      <td></td>\n",
       "    </tr>\n",
       "    <tr>\n",
       "      <th>3</th>\n",
       "      <td>3356306397</td>\n",
       "      <td>JakobLazzaro</td>\n",
       "      <td>261</td>\n",
       "      <td>269</td>\n",
       "      <td>13</td>\n",
       "      <td>2458</td>\n",
       "      <td>3356306397</td>\n",
       "      <td>0</td>\n",
       "      <td>0</td>\n",
       "      <td>0</td>\n",
       "      <td>0</td>\n",
       "      <td></td>\n",
       "      <td></td>\n",
       "    </tr>\n",
       "    <tr>\n",
       "      <th>4</th>\n",
       "      <td>208046707</td>\n",
       "      <td>ArifAltunkaynak</td>\n",
       "      <td>455</td>\n",
       "      <td>2671</td>\n",
       "      <td>10</td>\n",
       "      <td>4325</td>\n",
       "      <td>208046707</td>\n",
       "      <td>0</td>\n",
       "      <td>0</td>\n",
       "      <td>0</td>\n",
       "      <td>0</td>\n",
       "      <td></td>\n",
       "      <td></td>\n",
       "    </tr>\n",
       "  </tbody>\n",
       "</table>\n",
       "</div>"
      ],
      "text/plain": [
       "          #ID       ScreenName  FriendsCount  FollowersCount  ListedCount  \\\n",
       "0   490843992   ruaridh_langan           668             759            4   \n",
       "1  2216668776      janelle_cpp          3486            2536           29   \n",
       "2   363373418     archiliciouz           753            5558           22   \n",
       "3  3356306397     JakobLazzaro           261             269           13   \n",
       "4   208046707  ArifAltunkaynak           455            2671           10   \n",
       "\n",
       "   StatusesCount         uid  pf_fake  pf_real  gc_fake  gc_real description  \\\n",
       "0            953   490843992        0        0        0        0               \n",
       "1          17464  2216668776        0        0        0        0               \n",
       "2           8732   363373418        0        0        0        0               \n",
       "3           2458  3356306397        0        0        0        0               \n",
       "4           4325   208046707        0        0        0        0               \n",
       "\n",
       "  tweets  \n",
       "0         \n",
       "1         \n",
       "2         \n",
       "3         \n",
       "4         "
      ]
     },
     "execution_count": 48,
     "metadata": {},
     "output_type": "execute_result"
    }
   ],
   "source": [
    "df_feat.head()"
   ]
  },
  {
   "cell_type": "code",
   "execution_count": 49,
   "metadata": {},
   "outputs": [],
   "source": [
    "df_feat['total_fake'] = df_feat['pf_fake'] + df_feat['gc_fake']\n",
    "df_feat['total_real'] = df_feat['pf_real'] + df_feat['gc_real']\n",
    "\n",
    "df_feat['net_trust'] = df_feat['total_real'] - df_feat['total_fake']\n",
    "\n",
    "df_feat['total_news'] = df_feat['total_real'] + df_feat['total_fake']\n",
    "df_feat['fake_prob'] = df_feat['total_fake'] / df_feat['total_news']\n",
    "\n",
    "df_feat['net_trust_norm'] = df_feat['net_trust']/df_feat['total_news']"
   ]
  },
  {
   "cell_type": "code",
   "execution_count": 50,
   "metadata": {},
   "outputs": [],
   "source": [
    "df_feat['fake'] = [1 if x >= 0.5 else 0 if x < 0.5 else 2 for x in df_feat['fake_prob']]"
   ]
  },
  {
   "cell_type": "code",
   "execution_count": 51,
   "metadata": {},
   "outputs": [
    {
     "name": "stdout",
     "output_type": "stream",
     "text": [
      "<class 'pandas.core.frame.DataFrame'>\n",
      "Int64Index: 384494 entries, 0 to 384493\n",
      "Data columns (total 20 columns):\n",
      " #   Column          Non-Null Count   Dtype  \n",
      "---  ------          --------------   -----  \n",
      " 0   #ID             384494 non-null  int64  \n",
      " 1   ScreenName      384493 non-null  object \n",
      " 2   FriendsCount    384494 non-null  int64  \n",
      " 3   FollowersCount  384494 non-null  int64  \n",
      " 4   ListedCount     384494 non-null  int64  \n",
      " 5   StatusesCount   384494 non-null  int64  \n",
      " 6   uid             384494 non-null  int64  \n",
      " 7   pf_fake         384494 non-null  int64  \n",
      " 8   pf_real         384494 non-null  int64  \n",
      " 9   gc_fake         384494 non-null  int64  \n",
      " 10  gc_real         384494 non-null  int64  \n",
      " 11  description     384494 non-null  object \n",
      " 12  tweets          384494 non-null  object \n",
      " 13  total_fake      384494 non-null  int64  \n",
      " 14  total_real      384494 non-null  int64  \n",
      " 15  net_trust       384494 non-null  int64  \n",
      " 16  total_news      384494 non-null  int64  \n",
      " 17  fake_prob       19337 non-null   float64\n",
      " 18  net_trust_norm  19337 non-null   float64\n",
      " 19  fake            384494 non-null  int64  \n",
      "dtypes: float64(2), int64(15), object(3)\n",
      "memory usage: 61.6+ MB\n"
     ]
    }
   ],
   "source": [
    "df_feat.info()"
   ]
  },
  {
   "cell_type": "code",
   "execution_count": 62,
   "metadata": {},
   "outputs": [],
   "source": [
    "# df_feat.to_csv('datasets/verified_features_300k.csv', index=False)"
   ]
  },
  {
   "cell_type": "code",
   "execution_count": 38,
   "metadata": {},
   "outputs": [],
   "source": [
    "# df_feat = pd.read_csv(\"datasets/verified_features_300k.csv\")"
   ]
  },
  {
   "cell_type": "code",
   "execution_count": 54,
   "metadata": {},
   "outputs": [],
   "source": [
    "df_final = df_feat[\n",
    "     (df_feat['ScreenName'] != 'GossipCop') & (df_feat['ScreenName'] != 'PolitiFact')\n",
    "#      & (df_feat['net_trust_norm'] != 0)\n",
    "     & (df_feat['FriendsCount'] <= 10000)\n",
    "     & (df_feat['total_fake'] > 0)\n",
    "     & (df_feat['total_real'] > 0)\n",
    "\n",
    "\n",
    "    ].sort_values(['total_news', 'net_trust_norm', 'net_trust', 'FollowersCount'], ascending=False)"
   ]
  },
  {
   "cell_type": "code",
   "execution_count": 55,
   "metadata": {},
   "outputs": [
    {
     "name": "stdout",
     "output_type": "stream",
     "text": [
      "<class 'pandas.core.frame.DataFrame'>\n",
      "Int64Index: 2882 entries, 358546 to 152790\n",
      "Data columns (total 20 columns):\n",
      " #   Column          Non-Null Count  Dtype  \n",
      "---  ------          --------------  -----  \n",
      " 0   #ID             2882 non-null   int64  \n",
      " 1   ScreenName      2882 non-null   object \n",
      " 2   FriendsCount    2882 non-null   int64  \n",
      " 3   FollowersCount  2882 non-null   int64  \n",
      " 4   ListedCount     2882 non-null   int64  \n",
      " 5   StatusesCount   2882 non-null   int64  \n",
      " 6   uid             2882 non-null   int64  \n",
      " 7   pf_fake         2882 non-null   int64  \n",
      " 8   pf_real         2882 non-null   int64  \n",
      " 9   gc_fake         2882 non-null   int64  \n",
      " 10  gc_real         2882 non-null   int64  \n",
      " 11  description     2882 non-null   object \n",
      " 12  tweets          2882 non-null   object \n",
      " 13  total_fake      2882 non-null   int64  \n",
      " 14  total_real      2882 non-null   int64  \n",
      " 15  net_trust       2882 non-null   int64  \n",
      " 16  total_news      2882 non-null   int64  \n",
      " 17  fake_prob       2882 non-null   float64\n",
      " 18  net_trust_norm  2882 non-null   float64\n",
      " 19  fake            2882 non-null   int64  \n",
      "dtypes: float64(2), int64(15), object(3)\n",
      "memory usage: 472.8+ KB\n"
     ]
    }
   ],
   "source": [
    "df_final.info()"
   ]
  },
  {
   "cell_type": "code",
   "execution_count": 56,
   "metadata": {},
   "outputs": [],
   "source": [
    "df_final['fake'] = [1 if x >= 0.5 else 0 if x < 0.5 else 2 for x in df_final['fake_prob']]"
   ]
  },
  {
   "cell_type": "code",
   "execution_count": 57,
   "metadata": {},
   "outputs": [],
   "source": [
    "df_final.to_csv('datasets/verified_features_3k.csv', index=False)"
   ]
  },
  {
   "cell_type": "code",
   "execution_count": 58,
   "metadata": {},
   "outputs": [
    {
     "data": {
      "image/png": "[encoded data removed]",
      "text/plain": [
       "<Figure size 432x288 with 1 Axes>"
      ]
     },
     "metadata": {
      "needs_background": "light"
     },
     "output_type": "display_data"
    },
    {
     "data": {
      "image/png": "[encoded data removed]",
      "text/plain": [
       "<Figure size 432x288 with 1 Axes>"
      ]
     },
     "metadata": {
      "needs_background": "light"
     },
     "output_type": "display_data"
    },
    {
     "data": {
      "image/png": "[encoded data removed]",
      "text/plain": [
       "<Figure size 432x288 with 1 Axes>"
      ]
     },
     "metadata": {
      "needs_background": "light"
     },
     "output_type": "display_data"
    }
   ],
   "source": [
    "df_final.hist(column='fake_prob', bins=20)\n",
    "df_final.hist(column='FriendsCount', bins=20)\n",
    "df_final.hist(column='FollowersCount', bins=20)\n",
    "\n",
    "plt.show()"
   ]
  },
  {
   "cell_type": "code",
   "execution_count": 59,
   "metadata": {},
   "outputs": [
    {
     "data": {
      "image/png": "[encoded data removed]",
      "text/plain": [
       "<Figure size 432x288 with 1 Axes>"
      ]
     },
     "metadata": {
      "needs_background": "light"
     },
     "output_type": "display_data"
    }
   ],
   "source": [
    "df_final[\"fake\"].value_counts().plot.bar()\n",
    "plt.show()"
   ]
  },
  {
   "cell_type": "code",
   "execution_count": 60,
   "metadata": {},
   "outputs": [
    {
     "data": {
      "text/plain": [
       "1    1539\n",
       "0    1343\n",
       "Name: fake, dtype: int64"
      ]
     },
     "execution_count": 60,
     "metadata": {},
     "output_type": "execute_result"
    }
   ],
   "source": [
    "df_final[\"fake\"].value_counts()"
   ]
  },
  {
   "cell_type": "code",
   "execution_count": 62,
   "metadata": {},
   "outputs": [],
   "source": [
    "dat = pd.read_csv(\"datasets/verified.dat\")"
   ]
  },
  {
   "cell_type": "code",
   "execution_count": 63,
   "metadata": {},
   "outputs": [
    {
     "name": "stdout",
     "output_type": "stream",
     "text": [
      "<class 'pandas.core.frame.DataFrame'>\n",
      "Int64Index: 2882 entries, 769 to 384480\n",
      "Data columns (total 14 columns):\n",
      " #   Column           Non-Null Count  Dtype \n",
      "---  ------           --------------  ----- \n",
      " 0   #ID              2882 non-null   int64 \n",
      " 1   ScreenName       2882 non-null   object\n",
      " 2   Protected        2882 non-null   bool  \n",
      " 3   Verified         2882 non-null   bool  \n",
      " 4   FriendsCount     2882 non-null   int64 \n",
      " 5   FollowersCount   2882 non-null   int64 \n",
      " 6   ListedCount      2882 non-null   int64 \n",
      " 7   StatusesCount    2882 non-null   int64 \n",
      " 8   CreatedAt        2882 non-null   object\n",
      " 9   URL              2882 non-null   object\n",
      " 10  ProfileImageURL  2882 non-null   object\n",
      " 11  Location         2620 non-null   object\n",
      " 12  Relation         2882 non-null   object\n",
      " 13  Subject          2882 non-null   object\n",
      "dtypes: bool(2), int64(5), object(7)\n",
      "memory usage: 298.3+ KB\n"
     ]
    }
   ],
   "source": [
    "filtered = dat[dat['#ID'].isin(list(df_final['#ID']))]\n",
    "filtered.info()"
   ]
  },
  {
   "cell_type": "code",
   "execution_count": 64,
   "metadata": {},
   "outputs": [],
   "source": [
    "# filtered.to_csv('datasets/verified_3k.dat', index = False)"
   ]
  }
 ],
 "metadata": {
  "interpreter": {
   "hash": "b3ba2566441a7c06988d0923437866b63cedc61552a5af99d1f4fb67d367b25f"
  },
  "kernelspec": {
   "display_name": "Python 3.8.5 64-bit ('base': conda)",
   "name": "python3"
  },
  "language_info": {
   "codemirror_mode": {
    "name": "ipython",
    "version": 3
   },
   "file_extension": ".py",
   "mimetype": "text/x-python",
   "name": "python",
   "nbconvert_exporter": "python",
   "pygments_lexer": "ipython3",
   "version": "3.8.5"
  }
 },
 "nbformat": 4,
 "nbformat_minor": 2
}
